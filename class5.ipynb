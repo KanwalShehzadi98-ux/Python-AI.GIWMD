{
  "cells": [
    {
      "cell_type": "markdown",
      "metadata": {
        "id": "81uSXBrQZy7q"
      },
      "source": [
        "* LIST ITERATION OPERATION WITH LOOP\n",
        "* APPLY ANY OPERATION ON LIST"
      ]
    },
    {
      "cell_type": "code",
      "execution_count": null,
      "metadata": {
        "colab": {
          "background_save": true
        },
        "id": "TOuEhQfmX3fK",
        "outputId": "1597d3a0-1bc8-45c4-9f27-ee1630c5afa3"
      },
      "outputs": [
        {
          "name": "stdout",
          "output_type": "stream",
          "text": [
            "['A', 'B', 'C']\n"
          ]
        }
      ],
      "source": [
        "names : list[str] = [\"A\",\"B\",\"C\"]\n",
        "print(names)"
      ]
    },
    {
      "cell_type": "code",
      "execution_count": null,
      "metadata": {
        "id": "V3vwGO7Eabcl"
      },
      "outputs": [],
      "source": []
    }
  ],
  "metadata": {
    "colab": {
      "provenance": []
    },
    "kernelspec": {
      "display_name": "Python 3",
      "name": "python3"
    },
    "language_info": {
      "name": "python"
    }
  },
  "nbformat": 4,
  "nbformat_minor": 0
}