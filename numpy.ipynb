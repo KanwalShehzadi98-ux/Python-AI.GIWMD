{
 "cells": [
  {
   "cell_type": "markdown",
   "metadata": {},
   "source": [
    "* np.array()\n",
    "* np.arange()\n",
    "* np.random.randint()\n",
    "* np.in1d()\n",
    "* np.intersect1d()\n",
    "* Boolean Indexing\n",
    "* np.where"
   ]
  },
  {
   "cell_type": "markdown",
   "metadata": {},
   "source": [
    "# __SCALAR VALUE__"
   ]
  },
  {
   "cell_type": "code",
   "execution_count": 1,
   "metadata": {},
   "outputs": [
    {
     "name": "stdout",
     "output_type": "stream",
     "text": [
      "<class 'numpy.ndarray'>\n",
      "int32\n",
      "1\n",
      "()\n",
      "4\n",
      "0\n"
     ]
    }
   ],
   "source": [
    "import numpy as np\n",
    "\n",
    "a : np.ndarray = np.array(1000)\n",
    "print(type(a))\n",
    "print(a.dtype)\n",
    "print(a.size)\n",
    "print(a.shape)\n",
    "print(a.itemsize)\n",
    "print(a.ndim)"
   ]
  },
  {
   "cell_type": "markdown",
   "metadata": {},
   "source": [
    "# __VECTOR VALUE__"
   ]
  },
  {
   "cell_type": "code",
   "execution_count": 2,
   "metadata": {},
   "outputs": [
    {
     "name": "stdout",
     "output_type": "stream",
     "text": [
      "<class 'numpy.ndarray'>\n",
      "int32\n",
      "3\n",
      "(3,)\n",
      "4\n",
      "1\n"
     ]
    }
   ],
   "source": [
    "import numpy as np\n",
    "a : np.ndarray = np.array([1,2,3])\n",
    "print(type(a))\n",
    "print(a.dtype)\n",
    "print(a.size)\n",
    "print(a.shape)\n",
    "print(a.itemsize)\n",
    "print(a.ndim)"
   ]
  },
  {
   "cell_type": "markdown",
   "metadata": {},
   "source": [
    "# __MATRIX__"
   ]
  },
  {
   "cell_type": "code",
   "execution_count": 4,
   "metadata": {},
   "outputs": [
    {
     "name": "stdout",
     "output_type": "stream",
     "text": [
      "<class 'numpy.ndarray'>\n",
      "int32\n",
      "6\n",
      "(2, 3)\n",
      "4\n",
      "2\n"
     ]
    }
   ],
   "source": [
    "import numpy as np\n",
    "a : np.ndarray = np.array([[1,2,3],[3,4,5]])\n",
    "print(type(a))\n",
    "print(a.dtype)\n",
    "print(a.size)\n",
    "print(a.shape)\n",
    "print(a.itemsize)\n",
    "print(a.ndim)"
   ]
  },
  {
   "cell_type": "markdown",
   "metadata": {},
   "source": [
    "# _Numpy With NDArray Typing Support_"
   ]
  },
  {
   "cell_type": "code",
   "execution_count": 9,
   "metadata": {},
   "outputs": [
    {
     "name": "stdout",
     "output_type": "stream",
     "text": [
      "Requirement already satisfied: nptyping in c:\\users\\dell\\.conda\\envs\\python12\\lib\\site-packages (2.5.0)\n",
      "Collecting beartype\n",
      "  Downloading beartype-0.17.2-py3-none-any.whl.metadata (30 kB)\n",
      "Requirement already satisfied: numpy<2.0.0,>=1.20.0 in c:\\users\\dell\\.conda\\envs\\python12\\lib\\site-packages (from nptyping) (1.26.4)\n",
      "Downloading beartype-0.17.2-py3-none-any.whl (872 kB)\n",
      "   ---------------------------------------- 0.0/872.4 kB ? eta -:--:--\n",
      "   ---- ----------------------------------- 92.2/872.4 kB 5.1 MB/s eta 0:00:01\n",
      "   ------ --------------------------------- 143.4/872.4 kB 1.7 MB/s eta 0:00:01\n",
      "   -------- ------------------------------- 194.6/872.4 kB 1.2 MB/s eta 0:00:01\n",
      "   ---------- ----------------------------- 225.3/872.4 kB 1.1 MB/s eta 0:00:01\n",
      "   ---------- ----------------------------- 235.5/872.4 kB 1.0 MB/s eta 0:00:01\n",
      "   ------------ ------------------------- 286.7/872.4 kB 930.9 kB/s eta 0:00:01\n",
      "   -------------- ----------------------- 337.9/872.4 kB 952.6 kB/s eta 0:00:01\n",
      "   ---------------- --------------------- 368.6/872.4 kB 916.6 kB/s eta 0:00:01\n",
      "   ----------------- -------------------- 409.6/872.4 kB 911.8 kB/s eta 0:00:01\n",
      "   -------------------- ----------------- 460.8/872.4 kB 929.0 kB/s eta 0:00:01\n",
      "   ----------------------- -------------- 532.5/872.4 kB 902.0 kB/s eta 0:00:01\n",
      "   ------------------------ ------------- 563.2/872.4 kB 884.7 kB/s eta 0:00:01\n",
      "   --------------------------- ---------- 624.6/872.4 kB 914.3 kB/s eta 0:00:01\n",
      "   ---------------------------- --------- 655.4/872.4 kB 916.4 kB/s eta 0:00:01\n",
      "   ------------------------------ ------- 706.6/872.4 kB 909.0 kB/s eta 0:00:01\n",
      "   -------------------------------- ----- 747.5/872.4 kB 889.4 kB/s eta 0:00:01\n",
      "   ---------------------------------- --- 798.7/872.4 kB 901.1 kB/s eta 0:00:01\n",
      "   ------------------------------------ - 829.4/872.4 kB 903.2 kB/s eta 0:00:01\n",
      "   -------------------------------------  870.4/872.4 kB 901.6 kB/s eta 0:00:01\n",
      "   -------------------------------------  870.4/872.4 kB 901.6 kB/s eta 0:00:01\n",
      "   -------------------------------------- 872.4/872.4 kB 823.5 kB/s eta 0:00:00\n",
      "Installing collected packages: beartype\n",
      "Successfully installed beartype-0.17.2\n"
     ]
    }
   ],
   "source": [
    "!pip install nptyping beartype"
   ]
  },
  {
   "cell_type": "code",
   "execution_count": 11,
   "metadata": {},
   "outputs": [
    {
     "data": {
      "text/plain": [
       "array([0, 1, 2, 3, 4, 5, 6, 7, 8, 9])"
      ]
     },
     "execution_count": 11,
     "metadata": {},
     "output_type": "execute_result"
    }
   ],
   "source": [
    "from nptyping import NDArray,Shape,UInt64\n",
    "\n",
    "data : NDArray[Shape[\"10\"],UInt64] = np.arange(10)\n",
    "data \n"
   ]
  },
  {
   "cell_type": "code",
   "execution_count": 12,
   "metadata": {},
   "outputs": [
    {
     "data": {
      "text/plain": [
       "array([ 1,  3,  5,  7,  9, 11, 13, 15, 17, 19, 21, 23, 25, 27, 29, 31, 33,\n",
       "       35, 37, 39, 41, 43, 45, 47, 49])"
      ]
     },
     "execution_count": 12,
     "metadata": {},
     "output_type": "execute_result"
    }
   ],
   "source": [
    "from nptyping import NDArray,Shape,UInt64\n",
    "\n",
    "data : NDArray[Shape[\"10\"],UInt64] = np.arange(1,50,2)\n",
    "data \n"
   ]
  },
  {
   "cell_type": "code",
   "execution_count": 15,
   "metadata": {},
   "outputs": [
    {
     "data": {
      "text/plain": [
       "array([11, 13, 15, 17, 19, 21, 23, 25, 27, 29, 31, 33, 35, 37, 39, 41, 43,\n",
       "       45, 47, 49, 51, 53, 55, 57, 59])"
      ]
     },
     "execution_count": 15,
     "metadata": {},
     "output_type": "execute_result"
    }
   ],
   "source": [
    "from nptyping import NDArray,Shape\n",
    "from typing import Any\n",
    "\n",
    "data : NDArray[Shape[\"10\"],Any] = np.arange(1,50,2)\n",
    "data + 10 "
   ]
  },
  {
   "cell_type": "markdown",
   "metadata": {},
   "source": [
    "# To see time for execution"
   ]
  },
  {
   "cell_type": "code",
   "execution_count": 16,
   "metadata": {},
   "outputs": [
    {
     "name": "stdout",
     "output_type": "stream",
     "text": [
      "CPU times: total: 0 ns\n",
      "Wall time: 0 ns\n"
     ]
    },
    {
     "data": {
      "text/plain": [
       "array([11, 13, 15, 17, 19, 21, 23, 25, 27, 29, 31, 33, 35, 37, 39, 41, 43,\n",
       "       45, 47, 49, 51, 53, 55, 57, 59])"
      ]
     },
     "execution_count": 16,
     "metadata": {},
     "output_type": "execute_result"
    }
   ],
   "source": [
    "%%time\n",
    "from nptyping import NDArray,Shape\n",
    "from typing import Any\n",
    "\n",
    "data : NDArray[Shape[\"10\"],Any] = np.arange(1,50,2)\n",
    "data + 10 "
   ]
  },
  {
   "cell_type": "markdown",
   "metadata": {},
   "source": [
    "## _NUMPY ADVANCED OPERATIONS VS LIST OPERATIONS_ "
   ]
  },
  {
   "cell_type": "markdown",
   "metadata": {},
   "source": [
    "# __LIST__"
   ]
  },
  {
   "cell_type": "code",
   "execution_count": 18,
   "metadata": {},
   "outputs": [
    {
     "name": "stdout",
     "output_type": "stream",
     "text": [
      "[1, 2, 3, 4, 5, 6, 7, 8, 9, 10, 11, 12, 13, 14, 15, 16, 17, 18, 19, 20]\n",
      "[6, 7, 8, 9, 10, 11]\n",
      "[1, 2, 3, 4, 5, 1000, 7, 8, 9, 10, 11, 12, 13, 14, 15, 16, 17, 18, 19, 20]\n"
     ]
    }
   ],
   "source": [
    "data : list[int] = list(range(1,21))\n",
    "print(data)\n",
    "print(data[5:11])\n",
    "data[5] = 1000\n",
    "print(data)"
   ]
  },
  {
   "cell_type": "code",
   "execution_count": 19,
   "metadata": {},
   "outputs": [
    {
     "name": "stdout",
     "output_type": "stream",
     "text": [
      "[1, 2, 3, 4, 5, 6, 7, 8, 9, 10, 11, 12, 13, 14, 15, 16, 17, 18, 19, 20]\n",
      "[6, 7, 8, 9, 10, 11]\n"
     ]
    },
    {
     "ename": "TypeError",
     "evalue": "can only assign an iterable",
     "output_type": "error",
     "traceback": [
      "\u001b[1;31m---------------------------------------------------------------------------\u001b[0m",
      "\u001b[1;31mTypeError\u001b[0m                                 Traceback (most recent call last)",
      "Cell \u001b[1;32mIn[19], line 4\u001b[0m\n\u001b[0;32m      2\u001b[0m \u001b[38;5;28mprint\u001b[39m(data)\n\u001b[0;32m      3\u001b[0m \u001b[38;5;28mprint\u001b[39m(data[\u001b[38;5;241m5\u001b[39m:\u001b[38;5;241m11\u001b[39m])\n\u001b[1;32m----> 4\u001b[0m \u001b[43mdata\u001b[49m\u001b[43m[\u001b[49m\u001b[38;5;241;43m5\u001b[39;49m\u001b[43m:\u001b[49m\u001b[38;5;241;43m11\u001b[39;49m\u001b[43m]\u001b[49m \u001b[38;5;241m=\u001b[39m \u001b[38;5;241m1000\u001b[39m\n\u001b[0;32m      5\u001b[0m \u001b[38;5;28mprint\u001b[39m(data)\n",
      "\u001b[1;31mTypeError\u001b[0m: can only assign an iterable"
     ]
    }
   ],
   "source": [
    "data : list[int] = list(range(1,21))\n",
    "print(data)\n",
    "print(data[5:11])\n",
    "data[5:11] = 1000\n",
    "print(data)"
   ]
  },
  {
   "cell_type": "markdown",
   "metadata": {},
   "source": [
    "# __NUMPY__"
   ]
  },
  {
   "cell_type": "code",
   "execution_count": 21,
   "metadata": {},
   "outputs": [
    {
     "name": "stdout",
     "output_type": "stream",
     "text": [
      "[ 1  2  3  4  5  6  7  8  9 10 11 12 13 14 15 16 17 18 19 20]\n",
      "[ 6  7  8  9 10 11]\n",
      "[   1    2    3    4    5 1000 1000 1000 1000 1000 1000   12   13   14\n",
      "   15   16   17   18   19   20]\n"
     ]
    }
   ],
   "source": [
    "ndata : NDArray[Shape[\"20\"],Any] = np.arange(1,21)\n",
    "print(ndata)\n",
    "print(ndata[5:11])\n",
    "ndata[5:11] = 1000\n",
    "print(ndata)"
   ]
  },
  {
   "cell_type": "markdown",
   "metadata": {},
   "source": [
    "## __NUMPY 1D FUNCTIONS__"
   ]
  },
  {
   "cell_type": "code",
   "execution_count": 38,
   "metadata": {},
   "outputs": [
    {
     "name": "stdout",
     "output_type": "stream",
     "text": [
      "[ 1  7  8 10]\n",
      "[60 90  3 31 87 89 49 81 71  8 52  4 29 75 25 21 32 69 73 83]\n"
     ]
    }
   ],
   "source": [
    "state_bank : NDArray[Shape[\"10\"],Any] = np.array([1,7,8,10])\n",
    "ubl_bank : NDArray[Shape[\"100\"],Any] = np.random.randint(1,100,20) #1 se 100 k drmian 20 number generate kr do\n",
    "print(state_bank)\n",
    "print(ubl_bank)"
   ]
  },
  {
   "cell_type": "code",
   "execution_count": 39,
   "metadata": {},
   "outputs": [
    {
     "data": {
      "text/plain": [
       "array([False, False,  True, False])"
      ]
     },
     "execution_count": 39,
     "metadata": {},
     "output_type": "execute_result"
    }
   ],
   "source": [
    "np.in1d(state_bank,ubl_bank) # np.in1d(konse elements dhondhwane hain,kahan se dhundhwane hn)"
   ]
  },
  {
   "cell_type": "markdown",
   "metadata": {},
   "source": [
    "# __INTERSECTION__"
   ]
  },
  {
   "cell_type": "code",
   "execution_count": 40,
   "metadata": {},
   "outputs": [
    {
     "data": {
      "text/plain": [
       "array([8])"
      ]
     },
     "execution_count": 40,
     "metadata": {},
     "output_type": "execute_result"
    }
   ],
   "source": [
    "np.intersect1d(state_bank,ubl_bank)"
   ]
  },
  {
   "cell_type": "markdown",
   "metadata": {},
   "source": [
    "# __BOOLEAN INDEXING__"
   ]
  },
  {
   "cell_type": "code",
   "execution_count": 30,
   "metadata": {},
   "outputs": [
    {
     "data": {
      "text/plain": [
       "array([ 1, 10])"
      ]
     },
     "execution_count": 30,
     "metadata": {},
     "output_type": "execute_result"
    }
   ],
   "source": [
    "from nptyping import Bool\n",
    "state_bank : NDArray[Shape[\"10\"],Any] = np.array([1,7,8,10])\n",
    "select : NDArray[Shape['10'],Bool] = np.array([True,False,False,True])\n",
    "\n",
    "state_bank[select]"
   ]
  },
  {
   "cell_type": "code",
   "execution_count": 31,
   "metadata": {},
   "outputs": [
    {
     "data": {
      "text/plain": [
       "array([ 8, 10])"
      ]
     },
     "execution_count": 31,
     "metadata": {},
     "output_type": "execute_result"
    }
   ],
   "source": [
    "state_bank : NDArray[Shape[\"10\"],Any] = np.array([1,7,8,10])\n",
    "state_bank[state_bank % 2 == 0]"
   ]
  },
  {
   "cell_type": "markdown",
   "metadata": {},
   "source": [
    "# __where__"
   ]
  },
  {
   "cell_type": "code",
   "execution_count": 41,
   "metadata": {},
   "outputs": [
    {
     "data": {
      "text/plain": [
       "array([12, 13, 14, 15])"
      ]
     },
     "execution_count": 41,
     "metadata": {},
     "output_type": "execute_result"
    }
   ],
   "source": [
    "x : NDArray[Shape[\"10\"],Any] = np.array([1,7,8,10])\n",
    "y : NDArray[Shape[\"10\"],Any] = np.array([12,13,14,15])\n",
    "np.where(x > y,x,y)"
   ]
  },
  {
   "cell_type": "markdown",
   "metadata": {},
   "source": [
    "### __CREATE NUMPY ARRAYS__"
   ]
  },
  {
   "cell_type": "code",
   "execution_count": 43,
   "metadata": {},
   "outputs": [],
   "source": [
    "a : NDArray[Shape[\"Size,Size\"],Any] = np.array([[1,2,3],\n",
    "                                                   [4,5,6]])\n",
    "\n",
    "b : NDArray[Shape[\"*,*\"],Any] = np.array([[1,2,3],\n",
    "                                                   [4,5,6]])\n",
    "\n",
    "c : NDArray[Shape[\"Size,Size\"],Any] = np.array([[\"A\"],\n",
    "                                                   [\"B\"]])"
   ]
  },
  {
   "cell_type": "code",
   "execution_count": 44,
   "metadata": {},
   "outputs": [
    {
     "name": "stdout",
     "output_type": "stream",
     "text": [
      "Name            Shape            Bytes            Type\n",
      "===========================================================\n",
      "\n",
      "_               4                16               int32\n",
      "__              1                4                int32\n",
      "___             4                4                bool\n",
      "a               2 x 3            24               int32\n",
      "_11             10               40               int32\n",
      "_12             25               100              int32\n",
      "_13             25               100              int32\n",
      "_14             25               100              int32\n",
      "_15             25               100              int32\n",
      "_16             25               100              int32\n",
      "ndata           20               80               int32\n",
      "state_bank      4                16               int32\n",
      "ubl_bank        20               80               int32\n",
      "select          4                4                bool\n",
      "_24             2                8                int32\n",
      "_25             2                8                int32\n",
      "_27             2                8                int32\n",
      "_28             2                8                int32\n",
      "_30             2                8                int32\n",
      "_31             2                8                int32\n",
      "_33             4                4                bool\n",
      "_35             4                4                bool\n",
      "_36             4                4                bool\n",
      "_37             0                0                int32\n",
      "_39 (___)       4                4                bool\n",
      "_40 (__)        1                4                int32\n",
      "x               4                16               int32\n",
      "y               4                16               int32\n",
      "_41 (_)         4                16               int32\n",
      "b               2 x 3            24               int32\n",
      "c               2 x 1            8                str32\n",
      "\n",
      "Upper bound on total bytes  =       892\n"
     ]
    }
   ],
   "source": [
    "np.who()"
   ]
  },
  {
   "cell_type": "markdown",
   "metadata": {},
   "source": [
    "# Create any dimension array"
   ]
  },
  {
   "cell_type": "code",
   "execution_count": 52,
   "metadata": {},
   "outputs": [
    {
     "name": "stdout",
     "output_type": "stream",
     "text": [
      "[[0 1 2]\n",
      " [3 4 5]\n",
      " [6 7 8]]\n",
      "[[ 0  1  2]\n",
      " [ 3  4  5]\n",
      " [ 6  7  8]\n",
      " [ 9 10 11]\n",
      " [12 13 14]]\n"
     ]
    }
   ],
   "source": [
    "a : NDArray[Shape[\"Size\"],Any] = np.arange(3*3).reshape(3,3)\n",
    "b : NDArray[Shape[\"Size,Size\"],Any] = np.arange(5*3).reshape(5,3)\n",
    "print(a)\n",
    "print(b)"
   ]
  },
  {
   "cell_type": "code",
   "execution_count": 53,
   "metadata": {},
   "outputs": [
    {
     "name": "stdout",
     "output_type": "stream",
     "text": [
      "[[[ 0  1  2]\n",
      "  [ 3  4  5]\n",
      "  [ 6  7  8]]\n",
      "\n",
      " [[ 9 10 11]\n",
      "  [12 13 14]\n",
      "  [15 16 17]]\n",
      "\n",
      " [[18 19 20]\n",
      "  [21 22 23]\n",
      "  [24 25 26]]\n",
      "\n",
      " [[27 28 29]\n",
      "  [30 31 32]\n",
      "  [33 34 35]]\n",
      "\n",
      " [[36 37 38]\n",
      "  [39 40 41]\n",
      "  [42 43 44]]]\n",
      "[[[ 0  1]\n",
      "  [ 2  3]]\n",
      "\n",
      " [[ 4  5]\n",
      "  [ 6  7]]\n",
      "\n",
      " [[ 8  9]\n",
      "  [10 11]]\n",
      "\n",
      " [[12 13]\n",
      "  [14 15]]\n",
      "\n",
      " [[16 17]\n",
      "  [18 19]]]\n"
     ]
    }
   ],
   "source": [
    "a : NDArray[Shape[\"Size,Size,Size\"],Any] = np.arange(5*3*3).reshape(5,3,3)\n",
    "b : NDArray[Shape[\"Size,Size,Size\"],Any] = np.arange(5*2*2).reshape(5,2,2)\n",
    "print(a)\n",
    "print(b)"
   ]
  },
  {
   "cell_type": "code",
   "execution_count": 57,
   "metadata": {},
   "outputs": [
    {
     "name": "stdout",
     "output_type": "stream",
     "text": [
      "[[[ 0  1  2]\n",
      "  [ 3  4  5]\n",
      "  [ 6  7  8]]\n",
      "\n",
      " [[ 9 10 11]\n",
      "  [12 13 14]\n",
      "  [15 16 17]]\n",
      "\n",
      " [[18 19 20]\n",
      "  [21 22 23]\n",
      "  [24 25 26]]\n",
      "\n",
      " [[27 28 29]\n",
      "  [30 31 32]\n",
      "  [33 34 35]]\n",
      "\n",
      " [[36 37 38]\n",
      "  [39 40 41]\n",
      "  [42 43 44]]]\n"
     ]
    }
   ],
   "source": [
    "a : NDArray[Shape[\"Size,Size,Size\"],Any] = np.arange(5*3*3).reshape(5,3,3)\n",
    "print(a[::,::,::])"
   ]
  },
  {
   "cell_type": "code",
   "execution_count": 56,
   "metadata": {},
   "outputs": [
    {
     "name": "stdout",
     "output_type": "stream",
     "text": [
      "[[[ 0  1  2]\n",
      "  [ 3  4  5]\n",
      "  [ 6  7  8]]\n",
      "\n",
      " [[18 19 20]\n",
      "  [21 22 23]\n",
      "  [24 25 26]]\n",
      "\n",
      " [[36 37 38]\n",
      "  [39 40 41]\n",
      "  [42 43 44]]]\n"
     ]
    }
   ],
   "source": [
    "a : NDArray[Shape[\"Size,Size,Size\"],Any] = np.arange(5*3*3).reshape(5,3,3)\n",
    "print(a[::2,::,::])"
   ]
  },
  {
   "cell_type": "code",
   "execution_count": 58,
   "metadata": {},
   "outputs": [
    {
     "name": "stdout",
     "output_type": "stream",
     "text": [
      "[[[ 0  1  2]\n",
      "  [ 6  7  8]]\n",
      "\n",
      " [[ 9 10 11]\n",
      "  [15 16 17]]\n",
      "\n",
      " [[18 19 20]\n",
      "  [24 25 26]]\n",
      "\n",
      " [[27 28 29]\n",
      "  [33 34 35]]\n",
      "\n",
      " [[36 37 38]\n",
      "  [42 43 44]]]\n"
     ]
    }
   ],
   "source": [
    "a : NDArray[Shape[\"Size,Size,Size\"],Any] = np.arange(5*3*3).reshape(5,3,3)\n",
    "print(a[::,::2,::])"
   ]
  },
  {
   "cell_type": "code",
   "execution_count": 59,
   "metadata": {},
   "outputs": [
    {
     "name": "stdout",
     "output_type": "stream",
     "text": [
      "[[[ 0  2]\n",
      "  [ 3  5]\n",
      "  [ 6  8]]\n",
      "\n",
      " [[ 9 11]\n",
      "  [12 14]\n",
      "  [15 17]]\n",
      "\n",
      " [[18 20]\n",
      "  [21 23]\n",
      "  [24 26]]\n",
      "\n",
      " [[27 29]\n",
      "  [30 32]\n",
      "  [33 35]]\n",
      "\n",
      " [[36 38]\n",
      "  [39 41]\n",
      "  [42 44]]]\n"
     ]
    }
   ],
   "source": [
    "a : NDArray[Shape[\"Size,Size,Size\"],Any] = np.arange(5*3*3).reshape(5,3,3)\n",
    "print(a[::,::,::2])"
   ]
  },
  {
   "cell_type": "code",
   "execution_count": 60,
   "metadata": {},
   "outputs": [
    {
     "name": "stdout",
     "output_type": "stream",
     "text": [
      "[ 0  2  4  6  8 10 12 14 16 18 20 22 24 26 28 30 32 34 36 38 40 42 44]\n"
     ]
    }
   ],
   "source": [
    "a : NDArray[Shape[\"Size,Size,Size\"],Any] = np.arange(5*3*3).reshape(5,3,3)\n",
    "print(a[a % 2 == 0])"
   ]
  },
  {
   "cell_type": "code",
   "execution_count": 61,
   "metadata": {},
   "outputs": [
    {
     "data": {
      "text/plain": [
       "array([1, 2, 3, 4, 5])"
      ]
     },
     "execution_count": 61,
     "metadata": {},
     "output_type": "execute_result"
    }
   ],
   "source": [
    "np.asarray([1,2,3,4,5])"
   ]
  },
  {
   "cell_type": "code",
   "execution_count": 62,
   "metadata": {},
   "outputs": [
    {
     "data": {
      "text/plain": [
       "array([0., 0., 0., 0., 0., 0., 0., 0., 0., 0.])"
      ]
     },
     "execution_count": 62,
     "metadata": {},
     "output_type": "execute_result"
    }
   ],
   "source": [
    "np.zeros(10)"
   ]
  },
  {
   "cell_type": "code",
   "execution_count": 63,
   "metadata": {},
   "outputs": [
    {
     "data": {
      "text/plain": [
       "array([[0., 0.],\n",
       "       [0., 0.]])"
      ]
     },
     "execution_count": 63,
     "metadata": {},
     "output_type": "execute_result"
    }
   ],
   "source": [
    "np.zeros([2,2])"
   ]
  },
  {
   "cell_type": "code",
   "execution_count": 68,
   "metadata": {},
   "outputs": [
    {
     "data": {
      "text/plain": [
       "array([1., 1., 1.])"
      ]
     },
     "execution_count": 68,
     "metadata": {},
     "output_type": "execute_result"
    }
   ],
   "source": [
    "np.ones(3)"
   ]
  },
  {
   "cell_type": "code",
   "execution_count": 67,
   "metadata": {},
   "outputs": [
    {
     "data": {
      "text/plain": [
       "array([[1., 1.],\n",
       "       [1., 1.]])"
      ]
     },
     "execution_count": 67,
     "metadata": {},
     "output_type": "execute_result"
    }
   ],
   "source": [
    "np.ones([2,2])"
   ]
  },
  {
   "cell_type": "code",
   "execution_count": 71,
   "metadata": {},
   "outputs": [
    {
     "data": {
      "text/plain": [
       "array([[[1, 1, 1],\n",
       "        [1, 1, 1],\n",
       "        [1, 1, 1]],\n",
       "\n",
       "       [[1, 1, 1],\n",
       "        [1, 1, 1],\n",
       "        [1, 1, 1]],\n",
       "\n",
       "       [[1, 1, 1],\n",
       "        [1, 1, 1],\n",
       "        [1, 1, 1]],\n",
       "\n",
       "       [[1, 1, 1],\n",
       "        [1, 1, 1],\n",
       "        [1, 1, 1]],\n",
       "\n",
       "       [[1, 1, 1],\n",
       "        [1, 1, 1],\n",
       "        [1, 1, 1]]])"
      ]
     },
     "execution_count": 71,
     "metadata": {},
     "output_type": "execute_result"
    }
   ],
   "source": [
    "np.ones_like(a) #a ka skeleton hoga but value 1 hogy"
   ]
  },
  {
   "cell_type": "code",
   "execution_count": 73,
   "metadata": {},
   "outputs": [
    {
     "data": {
      "text/plain": [
       "array([[[ 0,  1,  2],\n",
       "        [ 3,  4,  5],\n",
       "        [ 6,  7,  8]],\n",
       "\n",
       "       [[ 9, 10, 11],\n",
       "        [12, 13, 14],\n",
       "        [15, 16, 17]],\n",
       "\n",
       "       [[18, 19, 20],\n",
       "        [21, 22, 23],\n",
       "        [24, 25, 26]],\n",
       "\n",
       "       [[27, 28, 29],\n",
       "        [30, 31, 32],\n",
       "        [33, 34, 35]]])"
      ]
     },
     "execution_count": 73,
     "metadata": {},
     "output_type": "execute_result"
    }
   ],
   "source": [
    "a : NDArray[Shape[\"Size,Size,Size\"],Any] = np.arange(5*3*3).reshape(5,3,3)\n",
    "a[0:-1,::,::]"
   ]
  },
  {
   "cell_type": "code",
   "execution_count": 74,
   "metadata": {},
   "outputs": [
    {
     "data": {
      "text/plain": [
       "array([[[ 0,  1,  2],\n",
       "        [ 3,  4,  5],\n",
       "        [ 6,  7,  8]],\n",
       "\n",
       "       [[36, 37, 38],\n",
       "        [39, 40, 41],\n",
       "        [42, 43, 44]]])"
      ]
     },
     "execution_count": 74,
     "metadata": {},
     "output_type": "execute_result"
    }
   ],
   "source": [
    "a : NDArray[Shape[\"Size,Size,Size\"],Any] = np.arange(5*3*3).reshape(5,3,3)\n",
    "a[[0,-1],::,::]"
   ]
  },
  {
   "cell_type": "code",
   "execution_count": 77,
   "metadata": {},
   "outputs": [
    {
     "name": "stdout",
     "output_type": "stream",
     "text": [
      "1\n",
      "10\n",
      "10\n",
      "3\n",
      "0\n"
     ]
    }
   ],
   "source": [
    "state_bank : NDArray[Shape[\"10\"],Any] = np.array([1,7,8,10])\n",
    "print(state_bank.min())\n",
    "print(state_bank.max())\n",
    "print(state_bank.max())\n",
    "print(state_bank.argmax())\n",
    "print(state_bank.argmin())"
   ]
  },
  {
   "cell_type": "code",
   "execution_count": null,
   "metadata": {},
   "outputs": [],
   "source": []
  }
 ],
 "metadata": {
  "kernelspec": {
   "display_name": "python12",
   "language": "python",
   "name": "python3"
  },
  "language_info": {
   "codemirror_mode": {
    "name": "ipython",
    "version": 3
   },
   "file_extension": ".py",
   "mimetype": "text/x-python",
   "name": "python",
   "nbconvert_exporter": "python",
   "pygments_lexer": "ipython3",
   "version": "3.12.0"
  }
 },
 "nbformat": 4,
 "nbformat_minor": 2
}
