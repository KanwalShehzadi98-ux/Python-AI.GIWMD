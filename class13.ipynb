{
  "nbformat": 4,
  "nbformat_minor": 0,
  "metadata": {
    "colab": {
      "provenance": []
    },
    "kernelspec": {
      "name": "python3",
      "display_name": "Python 3"
    },
    "language_info": {
      "name": "python"
    }
  },
  "cells": [
    {
      "cell_type": "markdown",
      "source": [
        "# **INHERITANCE**"
      ],
      "metadata": {
        "id": "AZFuqi7CzSY0"
      }
    },
    {
      "cell_type": "code",
      "execution_count": null,
      "metadata": {
        "colab": {
          "base_uri": "https://localhost:8080/"
        },
        "id": "8UGdTqFuzJEC",
        "outputId": "9f4c1aa4-2914-43ce-dfa1-75782c5effad"
      },
      "outputs": [
        {
          "output_type": "stream",
          "name": "stdout",
          "text": [
            "Parent method speak = Hello\n",
            "You are watching Netflix\n"
          ]
        }
      ],
      "source": [
        "class Parents:\n",
        "  def __init__(self) -> None:\n",
        "    self.eye_color : str = \"brown\"\n",
        "    self.hair_color : str = \"Black\"\n",
        "\n",
        "  def speak(self,words : str) -> None:\n",
        "    print(f\"Parent method speak = {words}\")\n",
        "\n",
        "  def watching(self,object_name : str) -> None:\n",
        "    print(f\"You are watching {object_name}\")\n",
        "\n",
        "class Child(Parents):\n",
        "  def __init__(self) -> None:\n",
        "    super().__init__()\n",
        "\n",
        "obj1 = Child()\n",
        "obj1.speak(\"Hello\")\n",
        "obj1.watching(\"Netflix\")\n",
        "print(obj1.eye_color)\n",
        "print(obj1.hair_color)"
      ]
    },
    {
      "cell_type": "code",
      "source": [
        "class Parents:\n",
        "  def __init__(self) -> None:\n",
        "    self.eye_color : str = \"brown\"\n",
        "    self.hair_color : str = \"Black\"\n",
        "\n",
        "  def speak(self,words : str) -> None:\n",
        "    print(f\"Parent method speak = {words}\")\n",
        "\n",
        "  def watching(self,object_name : str) -> None:\n",
        "    print(f\"You are watching {object_name}\")\n",
        "\n",
        "class Child(Parents):\n",
        "  def __init__(self) -> None:\n",
        "    super().__init__()\n",
        "\n",
        "  def teaching(self,subject : str) -> None:\n",
        "    print(f\"Child is teaching {subject}\")\n",
        "\n",
        "obj1 = Child()\n",
        "obj1.speak(\"Hello\")\n",
        "obj1.watching(\"Netflix\")\n",
        "print(obj1.eye_color)\n",
        "print(obj1.hair_color)\n",
        "obj1.teaching(\"OOP\")"
      ],
      "metadata": {
        "colab": {
          "base_uri": "https://localhost:8080/"
        },
        "id": "CCQqtx3y2Ap2",
        "outputId": "2058b253-381b-4fa3-a122-b0ccd60d7cce"
      },
      "execution_count": null,
      "outputs": [
        {
          "output_type": "stream",
          "name": "stdout",
          "text": [
            "Parent method speak = Hello\n",
            "You are watching Netflix\n",
            "brown\n",
            "Black\n",
            "Child is teaching OOP\n"
          ]
        }
      ]
    },
    {
      "cell_type": "code",
      "source": [
        "class Employee:\n",
        "  def __init__(self,name : str,education : str,department : str) -> None:\n",
        "    self.name : str = name\n",
        "    self.education : str = education\n",
        "    self.department : str = department\n",
        "\n",
        "class Coder(Employee):\n",
        "  def __init__(self,name : str,education : str,department : str) -> None:\n",
        "    super().__init__(name,education,department)\n",
        "    self.language : list[str] = ['Python','R']\n",
        "\n",
        "class Designer(Employee):\n",
        "  def __init__(self,name : str,education : str,department : str,tool : str) -> None:\n",
        "    super().__init__(name,education,department)\n",
        "    self.tool : str = tool\n",
        "\n",
        "d1 : Coder = Coder(\"Kanwal\",\"BSE\",\"PM\",\"PMO\")\n",
        "d2 : Designer = Designer(\"Aown\",\"BSE\",\"Figma\",\"Lern\")\n",
        "\n",
        "print(d1.language)\n",
        "print(d2.education)"
      ],
      "metadata": {
        "id": "iR4H9Nea3pns"
      },
      "execution_count": null,
      "outputs": []
    },
    {
      "cell_type": "code",
      "source": [],
      "metadata": {
        "id": "61PdiGtg7zLo"
      },
      "execution_count": null,
      "outputs": []
    }
  ]
}