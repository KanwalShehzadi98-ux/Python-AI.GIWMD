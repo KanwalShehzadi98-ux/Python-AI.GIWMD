{
  "cells": [
    {
      "cell_type": "markdown",
      "metadata": {
        "id": "vWeYvovj6mVH"
      },
      "source": [
        "# **IF - ELIF - ELSE**\n",
        "```\n",
        "if logic:\n",
        "    true_block\n",
        "else:\n",
        "    false_block\n",
        "```\n",
        "\n",
        "# Comprehensive Style\n",
        " ```true_block if logic else false_block```\n"
      ]
    },
    {
      "cell_type": "code",
      "execution_count": null,
      "metadata": {
        "colab": {
          "base_uri": "https://localhost:8080/"
        },
        "id": "SF9_wqr55_GM",
        "outputId": "11296a3f-1717-49ab-f632-3cc981600a8a"
      },
      "outputs": [
        {
          "name": "stdout",
          "output_type": "stream",
          "text": [
            "Hello\n"
          ]
        }
      ],
      "source": [
        "if True:\n",
        "  print(\"Hello\")\n",
        "else:\n",
        "  print(\"Bye\")"
      ]
    },
    {
      "cell_type": "code",
      "execution_count": null,
      "metadata": {
        "colab": {
          "base_uri": "https://localhost:8080/"
        },
        "id": "aJdBCUrF75Bz",
        "outputId": "04ff39b5-8ef0-49ea-a5a9-acf06b63d87c"
      },
      "outputs": [
        {
          "name": "stdout",
          "output_type": "stream",
          "text": [
            "Bye\n"
          ]
        }
      ],
      "source": [
        "if False:\n",
        "  print(\"Hello\")\n",
        "else:\n",
        "  print(\"Bye\")"
      ]
    },
    {
      "cell_type": "code",
      "execution_count": null,
      "metadata": {
        "colab": {
          "base_uri": "https://localhost:8080/"
        },
        "id": "arH_tY0K8FGs",
        "outputId": "9d1b7bc2-fcb1-4594-9eea-755ccff5e5f0"
      },
      "outputs": [
        {
          "name": "stdout",
          "output_type": "stream",
          "text": [
            "Hello\n"
          ]
        }
      ],
      "source": [
        "print(\"Hello\") if True else print(\"Bye\")"
      ]
    },
    {
      "cell_type": "markdown",
      "metadata": {
        "id": "fsT5BFEC_32m"
      },
      "source": [
        "ASSIGN MULTIPLE TY"
      ]
    },
    {
      "cell_type": "code",
      "execution_count": null,
      "metadata": {
        "colab": {
          "background_save": true
        },
        "id": "5zEiPclU8Op5",
        "outputId": "eb941b4d-3772-4b96-fe5e-c7d8479068d4"
      },
      "outputs": [
        {
          "ename": "TypeError",
          "evalue": "Cannot instantiate typing.Union",
          "output_type": "error",
          "traceback": [
            "\u001b[0;31m---------------------------------------------------------------------------\u001b[0m",
            "\u001b[0;31mTypeError\u001b[0m                                 Traceback (most recent call last)",
            "\u001b[0;32m<ipython-input-5-f8f67f7e1291>\u001b[0m in \u001b[0;36m<cell line: 2>\u001b[0;34m()\u001b[0m\n\u001b[1;32m      1\u001b[0m \u001b[0;32mfrom\u001b[0m \u001b[0mtyping\u001b[0m \u001b[0;32mimport\u001b[0m \u001b[0mUnion\u001b[0m\u001b[0;34m\u001b[0m\u001b[0;34m\u001b[0m\u001b[0m\n\u001b[0;32m----> 2\u001b[0;31m \u001b[0mgrade\u001b[0m \u001b[0;34m:\u001b[0m \u001b[0mUnion\u001b[0m\u001b[0;34m(\u001b[0m\u001b[0mint\u001b[0m\u001b[0;34m,\u001b[0m\u001b[0mfloat\u001b[0m\u001b[0;34m)\u001b[0m \u001b[0;34m=\u001b[0m \u001b[0;36m7.0\u001b[0m\u001b[0;34m\u001b[0m\u001b[0;34m\u001b[0m\u001b[0m\n\u001b[0m\u001b[1;32m      3\u001b[0m \u001b[0mprint\u001b[0m\u001b[0;34m(\u001b[0m\u001b[0mgrade\u001b[0m\u001b[0;34m)\u001b[0m\u001b[0;34m\u001b[0m\u001b[0;34m\u001b[0m\u001b[0m\n",
            "\u001b[0;32m/usr/lib/python3.10/typing.py\u001b[0m in \u001b[0;36m__call__\u001b[0;34m(self, *args, **kwds)\u001b[0m\n\u001b[1;32m    385\u001b[0m \u001b[0;34m\u001b[0m\u001b[0m\n\u001b[1;32m    386\u001b[0m     \u001b[0;32mdef\u001b[0m \u001b[0m__call__\u001b[0m\u001b[0;34m(\u001b[0m\u001b[0mself\u001b[0m\u001b[0;34m,\u001b[0m \u001b[0;34m*\u001b[0m\u001b[0margs\u001b[0m\u001b[0;34m,\u001b[0m \u001b[0;34m**\u001b[0m\u001b[0mkwds\u001b[0m\u001b[0;34m)\u001b[0m\u001b[0;34m:\u001b[0m\u001b[0;34m\u001b[0m\u001b[0;34m\u001b[0m\u001b[0m\n\u001b[0;32m--> 387\u001b[0;31m         \u001b[0;32mraise\u001b[0m \u001b[0mTypeError\u001b[0m\u001b[0;34m(\u001b[0m\u001b[0;34mf\"Cannot instantiate {self!r}\"\u001b[0m\u001b[0;34m)\u001b[0m\u001b[0;34m\u001b[0m\u001b[0;34m\u001b[0m\u001b[0m\n\u001b[0m\u001b[1;32m    388\u001b[0m \u001b[0;34m\u001b[0m\u001b[0m\n\u001b[1;32m    389\u001b[0m     \u001b[0;32mdef\u001b[0m \u001b[0m__or__\u001b[0m\u001b[0;34m(\u001b[0m\u001b[0mself\u001b[0m\u001b[0;34m,\u001b[0m \u001b[0mother\u001b[0m\u001b[0;34m)\u001b[0m\u001b[0;34m:\u001b[0m\u001b[0;34m\u001b[0m\u001b[0;34m\u001b[0m\u001b[0m\n",
            "\u001b[0;31mTypeError\u001b[0m: Cannot instantiate typing.Union"
          ]
        }
      ],
      "source": [
        "from typing import Union\n",
        "grade : Union(int,float) = 7.0\n",
        "print(grade)\n"
      ]
    },
    {
      "cell_type": "code",
      "execution_count": null,
      "metadata": {
        "id": "sOdFwWls_20x",
        "colab": {
          "base_uri": "https://localhost:8080/"
        },
        "outputId": "dcae6583-e113-4495-d1a4-e6995c58837b"
      },
      "outputs": [
        {
          "output_type": "stream",
          "name": "stdout",
          "text": [
            "A+\n"
          ]
        }
      ],
      "source": [
        "from typing import Union\n",
        "per : Union[int,float] = 88.0\n",
        "grade : Union[str,None] = None\n",
        "if per >= 80:\n",
        "  grade = \"A+\"\n",
        "elif per >= 70:\n",
        "  grade = \"A\"\n",
        "elif per >= 60:\n",
        "  grade = \"B\"\n",
        "elif per >= 50:\n",
        "  grade = \"C\"\n",
        "elif per >= 40:\n",
        "  grade = \"D\"\n",
        "else:\n",
        "  grade = \"F\"\n",
        "print(grade)\n"
      ]
    },
    {
      "cell_type": "code",
      "source": [
        "per : int|float = 88.0\n",
        "grade : str|None = None\n",
        "if per >= 80:\n",
        "  grade = \"A+\"\n",
        "elif per >= 70:\n",
        "  grade = \"A\"\n",
        "elif per >= 60:\n",
        "  grade = \"B\"\n",
        "elif per >= 50:\n",
        "  grade = \"C\"\n",
        "elif per >= 40:\n",
        "  grade = \"D\"\n",
        "else:\n",
        "  grade = \"F\"\n",
        "print(grade)\n"
      ],
      "metadata": {
        "colab": {
          "base_uri": "https://localhost:8080/"
        },
        "id": "l1LpP8QYPHDF",
        "outputId": "44ffe9a4-8564-4f42-fd6b-2a773258d0a2"
      },
      "execution_count": null,
      "outputs": [
        {
          "output_type": "stream",
          "name": "stdout",
          "text": [
            "A+\n"
          ]
        }
      ]
    },
    {
      "cell_type": "markdown",
      "source": [
        "# **Multiple Types With Alias**"
      ],
      "metadata": {
        "id": "pRldyxbmRKbk"
      }
    },
    {
      "cell_type": "code",
      "source": [
        "from typing import Union\n",
        "perType = Union[float,int]\n",
        "\n",
        "percentages : list[perType] = [88,99.9,50,51,65,70]\n",
        "grades : list[str] = []\n",
        "\n",
        "for per in percentages:\n",
        "  if per >= 80:\n",
        "    grade = \"A+\"\n",
        "  elif per >= 70:\n",
        "    grade = \"A\"\n",
        "  elif per >= 60:\n",
        "    grade = \"B\"\n",
        "  elif per >= 50:\n",
        "    grade = \"C\"\n",
        "  elif per >= 40:\n",
        "    grade = \"D\"\n",
        "  else:\n",
        "    grade = \"F\"\n",
        "  grades.append(grade)\n",
        "\n",
        "print(grades)\n",
        "\n",
        "\n",
        "\n"
      ],
      "metadata": {
        "colab": {
          "base_uri": "https://localhost:8080/"
        },
        "id": "FxLRIX4ePyqh",
        "outputId": "23168e54-525d-4b36-e346-4c2f274928a3"
      },
      "execution_count": null,
      "outputs": [
        {
          "output_type": "stream",
          "name": "stdout",
          "text": [
            "['A+', 'A+', 'C', 'C', 'B', 'A']\n"
          ]
        }
      ]
    },
    {
      "cell_type": "code",
      "source": [
        "zip(percentages,grades) #geneartive function"
      ],
      "metadata": {
        "colab": {
          "base_uri": "https://localhost:8080/"
        },
        "id": "Hea2X2JvTE4i",
        "outputId": "9dca6608-bad7-473f-a8a3-f6ac1e3c78f1"
      },
      "execution_count": null,
      "outputs": [
        {
          "output_type": "execute_result",
          "data": {
            "text/plain": [
              "<zip at 0x7e5550350d80>"
            ]
          },
          "metadata": {},
          "execution_count": 11
        }
      ]
    },
    {
      "cell_type": "markdown",
      "source": [
        "**ZIP**"
      ],
      "metadata": {
        "id": "Dh4nRoTUUDGX"
      }
    },
    {
      "cell_type": "code",
      "source": [
        "list(zip(percentages,grades))"
      ],
      "metadata": {
        "colab": {
          "base_uri": "https://localhost:8080/"
        },
        "id": "LZxAFA_CT5_C",
        "outputId": "79ef3c56-3494-4719-a963-afe43865f3c1"
      },
      "execution_count": null,
      "outputs": [
        {
          "output_type": "execute_result",
          "data": {
            "text/plain": [
              "[(88, 'A+'), (99.9, 'A+'), (50, 'C'), (51, 'C'), (65, 'B'), (70, 'A')]"
            ]
          },
          "metadata": {},
          "execution_count": 12
        }
      ]
    },
    {
      "cell_type": "code",
      "source": [
        "list(zip(percentages,grades,list(range(len(percentages)))))"
      ],
      "metadata": {
        "colab": {
          "base_uri": "https://localhost:8080/"
        },
        "id": "kJktEHlmT_19",
        "outputId": "d4f43e3c-ff76-43f7-87b6-bb988d9abaaa"
      },
      "execution_count": null,
      "outputs": [
        {
          "output_type": "execute_result",
          "data": {
            "text/plain": [
              "[(88, 'A+', 0),\n",
              " (99.9, 'A+', 1),\n",
              " (50, 'C', 2),\n",
              " (51, 'C', 3),\n",
              " (65, 'B', 4),\n",
              " (70, 'A', 5)]"
            ]
          },
          "metadata": {},
          "execution_count": 19
        }
      ]
    },
    {
      "cell_type": "code",
      "source": [
        "list(zip(list(range(len(percentages))),percentages,grades))"
      ],
      "metadata": {
        "colab": {
          "base_uri": "https://localhost:8080/"
        },
        "id": "83ot4TKwUYvI",
        "outputId": "3531566c-038f-4f35-8f61-606e3ae329ac"
      },
      "execution_count": null,
      "outputs": [
        {
          "output_type": "execute_result",
          "data": {
            "text/plain": [
              "[(0, 88, 'A+'),\n",
              " (1, 99.9, 'A+'),\n",
              " (2, 50, 'C'),\n",
              " (3, 51, 'C'),\n",
              " (4, 65, 'B'),\n",
              " (5, 70, 'A')]"
            ]
          },
          "metadata": {},
          "execution_count": 23
        }
      ]
    },
    {
      "cell_type": "code",
      "source": [
        "roll_no : list[int] = list(range(len(percentages)))\n",
        "roll_no"
      ],
      "metadata": {
        "colab": {
          "base_uri": "https://localhost:8080/"
        },
        "id": "t9tDVSoWU7GG",
        "outputId": "f7eefbb1-a851-44b0-c768-d50b08721e45"
      },
      "execution_count": null,
      "outputs": [
        {
          "output_type": "execute_result",
          "data": {
            "text/plain": [
              "[0, 1, 2, 3, 4, 5]"
            ]
          },
          "metadata": {},
          "execution_count": 21
        }
      ]
    },
    {
      "cell_type": "code",
      "source": [
        "databases = list(zip(roll_no,percentages,grades))\n",
        "databases"
      ],
      "metadata": {
        "colab": {
          "base_uri": "https://localhost:8080/"
        },
        "id": "bjPbuNEOWhca",
        "outputId": "e2dc787a-bcb6-472b-ec72-c17a00b145f0"
      },
      "execution_count": null,
      "outputs": [
        {
          "output_type": "execute_result",
          "data": {
            "text/plain": [
              "[(0, 88, 'A+'),\n",
              " (1, 99.9, 'A+'),\n",
              " (2, 50, 'C'),\n",
              " (3, 51, 'C'),\n",
              " (4, 65, 'B'),\n",
              " (5, 70, 'A')]"
            ]
          },
          "metadata": {},
          "execution_count": 25
        }
      ]
    },
    {
      "cell_type": "code",
      "source": [
        "sorted(databases) #sort by first column"
      ],
      "metadata": {
        "colab": {
          "base_uri": "https://localhost:8080/"
        },
        "id": "qsTjPET2W15q",
        "outputId": "ef717c1b-b5c1-440c-8177-4168d3570e78"
      },
      "execution_count": null,
      "outputs": [
        {
          "output_type": "execute_result",
          "data": {
            "text/plain": [
              "[(0, 88, 'A+'),\n",
              " (1, 99.9, 'A+'),\n",
              " (2, 50, 'C'),\n",
              " (3, 51, 'C'),\n",
              " (4, 65, 'B'),\n",
              " (5, 70, 'A')]"
            ]
          },
          "metadata": {},
          "execution_count": 26
        }
      ]
    },
    {
      "cell_type": "markdown",
      "source": [
        "**SORTING USING KEY ATTRIBUTE OF SORTED**"
      ],
      "metadata": {
        "id": "jY4SoX-6YD5N"
      }
    },
    {
      "cell_type": "code",
      "source": [
        "sorted(databases,key = lambda x:x[1])"
      ],
      "metadata": {
        "colab": {
          "base_uri": "https://localhost:8080/"
        },
        "id": "7fIMMpohXaKo",
        "outputId": "87462c57-3eb2-4ca8-f48d-cc4014da0620"
      },
      "execution_count": null,
      "outputs": [
        {
          "output_type": "execute_result",
          "data": {
            "text/plain": [
              "[(1, 99.9, 'A+'),\n",
              " (0, 88, 'A+'),\n",
              " (5, 70, 'A'),\n",
              " (4, 65, 'B'),\n",
              " (3, 51, 'C'),\n",
              " (2, 50, 'C')]"
            ]
          },
          "metadata": {},
          "execution_count": 28
        }
      ]
    },
    {
      "cell_type": "markdown",
      "source": [
        "**IN DESCENDING ORDER**"
      ],
      "metadata": {
        "id": "Vup_RI9XYKWc"
      }
    },
    {
      "cell_type": "code",
      "source": [
        "sorted(databases,key = lambda x:x[1],reverse = True)"
      ],
      "metadata": {
        "colab": {
          "base_uri": "https://localhost:8080/"
        },
        "id": "MkosUzYmXspb",
        "outputId": "8dffdec3-3c42-42b3-c6a1-9c7756c08085"
      },
      "execution_count": null,
      "outputs": [
        {
          "output_type": "execute_result",
          "data": {
            "text/plain": [
              "[(1, 99.9, 'A+'),\n",
              " (0, 88, 'A+'),\n",
              " (5, 70, 'A'),\n",
              " (4, 65, 'B'),\n",
              " (3, 51, 'C'),\n",
              " (2, 50, 'C')]"
            ]
          },
          "metadata": {},
          "execution_count": 29
        }
      ]
    },
    {
      "cell_type": "code",
      "source": [
        "cars : list[str] = ['audi','bmw','subaru','toyota']\n",
        "for car in cars:\n",
        "  if car == \"bmw\":\n",
        "    print(car.upper())\n",
        "  else:\n",
        "    print(car.title())"
      ],
      "metadata": {
        "colab": {
          "base_uri": "https://localhost:8080/"
        },
        "id": "StW5GgHaX3cC",
        "outputId": "91de4176-3e75-47bc-dd01-39c37c26a473"
      },
      "execution_count": null,
      "outputs": [
        {
          "output_type": "stream",
          "name": "stdout",
          "text": [
            "Audi\n",
            "BMW\n",
            "Subaru\n",
            "Toyota\n"
          ]
        }
      ]
    },
    {
      "cell_type": "code",
      "source": [
        "[car.upper() if car == \"bmw\" else car.title() for car in cars]\n"
      ],
      "metadata": {
        "colab": {
          "base_uri": "https://localhost:8080/"
        },
        "id": "2seUG157Yuam",
        "outputId": "57b31ee2-98d1-421c-e100-c52c22387199"
      },
      "execution_count": null,
      "outputs": [
        {
          "output_type": "execute_result",
          "data": {
            "text/plain": [
              "['Audi', 'BMW', 'Subaru', 'Toyota']"
            ]
          },
          "metadata": {},
          "execution_count": 36
        }
      ]
    },
    {
      "cell_type": "code",
      "source": [
        "cars : list[str] = ['audi','bmw','subaru','toyota','Mehran']\n",
        "for car in cars:\n",
        "  if car != \"Mehran\":\n",
        "    print(car.upper())\n",
        "  else:\n",
        "    print(car.title())"
      ],
      "metadata": {
        "colab": {
          "base_uri": "https://localhost:8080/"
        },
        "id": "mjx9lQx1Y84h",
        "outputId": "17bb2631-aa61-462c-e5fd-031b953aa08b"
      },
      "execution_count": null,
      "outputs": [
        {
          "output_type": "stream",
          "name": "stdout",
          "text": [
            "AUDI\n",
            "BMW\n",
            "SUBARU\n",
            "TOYOTA\n",
            "Mehran\n"
          ]
        }
      ]
    },
    {
      "cell_type": "code",
      "source": [
        "users : list[str] = ['Ayen','Andrew','subaru','toyota','Mehran']\n",
        "user : str = 'Ayen'\n",
        "if user not in users:\n",
        "  print(f\"{user} can proceed\")\n",
        "else:\n",
        "  print('You are blocked')"
      ],
      "metadata": {
        "colab": {
          "base_uri": "https://localhost:8080/"
        },
        "id": "55x-frqUaiyk",
        "outputId": "5cf69fc0-3692-4263-877e-292c5308d3f3"
      },
      "execution_count": null,
      "outputs": [
        {
          "output_type": "stream",
          "name": "stdout",
          "text": [
            "You are blocked\n"
          ]
        }
      ]
    },
    {
      "cell_type": "code",
      "source": [
        "requested_toppings : list[str] = ['Mushrooms','Extra Cheese']\n",
        "if 'Mushrooms' in requested_toppings:\n",
        "  print('Adding Mushrooms')\n",
        "\n",
        "if 'Pepperoni' in requested_toppings:\n",
        "  print('Adding Pepperoni')\n",
        "\n",
        "if 'Extra Cheese' in requested_toppings:\n",
        "  print('Adding Extra Cheese')"
      ],
      "metadata": {
        "colab": {
          "base_uri": "https://localhost:8080/"
        },
        "id": "fMtCtIAAb8yo",
        "outputId": "29c95e7a-ef8e-409f-fb4b-6063ce4e8d8d"
      },
      "execution_count": null,
      "outputs": [
        {
          "output_type": "stream",
          "name": "stdout",
          "text": [
            "Adding Mushrooms\n",
            "Adding Extra Cheese\n"
          ]
        }
      ]
    },
    {
      "cell_type": "code",
      "source": [
        "requested_toppings : list[str] = ['Mushrooms','Green Peppers','Extra Cheese']\n",
        "for i in requested_toppings:\n",
        "  if i == 'Green Peppers':\n",
        "    print('Sorry we are out of green peppers')\n",
        "  else:\n",
        "    print(f\"Adding {i}\")"
      ],
      "metadata": {
        "colab": {
          "base_uri": "https://localhost:8080/"
        },
        "id": "LX2CRcWMdPFt",
        "outputId": "88065e03-ce33-4c52-c33e-1ddfdeae53fe"
      },
      "execution_count": null,
      "outputs": [
        {
          "output_type": "stream",
          "name": "stdout",
          "text": [
            "Adding Mushrooms\n",
            "Sorry we are out of green peppers\n",
            "Adding Extra Cheese\n"
          ]
        }
      ]
    },
    {
      "cell_type": "code",
      "source": [
        "requested_toppings : list[str] = []\n",
        "if requested_toppings:\n",
        "  for i in requested_toppings:\n",
        "    if i == 'Green Peppers':\n",
        "      print('Sorry we are out of green peppers')\n",
        "  else:\n",
        "      print(f\"Adding {i}\")\n",
        "else:\n",
        "  print('Empty Requests')"
      ],
      "metadata": {
        "colab": {
          "base_uri": "https://localhost:8080/"
        },
        "id": "yhMKBkH4d1xi",
        "outputId": "2bbd11f4-18bb-4834-a39e-80248ccad2a4"
      },
      "execution_count": null,
      "outputs": [
        {
          "output_type": "stream",
          "name": "stdout",
          "text": [
            "Empty Requests\n"
          ]
        }
      ]
    },
    {
      "cell_type": "code",
      "source": [
        "available_toppings : list[str] = ['Mushrooms','Olives','Green Peppers','Pepperoni','Pineapple','Extra Cheese']\n",
        "requested_toppings : list[str] = ['Mushrooms','Green Peppers','Extra Cheese','Carrot']\n",
        "\n",
        "for i in requested_toppings:\n",
        "  if i in available_toppings:\n",
        "    print(f\"Adding {i}\")\n",
        "  else:\n",
        "    print(f\"{i} not available\")"
      ],
      "metadata": {
        "colab": {
          "base_uri": "https://localhost:8080/"
        },
        "id": "gEORvEJUeIxM",
        "outputId": "2647415a-d904-4f32-b462-adb883599760"
      },
      "execution_count": null,
      "outputs": [
        {
          "output_type": "stream",
          "name": "stdout",
          "text": [
            "Adding Mushrooms\n",
            "Adding Green Peppers\n",
            "Adding Extra Cheese\n",
            "Carrot not available\n"
          ]
        }
      ]
    },
    {
      "cell_type": "code",
      "source": [
        "input(\"Enter , spearated topping values\").split(',')"
      ],
      "metadata": {
        "colab": {
          "base_uri": "https://localhost:8080/",
          "height": 330
        },
        "id": "IkPdbwu_fI9A",
        "outputId": "12d84c35-52fc-44bb-f3f7-cfb70e1638fc"
      },
      "execution_count": null,
      "outputs": [
        {
          "output_type": "error",
          "ename": "KeyboardInterrupt",
          "evalue": "Interrupted by user",
          "traceback": [
            "\u001b[0;31m---------------------------------------------------------------------------\u001b[0m",
            "\u001b[0;31mKeyboardInterrupt\u001b[0m                         Traceback (most recent call last)",
            "\u001b[0;32m<ipython-input-49-bcb0ede249b7>\u001b[0m in \u001b[0;36m<cell line: 1>\u001b[0;34m()\u001b[0m\n\u001b[0;32m----> 1\u001b[0;31m \u001b[0minput\u001b[0m\u001b[0;34m(\u001b[0m\u001b[0;34m\"Enter , spearated topping values\"\u001b[0m\u001b[0;34m)\u001b[0m\u001b[0;34m\u001b[0m\u001b[0;34m\u001b[0m\u001b[0m\n\u001b[0m",
            "\u001b[0;32m/usr/local/lib/python3.10/dist-packages/ipykernel/kernelbase.py\u001b[0m in \u001b[0;36mraw_input\u001b[0;34m(self, prompt)\u001b[0m\n\u001b[1;32m    849\u001b[0m                 \u001b[0;34m\"raw_input was called, but this frontend does not support input requests.\"\u001b[0m\u001b[0;34m\u001b[0m\u001b[0;34m\u001b[0m\u001b[0m\n\u001b[1;32m    850\u001b[0m             )\n\u001b[0;32m--> 851\u001b[0;31m         return self._input_request(str(prompt),\n\u001b[0m\u001b[1;32m    852\u001b[0m             \u001b[0mself\u001b[0m\u001b[0;34m.\u001b[0m\u001b[0m_parent_ident\u001b[0m\u001b[0;34m,\u001b[0m\u001b[0;34m\u001b[0m\u001b[0;34m\u001b[0m\u001b[0m\n\u001b[1;32m    853\u001b[0m             \u001b[0mself\u001b[0m\u001b[0;34m.\u001b[0m\u001b[0m_parent_header\u001b[0m\u001b[0;34m,\u001b[0m\u001b[0;34m\u001b[0m\u001b[0;34m\u001b[0m\u001b[0m\n",
            "\u001b[0;32m/usr/local/lib/python3.10/dist-packages/ipykernel/kernelbase.py\u001b[0m in \u001b[0;36m_input_request\u001b[0;34m(self, prompt, ident, parent, password)\u001b[0m\n\u001b[1;32m    893\u001b[0m             \u001b[0;32mexcept\u001b[0m \u001b[0mKeyboardInterrupt\u001b[0m\u001b[0;34m:\u001b[0m\u001b[0;34m\u001b[0m\u001b[0;34m\u001b[0m\u001b[0m\n\u001b[1;32m    894\u001b[0m                 \u001b[0;31m# re-raise KeyboardInterrupt, to truncate traceback\u001b[0m\u001b[0;34m\u001b[0m\u001b[0;34m\u001b[0m\u001b[0m\n\u001b[0;32m--> 895\u001b[0;31m                 \u001b[0;32mraise\u001b[0m \u001b[0mKeyboardInterrupt\u001b[0m\u001b[0;34m(\u001b[0m\u001b[0;34m\"Interrupted by user\"\u001b[0m\u001b[0;34m)\u001b[0m \u001b[0;32mfrom\u001b[0m \u001b[0;32mNone\u001b[0m\u001b[0;34m\u001b[0m\u001b[0;34m\u001b[0m\u001b[0m\n\u001b[0m\u001b[1;32m    896\u001b[0m             \u001b[0;32mexcept\u001b[0m \u001b[0mException\u001b[0m \u001b[0;32mas\u001b[0m \u001b[0me\u001b[0m\u001b[0;34m:\u001b[0m\u001b[0;34m\u001b[0m\u001b[0;34m\u001b[0m\u001b[0m\n\u001b[1;32m    897\u001b[0m                 \u001b[0mself\u001b[0m\u001b[0;34m.\u001b[0m\u001b[0mlog\u001b[0m\u001b[0;34m.\u001b[0m\u001b[0mwarning\u001b[0m\u001b[0;34m(\u001b[0m\u001b[0;34m\"Invalid Message:\"\u001b[0m\u001b[0;34m,\u001b[0m \u001b[0mexc_info\u001b[0m\u001b[0;34m=\u001b[0m\u001b[0;32mTrue\u001b[0m\u001b[0;34m)\u001b[0m\u001b[0;34m\u001b[0m\u001b[0;34m\u001b[0m\u001b[0m\n",
            "\u001b[0;31mKeyboardInterrupt\u001b[0m: Interrupted by user"
          ]
        }
      ]
    },
    {
      "cell_type": "code",
      "source": [
        "available_toppings : list[str] = ['Mushrooms','Olives','Green Peppers','Pepperoni','Pineapple','Extra Cheese']\n",
        "requested_toppings : list[str] = input(\"Enter , spearated topping values\").split(',')\n",
        "\n",
        "for i in requested_toppings:\n",
        "  if i in available_toppings:\n",
        "    print(f\"Adding {i}\")\n",
        "  else:\n",
        "    print(f\"{i} not available\")"
      ],
      "metadata": {
        "id": "zBdOmrnmfiWE"
      },
      "execution_count": null,
      "outputs": []
    },
    {
      "cell_type": "code",
      "source": [],
      "metadata": {
        "id": "2k1OFbKvfx6z"
      },
      "execution_count": null,
      "outputs": []
    }
  ],
  "metadata": {
    "colab": {
      "provenance": []
    },
    "kernelspec": {
      "display_name": "Python 3",
      "name": "python3"
    },
    "language_info": {
      "name": "python"
    }
  },
  "nbformat": 4,
  "nbformat_minor": 0
}