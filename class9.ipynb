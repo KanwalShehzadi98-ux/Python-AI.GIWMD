{
 "cells": [
  {
   "cell_type": "markdown",
   "metadata": {},
   "source": [
    "# Loop and Input from user\n",
    "* while\n",
    "* for\n",
    "* controls\n",
    "  * break\n",
    "  * continue\n",
    "  * pass\n",
    "* input with input function\n",
    "* input from console\n",
    "\n",
    "# Loop Working on Iterative Datatypes\n",
    " \n",
    "* List\n",
    "* dictionary\n",
    "* tuple\n",
    "* string"
   ]
  },
  {
   "cell_type": "code",
   "execution_count": 2,
   "metadata": {},
   "outputs": [
    {
     "data": {
      "text/plain": [
       "1"
      ]
     },
     "metadata": {},
     "output_type": "display_data"
    },
    {
     "data": {
      "text/plain": [
       "2"
      ]
     },
     "metadata": {},
     "output_type": "display_data"
    },
    {
     "data": {
      "text/plain": [
       "3"
      ]
     },
     "metadata": {},
     "output_type": "display_data"
    },
    {
     "data": {
      "text/plain": [
       "4"
      ]
     },
     "metadata": {},
     "output_type": "display_data"
    },
    {
     "data": {
      "text/plain": [
       "5"
      ]
     },
     "metadata": {},
     "output_type": "display_data"
    },
    {
     "data": {
      "text/plain": [
       "6"
      ]
     },
     "metadata": {},
     "output_type": "display_data"
    }
   ],
   "source": [
    "l1 : list[int] = list(range(1,7))\n",
    "for i in l1:\n",
    "    display(i)"
   ]
  },
  {
   "cell_type": "code",
   "execution_count": 5,
   "metadata": {},
   "outputs": [
    {
     "name": "stdout",
     "output_type": "stream",
     "text": [
      "(1, 2, 3, 4, 5, 6)\n"
     ]
    },
    {
     "data": {
      "text/plain": [
       "1"
      ]
     },
     "metadata": {},
     "output_type": "display_data"
    },
    {
     "data": {
      "text/plain": [
       "2"
      ]
     },
     "metadata": {},
     "output_type": "display_data"
    },
    {
     "data": {
      "text/plain": [
       "3"
      ]
     },
     "metadata": {},
     "output_type": "display_data"
    },
    {
     "data": {
      "text/plain": [
       "4"
      ]
     },
     "metadata": {},
     "output_type": "display_data"
    },
    {
     "data": {
      "text/plain": [
       "5"
      ]
     },
     "metadata": {},
     "output_type": "display_data"
    },
    {
     "data": {
      "text/plain": [
       "6"
      ]
     },
     "metadata": {},
     "output_type": "display_data"
    }
   ],
   "source": [
    "l1 : tuple[int] = tuple(range(1,7))\n",
    "for i in l1:\n",
    "    display(i)"
   ]
  },
  {
   "cell_type": "code",
   "execution_count": 6,
   "metadata": {},
   "outputs": [
    {
     "data": {
      "text/plain": [
       "'K'"
      ]
     },
     "metadata": {},
     "output_type": "display_data"
    },
    {
     "data": {
      "text/plain": [
       "'a'"
      ]
     },
     "metadata": {},
     "output_type": "display_data"
    },
    {
     "data": {
      "text/plain": [
       "'n'"
      ]
     },
     "metadata": {},
     "output_type": "display_data"
    },
    {
     "data": {
      "text/plain": [
       "'w'"
      ]
     },
     "metadata": {},
     "output_type": "display_data"
    },
    {
     "data": {
      "text/plain": [
       "'a'"
      ]
     },
     "metadata": {},
     "output_type": "display_data"
    },
    {
     "data": {
      "text/plain": [
       "'l'"
      ]
     },
     "metadata": {},
     "output_type": "display_data"
    }
   ],
   "source": [
    "l1 : str = \"Kanwal\"\n",
    "for i in l1:\n",
    "    display(i)"
   ]
  },
  {
   "cell_type": "code",
   "execution_count": 7,
   "metadata": {},
   "outputs": [
    {
     "data": {
      "text/plain": [
       "'name'"
      ]
     },
     "metadata": {},
     "output_type": "display_data"
    },
    {
     "data": {
      "text/plain": [
       "'Kanwal'"
      ]
     },
     "metadata": {},
     "output_type": "display_data"
    },
    {
     "data": {
      "text/plain": [
       "'fname'"
      ]
     },
     "metadata": {},
     "output_type": "display_data"
    },
    {
     "data": {
      "text/plain": [
       "'Muhammad Fayyaz'"
      ]
     },
     "metadata": {},
     "output_type": "display_data"
    }
   ],
   "source": [
    "l1 : dict[str,str] = {\"name\":\"Kanwal\",\n",
    "                      \"fname\":\"Muhammad Fayyaz\"} \n",
    "for i in l1:\n",
    "    display(i,l1[i])"
   ]
  },
  {
   "cell_type": "markdown",
   "metadata": {},
   "source": [
    "# No iteration is performed on set datatype"
   ]
  },
  {
   "cell_type": "code",
   "execution_count": 13,
   "metadata": {},
   "outputs": [
    {
     "name": "stdout",
     "output_type": "stream",
     "text": [
      "1\n",
      "2\n",
      "3\n",
      "4\n",
      "5\n"
     ]
    }
   ],
   "source": [
    "l1 : set[int] = {1,2,3,4,5,2,2,3,4,5} \n",
    "for i in l1:\n",
    "    print(i)"
   ]
  },
  {
   "cell_type": "code",
   "execution_count": 15,
   "metadata": {},
   "outputs": [
    {
     "name": "stdout",
     "output_type": "stream",
     "text": [
      "1\n",
      "2\n",
      "3\n",
      "4\n",
      "5\n"
     ]
    }
   ],
   "source": [
    "l1 : list[set[int]] = list({1,2,3,4,5,2,2,3,4,5}) \n",
    "for i in l1:\n",
    "    print(i)"
   ]
  },
  {
   "cell_type": "markdown",
   "metadata": {},
   "source": [
    "# input from user\n",
    "* input function\n",
    "    * default type = string\n",
    "* sys.argv(for console input in abc.py)\n",
    "    * default type = object (means jo bhi pass kren gy wohi rahe g type)\n",
    "\n",
    "* input tab hi chle ga jab code m uski bari aye gy lets suppose 10th line m likha hai input wala kam tw wo us se pehle 9 lines chala kay hi 10th line pe aye ga jub kay sys.args runtime pe sub se pehle user se input le leta hai aur phir code ko run kar ke usko as a list display kara deta hai"
   ]
  },
  {
   "cell_type": "code",
   "execution_count": 17,
   "metadata": {},
   "outputs": [
    {
     "name": "stdout",
     "output_type": "stream",
     "text": [
      "Welcome Kanwal\n"
     ]
    }
   ],
   "source": [
    "name : str = input(\"Enter name: \\t\" )\n",
    "print(f\"Welcome {name}\")"
   ]
  },
  {
   "cell_type": "code",
   "execution_count": 18,
   "metadata": {},
   "outputs": [
    {
     "data": {
      "text/plain": [
       "str"
      ]
     },
     "execution_count": 18,
     "metadata": {},
     "output_type": "execute_result"
    }
   ],
   "source": [
    "type(name)"
   ]
  },
  {
   "cell_type": "markdown",
   "metadata": {},
   "source": [
    "# Second Method\n"
   ]
  },
  {
   "attachments": {
    "image-3.png": {
     "image/png": "[encoded data removed]"
    },
    "image.png": {
     "image/png": "[encoded data removed]"
    }
   },
   "cell_type": "markdown",
   "metadata": {},
   "source": [
    "![image.png](attachment:image.png)\n",
    "![image-3.png](attachment:image-3.png)"
   ]
  },
  {
   "cell_type": "code",
   "execution_count": 26,
   "metadata": {},
   "outputs": [
    {
     "data": {
      "text/plain": [
       "[('a', 'x', 1), ('b', 'y', 2), ('c', 'z', 3)]"
      ]
     },
     "execution_count": 26,
     "metadata": {},
     "output_type": "execute_result"
    }
   ],
   "source": [
    "names : list[str] = ['a','b','c']\n",
    "fnames : list[str] = ['x','y','z']\n",
    "age : list[int] = [1,2,3]\n",
    "\n",
    "list(zip(names,fnames,age))"
   ]
  },
  {
   "cell_type": "code",
   "execution_count": 27,
   "metadata": {},
   "outputs": [
    {
     "name": "stdout",
     "output_type": "stream",
     "text": [
      "a x 1\n",
      "b y 2\n",
      "c z 3\n"
     ]
    }
   ],
   "source": [
    "for name,fname,age in zip(names,fnames,age):\n",
    "    print(name,fname,age)"
   ]
  },
  {
   "cell_type": "markdown",
   "metadata": {},
   "source": [
    "# While Loop"
   ]
  },
  {
   "cell_type": "code",
   "execution_count": 28,
   "metadata": {},
   "outputs": [
    {
     "name": "stdout",
     "output_type": "stream",
     "text": [
      "Current Number is : 1\n",
      "Current Number is : 2\n",
      "Current Number is : 3\n",
      "Current Number is : 4\n",
      "Current Number is : 5\n",
      "Current Number is : 6\n",
      "Current Number is : 7\n",
      "Current Number is : 8\n",
      "Current Number is : 9\n"
     ]
    }
   ],
   "source": [
    "flag : int = 1\n",
    "current_number : int = 1\n",
    "\n",
    "while flag:\n",
    "    print(f\"Current Number is : {current_number}\")\n",
    "    current_number += 1\n",
    "\n",
    "    if current_number == 10:\n",
    "        break\n",
    "    "
   ]
  },
  {
   "cell_type": "code",
   "execution_count": 30,
   "metadata": {},
   "outputs": [
    {
     "name": "stdout",
     "output_type": "stream",
     "text": [
      "Current index is 0 and list value is 100\n",
      "Current index is 1 and list value is 200\n",
      "Current index is 2 and list value is 300\n"
     ]
    }
   ],
   "source": [
    "l1 : list[int] = [100,200,300]\n",
    "index : int = 0\n",
    "\n",
    "while index < len(l1):\n",
    "    print(f\"Current index is {index} and list value is {l1[index]}\")\n",
    "    index += 1"
   ]
  },
  {
   "cell_type": "code",
   "execution_count": 32,
   "metadata": {},
   "outputs": [
    {
     "name": "stdout",
     "output_type": "stream",
     "text": [
      "Write quit or exit to stop this program:\n",
      "Write quit or exit to stop this program:\n"
     ]
    },
    {
     "data": {
      "text/plain": [
       "[{'name': 'kanwal', 'education': 'bse'}]"
      ]
     },
     "metadata": {},
     "output_type": "display_data"
    }
   ],
   "source": [
    "data : list[dict[str,str]] = []\n",
    "flag : bool = True\n",
    "\n",
    "while flag:\n",
    "    print(\"Write quit or exit to stop this program:\")\n",
    "    name : str = input(\"Enter your name:\")\n",
    "    education : str = input(\"Enter your education:\")\n",
    "\n",
    "    myList = [\"quit\",\"close\"]\n",
    "    if name in myList or education in myList:\n",
    "        flag = False\n",
    "        break\n",
    "    data.append({\n",
    "        \"name\" : name,\n",
    "        \"education\" : education\n",
    "    })\n",
    "\n",
    "display(data)"
   ]
  },
  {
   "cell_type": "markdown",
   "metadata": {},
   "source": [
    "# Controls\n",
    "* break\n",
    "* continue\n",
    "* pass"
   ]
  },
  {
   "cell_type": "code",
   "execution_count": 33,
   "metadata": {},
   "outputs": [
    {
     "name": "stdout",
     "output_type": "stream",
     "text": [
      "1\n",
      "2\n",
      "3\n",
      "4\n",
      "6\n",
      "7\n",
      "8\n",
      "9\n",
      "10\n",
      "11\n"
     ]
    }
   ],
   "source": [
    "for i in range(1,12):\n",
    "    if i == 5:\n",
    "        continue\n",
    "    print(i)"
   ]
  },
  {
   "cell_type": "code",
   "execution_count": 34,
   "metadata": {},
   "outputs": [],
   "source": [
    "for i in range(1,11):\n",
    "    pass"
   ]
  },
  {
   "cell_type": "code",
   "execution_count": 39,
   "metadata": {},
   "outputs": [],
   "source": [
    "def myFunc():\n",
    "    pass"
   ]
  },
  {
   "cell_type": "code",
   "execution_count": 41,
   "metadata": {},
   "outputs": [
    {
     "name": "stdout",
     "output_type": "stream",
     "text": [
      "kanwal\n"
     ]
    }
   ],
   "source": [
    "prompt =\"\"\"How are you?\\n\n",
    "I could not remember your name.You are ....\"\"\"\n",
    "input(prompt)\n"
   ]
  },
  {
   "cell_type": "code",
   "execution_count": 48,
   "metadata": {},
   "outputs": [
    {
     "name": "stdout",
     "output_type": "stream",
     "text": [
      "1\n",
      "3\n",
      "5\n",
      "7\n",
      "9\n",
      "11\n",
      "15\n"
     ]
    }
   ],
   "source": [
    "data : list[int] = [1,2,4,3,5,7,9,11,15]\n",
    "\n",
    "for i in data:\n",
    "    if i % 2 != 0:\n",
    "     \n",
    "     print(i)"
   ]
  },
  {
   "cell_type": "code",
   "execution_count": 54,
   "metadata": {},
   "outputs": [
    {
     "data": {
      "text/plain": [
       "[1, 4, 16, 3, 5, 7, 9, 11, 15]"
      ]
     },
     "execution_count": 54,
     "metadata": {},
     "output_type": "execute_result"
    }
   ],
   "source": [
    "data : list[int] = [1,2,4,3,5,7,9,11,15]\n",
    "ans = [i if i % 2 != 0 else i**2 for i in data]\n",
    "ans"
   ]
  },
  {
   "cell_type": "code",
   "execution_count": 56,
   "metadata": {},
   "outputs": [
    {
     "name": "stdout",
     "output_type": "stream",
     "text": [
      "I am happy\n",
      "I have bottles up my anger\n",
      "All are not alike\n",
      "I have a narrow escape\n"
     ]
    }
   ],
   "source": [
    "prompt : str = \"\\n Tell me something and I wil prompt you back\"\n",
    "prompt += \"Enter 'quit' to exit the program\"\n",
    "\n",
    "active = True\n",
    "while active:\n",
    "    message = input(prompt)\n",
    "    if message == \"quit\":\n",
    "        active = False\n",
    "    else:\n",
    "        print(message)"
   ]
  },
  {
   "cell_type": "code",
   "execution_count": 59,
   "metadata": {},
   "outputs": [
    {
     "name": "stdout",
     "output_type": "stream",
     "text": [
      "1\n",
      "3\n",
      "5\n",
      "7\n",
      "9\n",
      "11\n"
     ]
    }
   ],
   "source": [
    "current_number = 0\n",
    "while current_number <= 10:\n",
    "    current_number += 1\n",
    "    if current_number % 2 == 0:\n",
    "        continue\n",
    "    print(current_number)"
   ]
  },
  {
   "cell_type": "code",
   "execution_count": 61,
   "metadata": {},
   "outputs": [
    {
     "name": "stdout",
     "output_type": "stream",
     "text": [
      "Verifying candace\n",
      "Verifying brain\n",
      "Verifying alice\n",
      "Candace\n",
      "Brain\n",
      "Alice\n"
     ]
    }
   ],
   "source": [
    "unconfirmed_users : list[str] = ['alice','brain','candace']\n",
    "confirmed_users : list[str] = []\n",
    "\n",
    "while unconfirmed_users:\n",
    "    current_user = unconfirmed_users.pop()\n",
    "    print(f\"Verifying {current_user}\")\n",
    "    confirmed_users.append(current_user.title())\n",
    "\n",
    "for i in confirmed_users:\n",
    "    print(i)"
   ]
  },
  {
   "cell_type": "code",
   "execution_count": 63,
   "metadata": {},
   "outputs": [
    {
     "data": {
      "text/plain": [
       "['dog', 'dog', 'goldfish', 'rabbit']"
      ]
     },
     "execution_count": 63,
     "metadata": {},
     "output_type": "execute_result"
    }
   ],
   "source": [
    "pets = ['dog','cat','dog','goldfish','cat','rabbit','cat']\n",
    "while \"cat\" in pets:\n",
    "    pets.remove('cat')\n",
    "\n",
    "pets"
   ]
  },
  {
   "cell_type": "code",
   "execution_count": null,
   "metadata": {},
   "outputs": [],
   "source": []
  }
 ],
 "metadata": {
  "kernelspec": {
   "display_name": "python12",
   "language": "python",
   "name": "python3"
  },
  "language_info": {
   "codemirror_mode": {
    "name": "ipython",
    "version": 3
   },
   "file_extension": ".py",
   "mimetype": "text/x-python",
   "name": "python",
   "nbconvert_exporter": "python",
   "pygments_lexer": "ipython3",
   "version": "3.12.0"
  }
 },
 "nbformat": 4,
 "nbformat_minor": 2
}
