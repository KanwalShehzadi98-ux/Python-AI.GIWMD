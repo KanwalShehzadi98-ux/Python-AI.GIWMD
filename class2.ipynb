{
 "cells": [
  {
   "cell_type": "markdown",
   "metadata": {},
   "source": [
    "# String Datatype In Python"
   ]
  },
  {
   "cell_type": "code",
   "execution_count": null,
   "metadata": {},
   "outputs": [],
   "source": [
    "#boundaries\n",
    "#'str' , \"str\", \"\"\"str\"\"\",'''str'''\n"
   ]
  },
  {
   "cell_type": "code",
   "execution_count": 1,
   "metadata": {},
   "outputs": [
    {
     "name": "stdout",
     "output_type": "stream",
     "text": [
      "<class 'str'>\n",
      "Kanwal\n"
     ]
    }
   ],
   "source": [
    "name : str = 'Kanwal'\n",
    "print(type(name))\n",
    "print(name)"
   ]
  },
  {
   "cell_type": "code",
   "execution_count": 2,
   "metadata": {},
   "outputs": [
    {
     "name": "stdout",
     "output_type": "stream",
     "text": [
      "<class 'str'>\n",
      "Kanwal\n"
     ]
    }
   ],
   "source": [
    "name : str = \"Kanwal\"\n",
    "print(type(name))\n",
    "print(name)"
   ]
  },
  {
   "cell_type": "code",
   "execution_count": 3,
   "metadata": {},
   "outputs": [
    {
     "name": "stdout",
     "output_type": "stream",
     "text": [
      "<class 'str'>\n",
      "Kanwal\n"
     ]
    }
   ],
   "source": [
    "name : str = '''Kanwal'''\n",
    "print(type(name))\n",
    "print(name)"
   ]
  },
  {
   "cell_type": "code",
   "execution_count": 4,
   "metadata": {},
   "outputs": [
    {
     "name": "stdout",
     "output_type": "stream",
     "text": [
      "<class 'str'>\n",
      "Kanwal\n"
     ]
    }
   ],
   "source": [
    "name : str = \"\"\"Kanwal\"\"\"\n",
    "print(type(name))\n",
    "print(name)"
   ]
  },
  {
   "cell_type": "code",
   "execution_count": 7,
   "metadata": {},
   "outputs": [
    {
     "name": "stdout",
     "output_type": "stream",
     "text": [
      "PIAIC Student Card \n",
      "Father's Name\n"
     ]
    }
   ],
   "source": [
    "message : str = \"PIAIC Student Card \\nFather's Name\"\n",
    "print(message)"
   ]
  },
  {
   "cell_type": "code",
   "execution_count": 8,
   "metadata": {},
   "outputs": [
    {
     "name": "stdout",
     "output_type": "stream",
     "text": [
      "PIAIC Student Card \n",
      "Father\"s Name\n"
     ]
    }
   ],
   "source": [
    "message : str = \"PIAIC Student Card \\nFather\\\"s Name\"\n",
    "print(message)"
   ]
  },
  {
   "cell_type": "code",
   "execution_count": 9,
   "metadata": {},
   "outputs": [
    {
     "name": "stdout",
     "output_type": "stream",
     "text": [
      "PIAIC Student Card \n",
      "Father\"s Name\n"
     ]
    }
   ],
   "source": [
    "message : str = 'PIAIC Student Card \\nFather\\\"s Name'\n",
    "print(message)"
   ]
  },
  {
   "cell_type": "markdown",
   "metadata": {},
   "source": [
    "### integers cannot be calculated"
   ]
  },
  {
   "cell_type": "code",
   "execution_count": 16,
   "metadata": {},
   "outputs": [
    {
     "ename": "TypeError",
     "evalue": "can only concatenate str (not \"int\") to str",
     "output_type": "error",
     "traceback": [
      "\u001b[1;31m---------------------------------------------------------------------------\u001b[0m",
      "\u001b[1;31mTypeError\u001b[0m                                 Traceback (most recent call last)",
      "Cell \u001b[1;32mIn[16], line 6\u001b[0m\n\u001b[0;32m      3\u001b[0m education : \u001b[38;5;28mstr\u001b[39m \u001b[38;5;241m=\u001b[39m \u001b[38;5;124m\"\u001b[39m\u001b[38;5;124mBSE\u001b[39m\u001b[38;5;124m\"\u001b[39m\n\u001b[0;32m      4\u001b[0m age : \u001b[38;5;28mint\u001b[39m \u001b[38;5;241m=\u001b[39m \u001b[38;5;241m20\u001b[39m\n\u001b[1;32m----> 6\u001b[0m card : \u001b[38;5;28mstr\u001b[39m \u001b[38;5;241m=\u001b[39m \u001b[38;5;124;43m\"\u001b[39;49m\u001b[38;5;124;43mPIAIC STUDENT CARD\u001b[39;49m\u001b[38;5;130;43;01m\\n\u001b[39;49;00m\u001b[38;5;124;43mStudent Name:\u001b[39;49m\u001b[38;5;124;43m\"\u001b[39;49m\u001b[38;5;241;43m+\u001b[39;49m\u001b[43mname\u001b[49m\u001b[38;5;241;43m+\u001b[39;49m\u001b[38;5;124;43m\"\u001b[39;49m\u001b[38;5;130;43;01m\\n\u001b[39;49;00m\u001b[38;5;124;43mFather Name:\u001b[39;49m\u001b[38;5;124;43m\"\u001b[39;49m\u001b[38;5;241;43m+\u001b[39;49m\u001b[43mfname\u001b[49m\u001b[38;5;241;43m+\u001b[39;49m\u001b[38;5;124;43m\"\u001b[39;49m\u001b[38;5;130;43;01m\\n\u001b[39;49;00m\u001b[38;5;124;43mEducation:\u001b[39;49m\u001b[38;5;124;43m\"\u001b[39;49m\u001b[38;5;241;43m+\u001b[39;49m\u001b[43meducation\u001b[49m\u001b[38;5;241;43m+\u001b[39;49m\u001b[38;5;124;43m\"\u001b[39;49m\u001b[38;5;130;43;01m\\n\u001b[39;49;00m\u001b[38;5;124;43mAge:\u001b[39;49m\u001b[38;5;124;43m\"\u001b[39;49m\u001b[38;5;241;43m+\u001b[39;49m\u001b[43mage\u001b[49m\n\u001b[0;32m      7\u001b[0m \u001b[38;5;28mprint\u001b[39m(card)\n",
      "\u001b[1;31mTypeError\u001b[0m: can only concatenate str (not \"int\") to str"
     ]
    }
   ],
   "source": [
    "name : str = \"Kanwal\"\n",
    "fname : str = \"Muhammad Fayyaz\"\n",
    "education : str = \"BSE\"\n",
    "age : int = 20\n",
    "\n",
    "card : str = \"PIAIC STUDENT CARD\\nStudent Name:\"+name+\"\\nFather Name:\"+fname+\"\\nEducation:\"+education+\"\\nAge:\"+age\n",
    "print(card)"
   ]
  },
  {
   "cell_type": "markdown",
   "metadata": {},
   "source": [
    "### They need to be converted to the string using typecasting functions str()"
   ]
  },
  {
   "cell_type": "code",
   "execution_count": 17,
   "metadata": {},
   "outputs": [
    {
     "name": "stdout",
     "output_type": "stream",
     "text": [
      "PIAIC STUDENT CARD\n",
      "Student Name:Kanwal\n",
      "Father Name:Muhammad Fayyaz\n",
      "Education:BSE\n",
      "Age:20\n"
     ]
    }
   ],
   "source": [
    "name : str = \"Kanwal\"\n",
    "fname : str = \"Muhammad Fayyaz\"\n",
    "education : str = \"BSE\"\n",
    "age : int = 20\n",
    "\n",
    "card : str = \"PIAIC STUDENT CARD\\nStudent Name:\"+name+\"\\nFather Name:\"+fname+\"\\nEducation:\"+education+\"\\nAge:\"+str(age)\n",
    "print(card)"
   ]
  },
  {
   "cell_type": "markdown",
   "metadata": {},
   "source": [
    "### When we have multiple lines data"
   ]
  },
  {
   "cell_type": "code",
   "execution_count": 19,
   "metadata": {},
   "outputs": [
    {
     "name": "stdout",
     "output_type": "stream",
     "text": [
      "10238\n"
     ]
    }
   ],
   "source": [
    "print(8+2+8+9+8+700+\\\n",
    "      234+45+89+9000+\\\n",
    "      34+23+23+11+44)"
   ]
  },
  {
   "cell_type": "markdown",
   "metadata": {},
   "source": [
    "### Define Multilines strings"
   ]
  },
  {
   "cell_type": "code",
   "execution_count": 22,
   "metadata": {},
   "outputs": [
    {
     "name": "stdout",
     "output_type": "stream",
     "text": [
      "\n",
      "PIAIC STUDENT ADMIT CARD\n",
      "Name : \n",
      "Father Name :\n",
      "Education : \n",
      "Age : \n",
      "\n"
     ]
    }
   ],
   "source": [
    "name : str = \"Kanwal\"\n",
    "fname : str = \"Muhammad Fayyaz\"\n",
    "education : str = \"BSE\"\n",
    "age : int = 20\n",
    "\n",
    "card : str = \"\"\"\n",
    "PIAIC STUDENT ADMIT CARD\n",
    "Name : \n",
    "Father Name :\n",
    "Education : \n",
    "Age : \n",
    "\"\"\"\n",
    "\n",
    "print(card)"
   ]
  },
  {
   "cell_type": "markdown",
   "metadata": {},
   "source": [
    "### f - strings"
   ]
  },
  {
   "cell_type": "code",
   "execution_count": 24,
   "metadata": {},
   "outputs": [
    {
     "name": "stdout",
     "output_type": "stream",
     "text": [
      "\n",
      "PIAIC STUDENT ADMIT CARD\n",
      "Name : Kanwal\n",
      "Father Name : Muhammad Fayyaz\n",
      "Education : BSE\n",
      "Age : 20\n",
      "\n"
     ]
    }
   ],
   "source": [
    "name : str = \"Kanwal\"\n",
    "fname : str = \"Muhammad Fayyaz\"\n",
    "education : str = \"BSE\"\n",
    "age : int = 20\n",
    "\n",
    "card : str = f\"\"\"\n",
    "PIAIC STUDENT ADMIT CARD\n",
    "Name : {name}\n",
    "Father Name : {fname}\n",
    "Education : {education}\n",
    "Age : {age}\n",
    "\"\"\"\n",
    "\n",
    "print(card)"
   ]
  },
  {
   "cell_type": "markdown",
   "metadata": {},
   "source": [
    "### We have 2 styles <br>(1) f string <br>(2) Jinja Style"
   ]
  },
  {
   "cell_type": "code",
   "execution_count": 30,
   "metadata": {},
   "outputs": [
    {
     "name": "stdout",
     "output_type": "stream",
     "text": [
      "{{name}}\n"
     ]
    },
    {
     "data": {
      "text/plain": [
       "'Kanwal'"
      ]
     },
     "execution_count": 30,
     "metadata": {},
     "output_type": "execute_result"
    }
   ],
   "source": [
    "#jinja\n",
    "#mostly used on the web server \n",
    "name : str = \"Kanwal\"\n",
    "\n",
    "print(\"\"\"{{name}}\"\"\")\n",
    "\n",
    "#f-string\n",
    "#mostly widely used in lang chan\n",
    "name : str = \"Kanwal\"\n",
    "\n",
    "f\"\"\"{name}\"\"\""
   ]
  },
  {
   "cell_type": "code",
   "execution_count": 31,
   "metadata": {},
   "outputs": [
    {
     "name": "stdout",
     "output_type": "stream",
     "text": [
      "\n",
      "PIAIC STUDENT ADMIT CARD\n",
      "Name : Kanwal\n",
      "Father Name : Muhammad Fayyaz \n",
      "Education : BSE\n",
      "Age : 20\n",
      "\n"
     ]
    }
   ],
   "source": [
    "name : str = \"Kanwal\"\n",
    "fname : str = \"Muhammad Fayyaz\"\n",
    "education : str = \"BSE\"\n",
    "age : int = 20\n",
    "\n",
    "card : str = f\"\"\"\n",
    "PIAIC STUDENT ADMIT CARD\n",
    "Name : %s\n",
    "Father Name : %s \n",
    "Education : %s\n",
    "Age : %d\n",
    "\"\"\" % (name,fname,education,age)\n",
    "\n",
    "print(card)"
   ]
  },
  {
   "cell_type": "code",
   "execution_count": 33,
   "metadata": {},
   "outputs": [
    {
     "name": "stdout",
     "output_type": "stream",
     "text": [
      "Kanwal\n"
     ]
    }
   ],
   "source": [
    "name : str = \"kaNwal\"\n",
    "print(name.capitalize())"
   ]
  },
  {
   "cell_type": "code",
   "execution_count": 34,
   "metadata": {},
   "outputs": [
    {
     "data": {
      "text/plain": [
       "'Value of a = 7 and value of b = 9'"
      ]
     },
     "execution_count": 34,
     "metadata": {},
     "output_type": "execute_result"
    }
   ],
   "source": [
    "a = 7\n",
    "b = 9\n",
    "\"Value of a = {} and value of b = {}\".format(a,b)"
   ]
  },
  {
   "cell_type": "code",
   "execution_count": 36,
   "metadata": {},
   "outputs": [
    {
     "name": "stdout",
     "output_type": "stream",
     "text": [
      "\n",
      "PIAIC STUDENT ADMIT CARD\n",
      "Name : Kanwal\n",
      "Father Name : Muhammad Fayyaz \n",
      "Education : BSE\n",
      "Age : 20\n",
      "\n"
     ]
    }
   ],
   "source": [
    "name : str = \"Kanwal\"\n",
    "fname : str = \"Muhammad Fayyaz\"\n",
    "education : str = \"BSE\"\n",
    "age : int = 20\n",
    "\n",
    "card : str = \"\"\"\n",
    "PIAIC STUDENT ADMIT CARD\n",
    "Name : {}\n",
    "Father Name : {} \n",
    "Education : {}\n",
    "Age : {}\n",
    "\"\"\".format(name,fname,education,age)\n",
    "\n",
    "print(card)"
   ]
  },
  {
   "cell_type": "markdown",
   "metadata": {},
   "source": [
    "### But what i replace the fname and name in format <br>I will have the wrong information"
   ]
  },
  {
   "cell_type": "code",
   "execution_count": 37,
   "metadata": {},
   "outputs": [
    {
     "name": "stdout",
     "output_type": "stream",
     "text": [
      "\n",
      "PIAIC STUDENT ADMIT CARD\n",
      "Name : Muhammad Fayyaz\n",
      "Father Name : Kanwal \n",
      "Education : BSE\n",
      "Age : 20\n",
      "\n"
     ]
    }
   ],
   "source": [
    "name : str = \"Kanwal\"\n",
    "fname : str = \"Muhammad Fayyaz\"\n",
    "education : str = \"BSE\"\n",
    "age : int = 20\n",
    "\n",
    "card : str = \"\"\"\n",
    "PIAIC STUDENT ADMIT CARD\n",
    "Name : {}\n",
    "Father Name : {} \n",
    "Education : {}\n",
    "Age : {}\n",
    "\"\"\".format(fname,name,education,age)\n",
    "\n",
    "print(card)"
   ]
  },
  {
   "cell_type": "markdown",
   "metadata": {},
   "source": [
    "### You can place index number as well"
   ]
  },
  {
   "cell_type": "code",
   "execution_count": 40,
   "metadata": {},
   "outputs": [
    {
     "name": "stdout",
     "output_type": "stream",
     "text": [
      "\n",
      "PIAIC STUDENT ADMIT CARD\n",
      "Name : 20\n",
      "Father Name : Muhammad Fayyaz \n",
      "Education : Kanwal\n",
      "Age : BSE\n",
      "\n"
     ]
    }
   ],
   "source": [
    "name : str = \"Kanwal\"\n",
    "fname : str = \"Muhammad Fayyaz\"\n",
    "education : str = \"BSE\"\n",
    "age : int = 20\n",
    "\n",
    "card : str = \"\"\"\n",
    "PIAIC STUDENT ADMIT CARD\n",
    "Name : {3}\n",
    "Father Name : {1} \n",
    "Education : {0}\n",
    "Age : {2}\n",
    "\"\"\".format(name,fname,education,age)\n",
    "#            3    1    0          2\n",
    "\n",
    "print(card)"
   ]
  },
  {
   "cell_type": "code",
   "execution_count": 43,
   "metadata": {},
   "outputs": [
    {
     "name": "stdout",
     "output_type": "stream",
     "text": [
      "\n",
      "PIAIC STUDENT ADMIT CARD\n",
      "Name : Kanwal\n",
      "Father Name : Muhammad Fayyaz \n",
      "Education : BSE\n",
      "Age : 20\n",
      "\n"
     ]
    }
   ],
   "source": [
    "name : str = \"Kanwal\"\n",
    "fname : str = \"Muhammad Fayyaz\"\n",
    "education : str = \"BSE\"\n",
    "age : int = 20\n",
    "\n",
    "card : str = \"\"\"\n",
    "PIAIC STUDENT ADMIT CARD\n",
    "Name : {a}\n",
    "Father Name : {b} \n",
    "Education : {c}\n",
    "Age : {d}\n",
    "\"\"\".format(a=name,b=fname,c=education,d=age)\n",
    "#            a    b    c         d\n",
    "\n",
    "print(card)"
   ]
  },
  {
   "cell_type": "markdown",
   "metadata": {},
   "source": [
    "### Explore f-strings methods & attributes"
   ]
  },
  {
   "cell_type": "code",
   "execution_count": 46,
   "metadata": {},
   "outputs": [
    {
     "name": "stdout",
     "output_type": "stream",
     "text": [
      "['capitalize', 'casefold', 'center', 'count', 'encode', 'endswith', 'expandtabs', 'find', 'format', 'format_map', 'index', 'isalnum', 'isalpha', 'isascii', 'isdecimal', 'isdigit', 'isidentifier', 'islower', 'isnumeric', 'isprintable', 'isspace', 'istitle', 'isupper', 'join', 'ljust', 'lower', 'lstrip', 'maketrans', 'partition', 'removeprefix', 'removesuffix', 'replace', 'rfind', 'rindex', 'rjust', 'rpartition', 'rsplit', 'rstrip', 'split', 'splitlines', 'startswith', 'strip', 'swapcase', 'title', 'translate', 'upper', 'zfill']\n",
      "47\n"
     ]
    }
   ],
   "source": [
    "a : list[str] = [i for i in dir(str) if not \"__\" in i]\n",
    "print(a)\n",
    "print(len(a))"
   ]
  },
  {
   "cell_type": "code",
   "execution_count": 51,
   "metadata": {},
   "outputs": [
    {
     "name": "stdout",
     "output_type": "stream",
     "text": [
      "Kanwal\n"
     ]
    }
   ],
   "source": [
    "name : str = \"KANWal\"\n",
    "print(name.capitalize())"
   ]
  },
  {
   "cell_type": "code",
   "execution_count": 52,
   "metadata": {},
   "outputs": [
    {
     "name": "stdout",
     "output_type": "stream",
     "text": [
      "KANWAL\n"
     ]
    }
   ],
   "source": [
    "name : str = \"KANWal\"\n",
    "print(name.upper())"
   ]
  },
  {
   "cell_type": "code",
   "execution_count": 53,
   "metadata": {},
   "outputs": [
    {
     "name": "stdout",
     "output_type": "stream",
     "text": [
      "kanwal\n"
     ]
    }
   ],
   "source": [
    "name : str = \"KANWal\"\n",
    "print(name.lower())"
   ]
  },
  {
   "cell_type": "code",
   "execution_count": 59,
   "metadata": {},
   "outputs": [
    {
     "name": "stdout",
     "output_type": "stream",
     "text": [
      "5\n"
     ]
    }
   ],
   "source": [
    "name : str = \"KANWaaaaal\"\n",
    "print(name.count(\"a\"))"
   ]
  },
  {
   "cell_type": "code",
   "execution_count": 61,
   "metadata": {},
   "outputs": [
    {
     "name": "stdout",
     "output_type": "stream",
     "text": [
      "kanwal\n"
     ]
    }
   ],
   "source": [
    "name : str = \"KANWal\"\n",
    "print(name.casefold())\n",
    "# works like lower"
   ]
  },
  {
   "cell_type": "code",
   "execution_count": 70,
   "metadata": {},
   "outputs": [
    {
     "name": "stdout",
     "output_type": "stream",
     "text": [
      "KANWal\n"
     ]
    }
   ],
   "source": [
    "name : str = \"               KANWal              \"\n",
    "print(name.strip())"
   ]
  },
  {
   "cell_type": "code",
   "execution_count": 72,
   "metadata": {},
   "outputs": [
    {
     "name": "stdout",
     "output_type": "stream",
     "text": [
      "KANWal\n"
     ]
    }
   ],
   "source": [
    "name : str = \"-------------KANWal--------------------\"\n",
    "print(name.strip(\"-\"))"
   ]
  },
  {
   "cell_type": "code",
   "execution_count": 74,
   "metadata": {},
   "outputs": [
    {
     "name": "stdout",
     "output_type": "stream",
     "text": [
      "KANWal//////////////\n"
     ]
    }
   ],
   "source": [
    "name : str = \"//////////////KANWal//////////////\"\n",
    "print(name.lstrip(\"/\"))"
   ]
  },
  {
   "cell_type": "code",
   "execution_count": 75,
   "metadata": {},
   "outputs": [
    {
     "name": "stdout",
     "output_type": "stream",
     "text": [
      "//////////////KANWal\n"
     ]
    }
   ],
   "source": [
    "name : str = \"//////////////KANWal//////////////\"\n",
    "print(name.rstrip(\"/\"))"
   ]
  },
  {
   "cell_type": "code",
   "execution_count": 76,
   "metadata": {},
   "outputs": [
    {
     "name": "stdout",
     "output_type": "stream",
     "text": [
      "KAN                 Wal\n"
     ]
    }
   ],
   "source": [
    "name : str = \"             KAN                 Wal            \"\n",
    "print(name.strip())"
   ]
  },
  {
   "cell_type": "code",
   "execution_count": 85,
   "metadata": {},
   "outputs": [
    {
     "name": "stdout",
     "output_type": "stream",
     "text": [
      "KAN                 Wal\n"
     ]
    },
    {
     "data": {
      "text/plain": [
       "'             KAN                 Wal            '"
      ]
     },
     "metadata": {},
     "output_type": "display_data"
    }
   ],
   "source": [
    "name : str = \"             KAN                 Wal            \"\n",
    "print(name.strip())\n",
    "display(name)"
   ]
  },
  {
   "cell_type": "code",
   "execution_count": 84,
   "metadata": {},
   "outputs": [
    {
     "name": "stdout",
     "output_type": "stream",
     "text": [
      " KAN Wal \n"
     ]
    },
    {
     "data": {
      "text/plain": [
       "' KAN Wal '"
      ]
     },
     "metadata": {},
     "output_type": "display_data"
    }
   ],
   "source": [
    "import re\n",
    "name : str = \"             KAN                 Wal            \"\n",
    "name1 = re.sub(\" {2,100}\",\" \",name)\n",
    "print(name1)\n",
    "display(name1)"
   ]
  },
  {
   "cell_type": "code",
   "execution_count": 93,
   "metadata": {},
   "outputs": [
    {
     "name": "stdout",
     "output_type": "stream",
     "text": [
      "Kanwal\tShehzadi\n",
      "BSE-6B\n"
     ]
    }
   ],
   "source": [
    "print(\"Kanwal\\tShehzadi\\nBSE-6B-\\b\")\n",
    "#\\n new line\n",
    "#\\t tab space\n",
    "#\\b backspace"
   ]
  },
  {
   "cell_type": "code",
   "execution_count": 94,
   "metadata": {},
   "outputs": [
    {
     "data": {
      "text/plain": [
       "'nostarch.com'"
      ]
     },
     "execution_count": 94,
     "metadata": {},
     "output_type": "execute_result"
    }
   ],
   "source": [
    "nostarch_url = \"https://nostarch.com\"\n",
    "nostarch_url.removeprefix('https://')"
   ]
  },
  {
   "cell_type": "code",
   "execution_count": 96,
   "metadata": {},
   "outputs": [
    {
     "data": {
      "text/plain": [
       "'https://nostarch'"
      ]
     },
     "execution_count": 96,
     "metadata": {},
     "output_type": "execute_result"
    }
   ],
   "source": [
    "nostarch_url = \"https://nostarch.com\"\n",
    "nostarch_url.removesuffix('.com')"
   ]
  },
  {
   "cell_type": "code",
   "execution_count": null,
   "metadata": {},
   "outputs": [],
   "source": []
  }
 ],
 "metadata": {
  "kernelspec": {
   "display_name": "python12",
   "language": "python",
   "name": "python3"
  },
  "language_info": {
   "codemirror_mode": {
    "name": "ipython",
    "version": 3
   },
   "file_extension": ".py",
   "mimetype": "text/x-python",
   "name": "python",
   "nbconvert_exporter": "python",
   "pygments_lexer": "ipython3",
   "version": "3.12.0"
  }
 },
 "nbformat": 4,
 "nbformat_minor": 2
}
