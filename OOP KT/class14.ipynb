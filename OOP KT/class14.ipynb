{
 "cells": [
  {
   "cell_type": "markdown",
   "metadata": {},
   "source": [
    "# Method Overriding"
   ]
  },
  {
   "cell_type": "code",
   "execution_count": 2,
   "metadata": {},
   "outputs": [
    {
     "name": "stdout",
     "output_type": "stream",
     "text": [
      "Bird is eating Corn & drinking Water\n",
      "Animal is eating Bread\n"
     ]
    },
    {
     "data": {
      "text/plain": [
       "__main__.Bird"
      ]
     },
     "execution_count": 2,
     "metadata": {},
     "output_type": "execute_result"
    }
   ],
   "source": [
    "class Animal:\n",
    "    def __init__(self,food : str) -> None:\n",
    "        self.food = food\n",
    "\n",
    "    def eating(self) -> None:\n",
    "        print(f\"Animal is eating {self.food}\")\n",
    "\n",
    "class Bird(Animal):\n",
    "    def __init__(self,food : str,drinking : str) -> None:\n",
    "        super().__init__(food)\n",
    "        self.drinking = drinking\n",
    "\n",
    "    def eating(self) -> None:\n",
    "        print(f\"Bird is eating {self.food} & drinking {self.drinking}\")\n",
    "\n",
    "bird : Bird = Bird(\"Corn\",\"Water\")\n",
    "animal : Animal = Animal(\"Bread\")\n",
    "\n",
    "bird.eating()\n",
    "animal.eating()"
   ]
  },
  {
   "cell_type": "code",
   "execution_count": 6,
   "metadata": {},
   "outputs": [
    {
     "name": "stdout",
     "output_type": "stream",
     "text": [
      "Bird is eating\n",
      "Animal is eating\n"
     ]
    },
    {
     "data": {
      "text/plain": [
       "__main__.Animal"
      ]
     },
     "execution_count": 6,
     "metadata": {},
     "output_type": "execute_result"
    }
   ],
   "source": [
    "class Animal:\n",
    "    def eating(self) -> None:\n",
    "        print(f\"Animal is eating\")\n",
    "\n",
    "class Bird(Animal):\n",
    "    def eating(self) -> None:\n",
    "        print(f\"Bird is eating\")\n",
    "\n",
    "bird : Bird = Bird()\n",
    "animal : Animal = Animal()\n",
    "\n",
    "#Polymorphism (runtime pe decide ho ga ky parent ka ya child ka eating() method call ho ga)\n",
    "bird : Animal = Bird()\n",
    "bird.eating() #Bird\n",
    "\n",
    "bird1 : Bird = Animal()\n",
    "bird1.eating() #Animal\n",
    "\n",
    "type(bird1)"
   ]
  },
  {
   "cell_type": "markdown",
   "metadata": {},
   "source": [
    "# Static Method"
   ]
  },
  {
   "cell_type": "code",
   "execution_count": 1,
   "metadata": {},
   "outputs": [
    {
     "name": "stdout",
     "output_type": "stream",
     "text": [
      "5\n",
      "20\n"
     ]
    }
   ],
   "source": [
    "class MathOperation:\n",
    "\n",
    "    @staticmethod\n",
    "    def add(x : int,y : int) -> int:\n",
    "        \"\"\"Add Two Numbers\"\"\"\n",
    "        return x + y\n",
    "    \n",
    "    @staticmethod\n",
    "    def multiply(x : int,y : int) -> int:\n",
    "        \"\"\"Multiply Two Numbers\"\"\"\n",
    "        return x * y\n",
    "    \n",
    "print(MathOperation.add(2,3))\n",
    "print(MathOperation.multiply(4,5))"
   ]
  },
  {
   "cell_type": "markdown",
   "metadata": {},
   "source": [
    "# Method Overloading"
   ]
  },
  {
   "cell_type": "code",
   "execution_count": 14,
   "metadata": {},
   "outputs": [
    {
     "ename": "TypeError",
     "evalue": "myClass.product() missing 1 required positional argument: 'c'",
     "output_type": "error",
     "traceback": [
      "\u001b[1;31m---------------------------------------------------------------------------\u001b[0m",
      "\u001b[1;31mTypeError\u001b[0m                                 Traceback (most recent call last)",
      "Cell \u001b[1;32mIn[14], line 15\u001b[0m\n\u001b[0;32m     13\u001b[0m p1 \u001b[38;5;241m=\u001b[39m myClass()\n\u001b[0;32m     14\u001b[0m p2 \u001b[38;5;241m=\u001b[39m myClass()\n\u001b[1;32m---> 15\u001b[0m \u001b[43mp1\u001b[49m\u001b[38;5;241;43m.\u001b[39;49m\u001b[43mproduct\u001b[49m\u001b[43m(\u001b[49m\u001b[38;5;241;43m2\u001b[39;49m\u001b[43m,\u001b[49m\u001b[38;5;241;43m3\u001b[39;49m\u001b[43m)\u001b[49m\n\u001b[0;32m     16\u001b[0m p2\u001b[38;5;241m.\u001b[39mproduct(\u001b[38;5;241m3\u001b[39m,\u001b[38;5;241m4\u001b[39m,\u001b[38;5;241m2\u001b[39m)\n",
      "\u001b[1;31mTypeError\u001b[0m: myClass.product() missing 1 required positional argument: 'c'"
     ]
    }
   ],
   "source": [
    "class myClass:\n",
    "    def __init__(self):\n",
    "        pass\n",
    "\n",
    "    def product(self,a, b):\n",
    "        p = a * b\n",
    "        print(p)\n",
    "\n",
    "    def product(self,a, b, c):\n",
    "        p = a * b *c\n",
    "        print(p)\n",
    "\n",
    "p1 = myClass()\n",
    "p2 = myClass()\n",
    "p1.product(2,3)\n",
    "p2.product(3,4,2)"
   ]
  },
  {
   "cell_type": "markdown",
   "metadata": {},
   "source": [
    "# IN PYTHON EVERYTHING IS OBJECT"
   ]
  },
  {
   "cell_type": "markdown",
   "metadata": {},
   "source": [
    "Whatever you use list,tuple,set everything has a class at the backend which has some methods and attributes \n",
    "so or calling that we need to create object so in this way everything is object in python"
   ]
  },
  {
   "cell_type": "code",
   "execution_count": 16,
   "metadata": {},
   "outputs": [
    {
     "name": "stdout",
     "output_type": "stream",
     "text": [
      "Human is eating\n"
     ]
    }
   ],
   "source": [
    "class Human:\n",
    "    def eating(self,food : str) -> None:\n",
    "        print(\"Human is eating\")\n",
    "    \n",
    "obj1 = Human()\n",
    "obj1.eating('Biryani')"
   ]
  },
  {
   "cell_type": "markdown",
   "metadata": {},
   "source": [
    "# Backend pe interpreter class kay ander object khud pass kar deta hai jiska hamain pata bhi mhi hota"
   ]
  },
  {
   "cell_type": "code",
   "execution_count": 19,
   "metadata": {},
   "outputs": [
    {
     "name": "stdout",
     "output_type": "stream",
     "text": [
      "Human is eating\n"
     ]
    }
   ],
   "source": [
    "class Human1(object):\n",
    "    def eating(self,food : str) -> None:\n",
    "        print(\"Human is eating\")\n",
    "\n",
    "obj2 = Human()\n",
    "obj2.eating(\"Biryani\")\n"
   ]
  },
  {
   "cell_type": "code",
   "execution_count": 23,
   "metadata": {},
   "outputs": [
    {
     "data": {
      "text/plain": [
       "['__class__',\n",
       " '__delattr__',\n",
       " '__dict__',\n",
       " '__dir__',\n",
       " '__doc__',\n",
       " '__eq__',\n",
       " '__format__',\n",
       " '__ge__',\n",
       " '__getattribute__',\n",
       " '__getstate__',\n",
       " '__gt__',\n",
       " '__hash__',\n",
       " '__init__',\n",
       " '__init_subclass__',\n",
       " '__le__',\n",
       " '__lt__',\n",
       " '__module__',\n",
       " '__ne__',\n",
       " '__new__',\n",
       " '__reduce__',\n",
       " '__reduce_ex__',\n",
       " '__repr__',\n",
       " '__setattr__',\n",
       " '__sizeof__',\n",
       " '__str__',\n",
       " '__subclasshook__',\n",
       " '__weakref__',\n",
       " 'eating']"
      ]
     },
     "execution_count": 23,
     "metadata": {},
     "output_type": "execute_result"
    }
   ],
   "source": [
    "dir(obj2)\n",
    "# yeh sare method kahan se aa rahe hain?yeh sub object class se aa rahe hain\n",
    "# ap in methods ko override kr sakte hn phir override wala call hoga\n",
    "# agar ap override nhi krte tw object class wala hi call ho jyae ga"
   ]
  },
  {
   "cell_type": "code",
   "execution_count": null,
   "metadata": {},
   "outputs": [],
   "source": []
  },
  {
   "cell_type": "code",
   "execution_count": null,
   "metadata": {},
   "outputs": [],
   "source": []
  }
 ],
 "metadata": {
  "kernelspec": {
   "display_name": "python12",
   "language": "python",
   "name": "python3"
  },
  "language_info": {
   "codemirror_mode": {
    "name": "ipython",
    "version": 3
   },
   "file_extension": ".py",
   "mimetype": "text/x-python",
   "name": "python",
   "nbconvert_exporter": "python",
   "pygments_lexer": "ipython3",
   "version": "3.12.0"
  }
 },
 "nbformat": 4,
 "nbformat_minor": 2
}
