{
 "cells": [
  {
   "cell_type": "markdown",
   "metadata": {},
   "source": [
    "# CLASS & METHODS"
   ]
  },
  {
   "cell_type": "code",
   "execution_count": 8,
   "metadata": {},
   "outputs": [
    {
     "name": "stdout",
     "output_type": "stream",
     "text": [
      "Kanwal\n",
      "Kanwal is speaking Hello!!!\n",
      "Kanwal is teaching Programming\n"
     ]
    }
   ],
   "source": [
    "class Teacher:\n",
    "    def __init__(self,teacher_id : int,name:str) -> None:\n",
    "        self.name : str = name\n",
    "        self.teacher_id : int = teacher_id\n",
    "        self.organization_name : str = \"PIAIC\"\n",
    "\n",
    "    def speak(self,words : str) -> None:\n",
    "        print(f\"{self.name} is speaking {words}\")\n",
    "\n",
    "    def teaching(self,subject : str) -> None:\n",
    "        print(f\"{self.name} is teaching {subject}\")\n",
    "\n",
    "obj1 : Teacher = Teacher(1,\"Kanwal\")\n",
    "print(obj1.name)\n",
    "obj1.speak(\"Hello!!!\")\n",
    "obj1.teaching(\"Programming\")"
   ]
  },
  {
   "cell_type": "markdown",
   "metadata": {},
   "source": [
    "# CLASS VARIABLE"
   ]
  },
  {
   "cell_type": "code",
   "execution_count": 10,
   "metadata": {},
   "outputs": [
    {
     "name": "stdout",
     "output_type": "stream",
     "text": [
      "Kanwal\n",
      "Kanwal is speaking Hello!!!\n",
      "Kanwal is teaching Programming under PIAIC\n",
      "PIAIC\n"
     ]
    }
   ],
   "source": [
    "class Teacher:\n",
    "    organization_name : str = \"PIAIC\"\n",
    "    def __init__(self,teacher_id : int,name:str) -> None:\n",
    "        self.name : str = name\n",
    "        self.teacher_id : int = teacher_id\n",
    "\n",
    "    def speak(self,words : str) -> None:\n",
    "        print(f\"{self.name} is speaking {words}\")\n",
    "\n",
    "    def teaching(self,subject : str) -> None:\n",
    "        print(f\"{self.name} is teaching {subject} under {Teacher.organization_name}\")\n",
    "\n",
    "obj1 : Teacher = Teacher(1,\"Kanwal\")\n",
    "print(obj1.name)\n",
    "obj1.speak(\"Hello!!!\")\n",
    "obj1.teaching(\"Programming\")\n",
    "print(obj1.organization_name)"
   ]
  },
  {
   "cell_type": "code",
   "execution_count": null,
   "metadata": {},
   "outputs": [],
   "source": []
  }
 ],
 "metadata": {
  "kernelspec": {
   "display_name": "python12",
   "language": "python",
   "name": "python3"
  },
  "language_info": {
   "codemirror_mode": {
    "name": "ipython",
    "version": 3
   },
   "file_extension": ".py",
   "mimetype": "text/x-python",
   "name": "python",
   "nbconvert_exporter": "python",
   "pygments_lexer": "ipython3",
   "version": "3.12.0"
  }
 },
 "nbformat": 4,
 "nbformat_minor": 2
}
