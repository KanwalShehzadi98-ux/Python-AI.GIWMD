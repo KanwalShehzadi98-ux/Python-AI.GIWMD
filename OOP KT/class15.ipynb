{
 "cells": [
  {
   "cell_type": "markdown",
   "metadata": {},
   "source": [
    "# Callable"
   ]
  },
  {
   "cell_type": "markdown",
   "metadata": {},
   "source": [
    "In Python, when an object defines the special method __call__, it becomes callable, and invoking the object with parentheses will automatically call the __call__ method."
   ]
  },
  {
   "cell_type": "code",
   "execution_count": 72,
   "metadata": {},
   "outputs": [
    {
     "name": "stdout",
     "output_type": "stream",
     "text": [
      "81\n"
     ]
    }
   ],
   "source": [
    "class MyCallableClass:\n",
    "    def __call__(self,x,y):\n",
    "        return x ** y\n",
    "    \n",
    "my_callable_obj = MyCallableClass()\n",
    "result = my_callable_obj(3,4)\n",
    "print(result)"
   ]
  },
  {
   "cell_type": "markdown",
   "metadata": {},
   "source": [
    "In this example, my_callable_obj is an instance of MyCallableClass. When we use parentheses () with my_callable_obj and pass arguments 3 and 4, Python automatically invokes the __call__ method defined within MyCallableClass, passing 3 and 4 as arguments. As a result, it computes 3 ** 4 and returns 81."
   ]
  },
  {
   "cell_type": "code",
   "execution_count": 73,
   "metadata": {},
   "outputs": [
    {
     "name": "stdout",
     "output_type": "stream",
     "text": [
      "81\n",
      "81\n"
     ]
    }
   ],
   "source": [
    "class MyCallableClass:\n",
    "    def __call__(self,x,y):\n",
    "        return x ** y\n",
    "    \n",
    "    def instance_method(self,a,b):\n",
    "        return a ** b\n",
    "    \n",
    "my_callable_obj = MyCallableClass()\n",
    "result = my_callable_obj(3,4)\n",
    "result1 = my_callable_obj.instance_method(3,4)\n",
    "print(result)\n",
    "print(result1)"
   ]
  },
  {
   "cell_type": "markdown",
   "metadata": {},
   "source": [
    "In this example, MyCallableClass has both a __call__ method and an instance_method. __call__ is automatically invoked when you use parentheses directly on an instance of the class, while instance_method needs to be explicitly called with dot notation."
   ]
  },
  {
   "cell_type": "markdown",
   "metadata": {},
   "source": [
    "# MODULES IN PYTHON"
   ]
  },
  {
   "cell_type": "code",
   "execution_count": 74,
   "metadata": {},
   "outputs": [
    {
     "name": "stdout",
     "output_type": "stream",
     "text": [
      "This is my constructor\n"
     ]
    }
   ],
   "source": [
    "from PIAICPackage.module1 import MyClass\n",
    "abc : MyClass = MyClass()"
   ]
  },
  {
   "cell_type": "code",
   "execution_count": 75,
   "metadata": {},
   "outputs": [
    {
     "name": "stdout",
     "output_type": "stream",
     "text": [
      "This is my constructor\n"
     ]
    }
   ],
   "source": [
    "from PIAICPackage.module1 import *\n",
    "abc : MyClass = MyClass()"
   ]
  },
  {
   "cell_type": "markdown",
   "metadata": {},
   "source": [
    "# ENCAPSULATION\n",
    "## Access Modifiers\n",
    "* Public\n",
    "* Private\n",
    "* Protected  (Protected members are accessible between parent class and its subclasses)"
   ]
  },
  {
   "cell_type": "code",
   "execution_count": 76,
   "metadata": {},
   "outputs": [
    {
     "name": "stdout",
     "output_type": "stream",
     "text": [
      "0000\n"
     ]
    }
   ],
   "source": [
    "class Piaic:\n",
    "    def __init__(self) -> None:\n",
    "        # public (agr dot kay bad directly name likh den tw wo  hota hai public)\n",
    "        self.piaic_helpline : str = \"0000\"\n",
    "        # protected (agr dot kay bad _ laga den tw wo hai protected)\n",
    "        self._total_expense : int = 700000\n",
    "        # private (agr dit ky bad __ double underscore = dunder ho tu use kehte hai private)\n",
    "        self.__test_announcement : str = \"5 Nov 2023\"\n",
    "\n",
    "obj1 : Piaic = Piaic()\n",
    "print(obj1.piaic_helpline)"
   ]
  },
  {
   "cell_type": "code",
   "execution_count": 77,
   "metadata": {},
   "outputs": [
    {
     "name": "stdout",
     "output_type": "stream",
     "text": [
      "5555\n"
     ]
    }
   ],
   "source": [
    "# piaic_helpline is public so we can change it\n",
    "obj1.piaic_helpline = \"5555\"\n",
    "print(obj1.piaic_helpline)"
   ]
  },
  {
   "cell_type": "code",
   "execution_count": 78,
   "metadata": {},
   "outputs": [
    {
     "ename": "AttributeError",
     "evalue": "'Piaic' object has no attribute '__test_announcement'",
     "output_type": "error",
     "traceback": [
      "\u001b[1;31m---------------------------------------------------------------------------\u001b[0m",
      "\u001b[1;31mAttributeError\u001b[0m                            Traceback (most recent call last)",
      "Cell \u001b[1;32mIn[78], line 3\u001b[0m\n\u001b[0;32m      1\u001b[0m \u001b[38;5;66;03m# __test_announcement is private so we can't change it\u001b[39;00m\n\u001b[0;32m      2\u001b[0m \u001b[38;5;66;03m# obj1.__test_announcement = \"31 March 2023\"\u001b[39;00m\n\u001b[1;32m----> 3\u001b[0m \u001b[38;5;28mprint\u001b[39m(\u001b[43mobj1\u001b[49m\u001b[38;5;241;43m.\u001b[39;49m\u001b[43m__test_announcement\u001b[49m)\n",
      "\u001b[1;31mAttributeError\u001b[0m: 'Piaic' object has no attribute '__test_announcement'"
     ]
    }
   ],
   "source": [
    "# __test_announcement is private so we can't change it\n",
    "# obj1.__test_announcement = \"31 March 2023\"\n",
    "print(obj1.__test_announcement)"
   ]
  },
  {
   "cell_type": "code",
   "execution_count": null,
   "metadata": {},
   "outputs": [],
   "source": [
    "class Login:\n",
    "    def __init__(self) -> None:\n",
    "        self.__username : str = \"Admin\"\n",
    "        self.__password : str = \"Admin\"\n",
    "\n",
    "    def __dbconnectivity(self,user:str,password:str):\n",
    "        # print(\"Successfully Connected\")\n",
    "        if user == \"Admin\" and password == self.__password:\n",
    "            return \"Valid User\"\n",
    "        else:\n",
    "            return \"Invalid User\"\n",
    "        \n",
    "    def student_login(self,user:str,pass1:str):\n",
    "        print(self.__dbconnectivity(user,pass1))\n",
    "\n",
    "    def update_password(self,password:str):\n",
    "        self.__password = password\n",
    "\n",
    "    def display_information(self):\n",
    "        print(f\"Hello Dear {self.__username} and {self.__password}\")\n",
    "\n"
   ]
  },
  {
   "cell_type": "code",
   "execution_count": null,
   "metadata": {},
   "outputs": [
    {
     "ename": "AttributeError",
     "evalue": "'Login' object has no attribute '__password'",
     "output_type": "error",
     "traceback": [
      "\u001b[1;31m---------------------------------------------------------------------------\u001b[0m",
      "\u001b[1;31mAttributeError\u001b[0m                            Traceback (most recent call last)",
      "Cell \u001b[1;32mIn[49], line 2\u001b[0m\n\u001b[0;32m      1\u001b[0m obj1 : Login \u001b[38;5;241m=\u001b[39m Login()\n\u001b[1;32m----> 2\u001b[0m \u001b[43mobj1\u001b[49m\u001b[38;5;241;43m.\u001b[39;49m\u001b[43m__password\u001b[49m\n",
      "\u001b[1;31mAttributeError\u001b[0m: 'Login' object has no attribute '__password'"
     ]
    }
   ],
   "source": [
    "obj1 : Login = Login()\n",
    "obj1.__password"
   ]
  },
  {
   "cell_type": "code",
   "execution_count": null,
   "metadata": {},
   "outputs": [
    {
     "ename": "AttributeError",
     "evalue": "'Login' object has no attribute '__username'",
     "output_type": "error",
     "traceback": [
      "\u001b[1;31m---------------------------------------------------------------------------\u001b[0m",
      "\u001b[1;31mAttributeError\u001b[0m                            Traceback (most recent call last)",
      "Cell \u001b[1;32mIn[50], line 1\u001b[0m\n\u001b[1;32m----> 1\u001b[0m \u001b[43mobj1\u001b[49m\u001b[38;5;241;43m.\u001b[39;49m\u001b[43m__username\u001b[49m\n",
      "\u001b[1;31mAttributeError\u001b[0m: 'Login' object has no attribute '__username'"
     ]
    }
   ],
   "source": [
    "obj1.__username"
   ]
  },
  {
   "cell_type": "code",
   "execution_count": null,
   "metadata": {},
   "outputs": [
    {
     "name": "stdout",
     "output_type": "stream",
     "text": [
      "Invalid User\n"
     ]
    }
   ],
   "source": [
    "obj1.student_login(\"Admin\",\"Kanwal\")"
   ]
  },
  {
   "cell_type": "code",
   "execution_count": null,
   "metadata": {},
   "outputs": [
    {
     "name": "stdout",
     "output_type": "stream",
     "text": [
      "Valid User\n"
     ]
    }
   ],
   "source": [
    "obj1.student_login(\"Admin\",\"Admin\")"
   ]
  },
  {
   "cell_type": "code",
   "execution_count": null,
   "metadata": {},
   "outputs": [],
   "source": [
    "obj1.update_password(\"Kanwal\")"
   ]
  },
  {
   "cell_type": "code",
   "execution_count": null,
   "metadata": {},
   "outputs": [
    {
     "name": "stdout",
     "output_type": "stream",
     "text": [
      "Valid User\n"
     ]
    }
   ],
   "source": [
    "obj1.student_login(\"Admin\",\"Kanwal\")"
   ]
  },
  {
   "cell_type": "code",
   "execution_count": null,
   "metadata": {},
   "outputs": [
    {
     "name": "stdout",
     "output_type": "stream",
     "text": [
      "Hello Dear Admin and Kanwal\n"
     ]
    }
   ],
   "source": [
    "obj1.display_information()"
   ]
  },
  {
   "cell_type": "code",
   "execution_count": null,
   "metadata": {},
   "outputs": [
    {
     "name": "stdout",
     "output_type": "stream",
     "text": [
      "Invalid User\n"
     ]
    }
   ],
   "source": [
    "obj1.student_login(\"Admin\",\"Admin\")"
   ]
  },
  {
   "cell_type": "code",
   "execution_count": null,
   "metadata": {},
   "outputs": [],
   "source": [
    "obj1.update_password(\"Kanwal123\")"
   ]
  },
  {
   "cell_type": "code",
   "execution_count": null,
   "metadata": {},
   "outputs": [
    {
     "name": "stdout",
     "output_type": "stream",
     "text": [
      "Valid User\n"
     ]
    }
   ],
   "source": [
    "obj1.student_login(\"Admin\",\"Kanwal123\")"
   ]
  },
  {
   "cell_type": "code",
   "execution_count": null,
   "metadata": {},
   "outputs": [],
   "source": [
    "obj2 : Login = Login()\n",
    "obj2.update_password('NewPass')"
   ]
  },
  {
   "cell_type": "code",
   "execution_count": null,
   "metadata": {},
   "outputs": [
    {
     "name": "stdout",
     "output_type": "stream",
     "text": [
      "Valid User\n"
     ]
    }
   ],
   "source": [
    "obj2.student_login(\"Admin\",\"NewPass\")"
   ]
  },
  {
   "cell_type": "code",
   "execution_count": null,
   "metadata": {},
   "outputs": [
    {
     "name": "stdout",
     "output_type": "stream",
     "text": [
      "Valid User\n"
     ]
    }
   ],
   "source": [
    "obj1.student_login(\"Admin\",\"Kanwal123\")"
   ]
  },
  {
   "cell_type": "markdown",
   "metadata": {},
   "source": [
    "# __str__ & __repr__"
   ]
  },
  {
   "cell_type": "code",
   "execution_count": null,
   "metadata": {},
   "outputs": [
    {
     "name": "stdout",
     "output_type": "stream",
     "text": [
      "<__main__.Teacher object at 0x000002AB0BCD77A0>\n"
     ]
    }
   ],
   "source": [
    "class Teacher:\n",
    "    def __init__(self,name) -> None:\n",
    "        self.name = name\n",
    "\n",
    "obj : Teacher = Teacher(\"Kanwal\")\n",
    "print(obj)"
   ]
  },
  {
   "cell_type": "code",
   "execution_count": null,
   "metadata": {},
   "outputs": [
    {
     "name": "stdout",
     "output_type": "stream",
     "text": [
      "The teacher name is Kanwal\n"
     ]
    }
   ],
   "source": [
    "class Teacher:\n",
    "    def __init__(self,name) -> None:\n",
    "        self.name = name\n",
    "\n",
    "    def __str__(self):\n",
    "        return f\"The teacher name is {self.name}\"\n",
    "\n",
    "obj : Teacher = Teacher(\"Kanwal\")\n",
    "print(obj)"
   ]
  },
  {
   "cell_type": "code",
   "execution_count": 71,
   "metadata": {},
   "outputs": [
    {
     "name": "stdout",
     "output_type": "stream",
     "text": [
      "The teacher name is Kanwal\n"
     ]
    }
   ],
   "source": [
    "class Teacher:\n",
    "    def __init__(self,name) -> None:\n",
    "        self.name = name\n",
    "\n",
    "    def __repr__(self):\n",
    "        return f\"The teacher name is {self.name}\"\n",
    "\n",
    "obj : Teacher = Teacher(\"Kanwal\")\n",
    "print(obj)"
   ]
  },
  {
   "cell_type": "code",
   "execution_count": 79,
   "metadata": {},
   "outputs": [
    {
     "name": "stdout",
     "output_type": "stream",
     "text": [
      "The teacher name is Kanwal\n"
     ]
    }
   ],
   "source": [
    "class Teacher:\n",
    "    def __init__(self,name) -> None:\n",
    "        self.name = name\n",
    "\n",
    "    def __repr__(self):\n",
    "        return f\"The teacher name is {self.name}\"\n",
    "    \n",
    "    def __str__(self):\n",
    "        return f\"The teacher name is {self.name}\"\n",
    "\n",
    "obj : Teacher = Teacher(\"Kanwal\")\n",
    "print(obj)"
   ]
  },
  {
   "cell_type": "markdown",
   "metadata": {},
   "source": [
    "# __ABSTRACT CLASS__"
   ]
  },
  {
   "cell_type": "code",
   "execution_count": 82,
   "metadata": {},
   "outputs": [
    {
     "name": "stdout",
     "output_type": "stream",
     "text": [
      "cat is eating\n"
     ]
    }
   ],
   "source": [
    "from abc import ABC,abstractmethod\n",
    "\n",
    "class Animal(ABC):\n",
    "    def __init__(self) -> None:\n",
    "        super().__init__()\n",
    "\n",
    "    @abstractmethod\n",
    "    def eat(self):\n",
    "        ...\n",
    "\n",
    "class Cat(Animal):\n",
    "    def __init__(self) -> None:\n",
    "        super().__init__()\n",
    "\n",
    "    def eat(self):\n",
    "        print(\"cat is eating\")\n",
    "\n",
    "obj : Cat = Cat()\n",
    "obj.eat()\n",
    "\n",
    "\n"
   ]
  },
  {
   "cell_type": "markdown",
   "metadata": {},
   "source": [
    "# __DUCK TYPING__"
   ]
  },
  {
   "cell_type": "code",
   "execution_count": 84,
   "metadata": {},
   "outputs": [
    {
     "name": "stdout",
     "output_type": "stream",
     "text": [
      "Duck Quack\n",
      "Bird Flap Flap!\n"
     ]
    }
   ],
   "source": [
    "class Duck:\n",
    "    def quack(self):\n",
    "        print(\"Duck Quack\")\n",
    "\n",
    "    def fly(self):\n",
    "        print(\"Bird Flap Flap!\")\n",
    "\n",
    "class Person:\n",
    "    def quack(self):\n",
    "        print(\"Person Quack\")\n",
    "\n",
    "    def fly(self):\n",
    "        print(\"Person Flap Flap!\")       \n",
    "\n",
    "def make_it_quack_and_fly(obj):\n",
    "    obj.quack()\n",
    "    obj.fly()\n",
    "\n",
    "duck = Duck()\n",
    "person = Person()\n",
    "\n",
    "make_it_quack_and_fly(duck)"
   ]
  },
  {
   "cell_type": "code",
   "execution_count": 87,
   "metadata": {},
   "outputs": [
    {
     "name": "stdout",
     "output_type": "stream",
     "text": [
      "Person Quack\n",
      "Person Flap Flap!\n"
     ]
    }
   ],
   "source": [
    "class Duck:\n",
    "    def quack(self):\n",
    "        print(\"Duck Quack\")\n",
    "\n",
    "    def fly(self):\n",
    "        print(\"Bird Flap Flap!\")\n",
    "\n",
    "class Person:\n",
    "    def quack(self):\n",
    "        print(\"Person Quack\")\n",
    "\n",
    "    def fly(self):\n",
    "        print(\"Person Flap Flap!\")       \n",
    "\n",
    "def make_it_quack_and_fly(obj):\n",
    "    obj.quack()\n",
    "    obj.fly()\n",
    "\n",
    "duck = Duck()\n",
    "person = Person()\n",
    "\n",
    "make_it_quack_and_fly(person)"
   ]
  },
  {
   "cell_type": "markdown",
   "metadata": {},
   "source": [
    "#### In the example above, both the Duck and Person classes have quack() and fly() methods. Therefore, both objects duck and person can be passed to the make_it_quack_and_fly() function, demonstrating duck typing. The function doesn't care about the actual types of the objects; it only cares about whether they have the necessary methods."
   ]
  },
  {
   "cell_type": "code",
   "execution_count": null,
   "metadata": {},
   "outputs": [],
   "source": []
  }
 ],
 "metadata": {
  "kernelspec": {
   "display_name": "python12",
   "language": "python",
   "name": "python3"
  },
  "language_info": {
   "codemirror_mode": {
    "name": "ipython",
    "version": 3
   },
   "file_extension": ".py",
   "mimetype": "text/x-python",
   "name": "python",
   "nbconvert_exporter": "python",
   "pygments_lexer": "ipython3",
   "version": "3.12.0"
  }
 },
 "nbformat": 4,
 "nbformat_minor": 2
}
