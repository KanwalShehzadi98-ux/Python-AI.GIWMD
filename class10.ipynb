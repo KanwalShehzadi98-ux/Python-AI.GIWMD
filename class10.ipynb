{
  "nbformat": 4,
  "nbformat_minor": 0,
  "metadata": {
    "colab": {
      "provenance": []
    },
    "kernelspec": {
      "name": "python3",
      "display_name": "Python 3"
    },
    "language_info": {
      "name": "python"
    }
  },
  "cells": [
    {
      "cell_type": "markdown",
      "source": [
        "# **Functions**\n",
        "  * Pre - defined functions\n",
        "  * User - defined functions\n",
        "\n",
        "  Functions can either return or does not  return any value\n",
        "# **Function Componenets**\n",
        "    * Delaration aka Signature\n",
        "        * Function Name\n",
        "        * Function Parameter and their types\n",
        "        * Function return types\n",
        "    * Body\n",
        "        * Business Logic\n",
        "    * Calling(Arguments if any)\n",
        "\n"
      ],
      "metadata": {
        "id": "ltn_LtC7v4yj"
      }
    },
    {
      "cell_type": "markdown",
      "source": [
        "**Function Syntax**\n",
        "```\n",
        "def func_name(param1:type,param2:type,.....)->return_type(optional):\n",
        "    function_body\n",
        "\n",
        "callingFunc()\n",
        "```"
      ],
      "metadata": {
        "id": "M031bJcVxbNW"
      }
    },
    {
      "cell_type": "markdown",
      "source": [
        "**Lambda Function**\n",
        "* One line function\n",
        "* Without Name\n",
        "* Only use in that line\n",
        "```\n",
        "lambda param1,param2 : function_body\n",
        "```"
      ],
      "metadata": {
        "id": "8LnJd_wb3dcC"
      }
    },
    {
      "cell_type": "code",
      "source": [],
      "metadata": {
        "id": "hiLTJsV33jMn"
      },
      "execution_count": null,
      "outputs": []
    },
    {
      "cell_type": "markdown",
      "source": [
        "# **Return vs Non - return Functions**"
      ],
      "metadata": {
        "id": "Io0eNRguyjsk"
      }
    },
    {
      "cell_type": "code",
      "execution_count": null,
      "metadata": {
        "id": "udCPJ706vy-_"
      },
      "outputs": [],
      "source": [
        "# if anything return None its non-return function\n",
        "# if it return anything other than none its a returning function\n"
      ]
    },
    {
      "cell_type": "code",
      "source": [
        "a : str = print(\"Pakistan\")\n",
        "print(a)"
      ],
      "metadata": {
        "colab": {
          "base_uri": "https://localhost:8080/"
        },
        "id": "rtsf7gthxZmX",
        "outputId": "802176df-0ec4-4bed-e6cf-04cccf602a75"
      },
      "execution_count": null,
      "outputs": [
        {
          "output_type": "stream",
          "name": "stdout",
          "text": [
            "Pakistan\n",
            "None\n"
          ]
        }
      ]
    },
    {
      "cell_type": "markdown",
      "source": [
        "***It means print is a non return function***"
      ],
      "metadata": {
        "id": "zq8dSaI2y-PG"
      }
    },
    {
      "cell_type": "code",
      "source": [
        "a : str = len(\"Pakistan\")\n",
        "print(a) # return function"
      ],
      "metadata": {
        "colab": {
          "base_uri": "https://localhost:8080/"
        },
        "id": "gi3Tx5X1y8OP",
        "outputId": "477d0cc1-792c-4983-aaeb-cb4243198705"
      },
      "execution_count": null,
      "outputs": [
        {
          "output_type": "stream",
          "name": "stdout",
          "text": [
            "8\n"
          ]
        }
      ]
    },
    {
      "cell_type": "code",
      "source": [
        "# agr direct koi function/method likha ho baghir dot kay tw use kehtay hain \"Function\"\n",
        "# while obj.eat() krke likha ho ga tw use bolen gy \"method\""
      ],
      "metadata": {
        "id": "3spNEwczzQQR"
      },
      "execution_count": null,
      "outputs": []
    },
    {
      "cell_type": "code",
      "source": [
        "# Aisa function jo ap se koi argument na le use kehtya hain \"Default Function\""
      ],
      "metadata": {
        "id": "BVVhS7p80AgE"
      },
      "execution_count": null,
      "outputs": []
    },
    {
      "cell_type": "markdown",
      "source": [
        "**Create A Default Function**"
      ],
      "metadata": {
        "id": "pO6JAJXA0he6"
      }
    },
    {
      "cell_type": "code",
      "source": [
        "def piaic()->None:\n",
        "  print(\"PIAIC Generative AI\")\n",
        "\n",
        "piaic()\n"
      ],
      "metadata": {
        "colab": {
          "base_uri": "https://localhost:8080/"
        },
        "id": "Pk5iwYHa0dea",
        "outputId": "c8ad4dff-08ee-4d85-dbdb-4cd2b4334879"
      },
      "execution_count": null,
      "outputs": [
        {
          "output_type": "stream",
          "name": "stdout",
          "text": [
            "PIAIC Generative AI\n"
          ]
        }
      ]
    },
    {
      "cell_type": "code",
      "source": [
        "#lambda function"
      ],
      "metadata": {
        "id": "Lk997f220vqp"
      },
      "execution_count": null,
      "outputs": []
    },
    {
      "cell_type": "code",
      "source": [
        "a = lambda num1,num2 : num1 + num2\n",
        "a(7,8)"
      ],
      "metadata": {
        "colab": {
          "base_uri": "https://localhost:8080/"
        },
        "id": "N5k151BF3zdD",
        "outputId": "075738b7-8649-402e-f1c1-8c94bc0802fb"
      },
      "execution_count": null,
      "outputs": [
        {
          "output_type": "execute_result",
          "data": {
            "text/plain": [
              "15"
            ]
          },
          "metadata": {},
          "execution_count": 9
        }
      ]
    },
    {
      "cell_type": "code",
      "source": [
        "# how to make lambda static\n",
        "from typing import Callable\n",
        "a : Callable[[int,int],int] = lambda x , y : x + y\n",
        "print(a(3,4))"
      ],
      "metadata": {
        "colab": {
          "base_uri": "https://localhost:8080/"
        },
        "id": "LB60-5ca7Z1i",
        "outputId": "8bf1a313-b3a8-49f0-acc7-571bab4fb2da"
      },
      "execution_count": null,
      "outputs": [
        {
          "output_type": "stream",
          "name": "stdout",
          "text": [
            "7\n"
          ]
        }
      ]
    },
    {
      "cell_type": "code",
      "source": [
        "# map using lambda"
      ],
      "metadata": {
        "id": "mRCZTBBJ53LR"
      },
      "execution_count": null,
      "outputs": []
    },
    {
      "cell_type": "code",
      "source": [
        "data : list[int] = [1,2,3,4,5,6,7,8,9,10]\n",
        "data = map(lambda x : x * 2 , data)\n",
        "data"
      ],
      "metadata": {
        "colab": {
          "base_uri": "https://localhost:8080/"
        },
        "id": "c5Ub0AHc46lH",
        "outputId": "abf8062b-9202-45bd-c878-2856c5980f29"
      },
      "execution_count": null,
      "outputs": [
        {
          "output_type": "execute_result",
          "data": {
            "text/plain": [
              "<map at 0x797dc2680730>"
            ]
          },
          "metadata": {},
          "execution_count": 13
        }
      ]
    },
    {
      "cell_type": "code",
      "source": [
        "data : list[int] = [1,2,3,4,5,6,7,8,9,10]\n",
        "data = list(map(lambda x : x * 2 , data))\n",
        "data"
      ],
      "metadata": {
        "colab": {
          "base_uri": "https://localhost:8080/"
        },
        "id": "-BN0jJQ5509J",
        "outputId": "8ae8b33d-e450-4971-ff21-fe5e65018745"
      },
      "execution_count": null,
      "outputs": [
        {
          "output_type": "execute_result",
          "data": {
            "text/plain": [
              "[2, 4, 6, 8, 10, 12, 14, 16, 18, 20]"
            ]
          },
          "metadata": {},
          "execution_count": 14
        }
      ]
    },
    {
      "cell_type": "code",
      "source": [
        "# filter using lambda"
      ],
      "metadata": {
        "id": "sgMhludt52N1"
      },
      "execution_count": null,
      "outputs": []
    },
    {
      "cell_type": "code",
      "source": [
        "data : list[int] = [1,2,3,4,5,6,7,8,9,10]\n",
        "data = filter(lambda x : x % 2 == 0 , data)\n",
        "data"
      ],
      "metadata": {
        "colab": {
          "base_uri": "https://localhost:8080/"
        },
        "id": "HSZpsvoQ6GFl",
        "outputId": "28f25617-1443-4275-bd3c-b56863338cef"
      },
      "execution_count": null,
      "outputs": [
        {
          "output_type": "execute_result",
          "data": {
            "text/plain": [
              "<filter at 0x797dc26837c0>"
            ]
          },
          "metadata": {},
          "execution_count": 15
        }
      ]
    },
    {
      "cell_type": "code",
      "source": [
        "data : list[int] = [1,2,3,4,5,6,7,8,9,10]\n",
        "data = list(filter(lambda x : x % 2 == 0 , data))\n",
        "data"
      ],
      "metadata": {
        "colab": {
          "base_uri": "https://localhost:8080/"
        },
        "id": "ZhNWLFuE6RpJ",
        "outputId": "481bfa61-911e-4a94-bd52-e5dda093b940"
      },
      "execution_count": null,
      "outputs": [
        {
          "output_type": "execute_result",
          "data": {
            "text/plain": [
              "[2, 4, 6, 8, 10]"
            ]
          },
          "metadata": {},
          "execution_count": 16
        }
      ]
    },
    {
      "cell_type": "markdown",
      "source": [
        "**Generator Function**"
      ],
      "metadata": {
        "id": "rOH5P46c87DG"
      }
    },
    {
      "cell_type": "code",
      "source": [
        "# if we have to generate 1 million numbers and then have to take a square of all those in previous languages\n",
        "# what we did was to generate million numbers first then apply squre on these but in python generator functions\n",
        "# what we do is to create a number take its square hath kay hath then generate second number then its square and\n",
        "# so on.This way we consume lesser memeory and efficiently perform our perform\n"
      ],
      "metadata": {
        "id": "_YywphQA6XPh"
      },
      "execution_count": null,
      "outputs": []
    },
    {
      "cell_type": "code",
      "source": [
        "# Iterate Element one by one\n",
        "# Stop after each iteration\n",
        "# remember old iteration value (last iterated value)\n",
        "# next iterate = move forward from last iterate value"
      ],
      "metadata": {
        "id": "3G2D3zzU_fCO"
      },
      "execution_count": null,
      "outputs": []
    },
    {
      "cell_type": "code",
      "source": [
        "def my_range(start:int,end:int,step:int=1):\n",
        "  for i in range(start,end+1,step):\n",
        "    yield i"
      ],
      "metadata": {
        "id": "I4qsXSgw9ohc"
      },
      "execution_count": null,
      "outputs": []
    },
    {
      "cell_type": "code",
      "source": [
        "a = my_range(1,10)"
      ],
      "metadata": {
        "id": "2dPotANY_HSf"
      },
      "execution_count": null,
      "outputs": []
    },
    {
      "cell_type": "code",
      "source": [
        "print(a)"
      ],
      "metadata": {
        "colab": {
          "base_uri": "https://localhost:8080/"
        },
        "id": "chUZjmYN_b5h",
        "outputId": "b6f1c9de-5081-4a89-d059-14171a6e38b6"
      },
      "execution_count": null,
      "outputs": [
        {
          "output_type": "stream",
          "name": "stdout",
          "text": [
            "<generator object my_range at 0x797dac9897e0>\n"
          ]
        }
      ]
    },
    {
      "cell_type": "code",
      "source": [
        "print(list(a))"
      ],
      "metadata": {
        "colab": {
          "base_uri": "https://localhost:8080/"
        },
        "id": "ZbXGmtlGBXy5",
        "outputId": "1acbe3b2-725b-48e4-8976-643be29b8cc4"
      },
      "execution_count": null,
      "outputs": [
        {
          "output_type": "stream",
          "name": "stdout",
          "text": [
            "[1, 2, 3, 4, 5, 6, 7, 8, 9, 10]\n"
          ]
        }
      ]
    },
    {
      "cell_type": "code",
      "source": [
        "print(next(a))"
      ],
      "metadata": {
        "colab": {
          "base_uri": "https://localhost:8080/"
        },
        "id": "gWLZ1TKbBZvS",
        "outputId": "9d8a6173-1ff5-47ef-b2eb-8b607bd598d5"
      },
      "execution_count": null,
      "outputs": [
        {
          "output_type": "stream",
          "name": "stdout",
          "text": [
            "1\n"
          ]
        }
      ]
    },
    {
      "cell_type": "code",
      "source": [
        "print(next(a))"
      ],
      "metadata": {
        "colab": {
          "base_uri": "https://localhost:8080/"
        },
        "id": "3okOoAnlBb6J",
        "outputId": "9c62cee2-6917-4ceb-e7ec-9c7002e667e5"
      },
      "execution_count": null,
      "outputs": [
        {
          "output_type": "stream",
          "name": "stdout",
          "text": [
            "2\n"
          ]
        }
      ]
    },
    {
      "cell_type": "code",
      "source": [
        "print(next(a))"
      ],
      "metadata": {
        "colab": {
          "base_uri": "https://localhost:8080/"
        },
        "id": "DwPAWDk4BgA3",
        "outputId": "fd188fc6-bfa3-4cf6-a0cd-0637fa837625"
      },
      "execution_count": null,
      "outputs": [
        {
          "output_type": "stream",
          "name": "stdout",
          "text": [
            "3\n"
          ]
        }
      ]
    },
    {
      "cell_type": "markdown",
      "source": [
        "**Filter with generator**"
      ],
      "metadata": {
        "id": "UjprLqqiPSZJ"
      }
    },
    {
      "cell_type": "code",
      "source": [
        "data = filter(lambda x : x % 2 == 0 ,range(1,11))\n",
        "print(next(data))\n",
        "print(next(data))\n",
        "print(next(data))\n"
      ],
      "metadata": {
        "colab": {
          "base_uri": "https://localhost:8080/"
        },
        "id": "8SSxRGG8PV7D",
        "outputId": "e1c6b694-16bb-41fa-f1cb-88b771f64bdb"
      },
      "execution_count": null,
      "outputs": [
        {
          "output_type": "stream",
          "name": "stdout",
          "text": [
            "2\n",
            "4\n",
            "6\n"
          ]
        }
      ]
    },
    {
      "cell_type": "code",
      "source": [
        "# latest way to work with generators\n",
        "# important in exams\n"
      ],
      "metadata": {
        "id": "dW4ISdmcFm0d"
      },
      "execution_count": null,
      "outputs": []
    },
    {
      "cell_type": "code",
      "source": [
        "from collections.abc import Iterator\n",
        "\n",
        "def my_range(start:int,end:int,step:int = 1) -> Iterator[int]:\n",
        "  for i in range(start,end+1,step):\n",
        "    yield i\n",
        "\n",
        "iterator_variable : Iterator[int] = my_range(1,10)\n",
        "\n",
        "print(iterator_variable )\n",
        "print(list(iterator_variable ))\n",
        "print(type(iterator_variable ))\n",
        "\n",
        "for i in iterator_variable:\n",
        "  print(i)\n",
        "\n",
        "# print(next(a))\n",
        "# print(next(a))\n",
        "# print(next(a))"
      ],
      "metadata": {
        "colab": {
          "base_uri": "https://localhost:8080/"
        },
        "id": "xA9UTPbiHm3G",
        "outputId": "d7a5f3d1-8bb9-4b90-e4d2-2d88e6ac7799"
      },
      "execution_count": null,
      "outputs": [
        {
          "output_type": "stream",
          "name": "stdout",
          "text": [
            "<generator object my_range at 0x797dac98a420>\n",
            "[1, 2, 3, 4, 5, 6, 7, 8, 9, 10]\n",
            "<class 'generator'>\n"
          ]
        }
      ]
    },
    {
      "cell_type": "code",
      "source": [
        "from collections.abc import Iterator\n",
        "\n",
        "def my_range(start: int, end: int, step: int = 1) -> Iterator[int]:\n",
        "    for i in range(start, end + 1, step):\n",
        "        yield i\n",
        "\n",
        "iterator_variable: Iterator[int] = my_range(1, 10)\n",
        "\n",
        "print(iterator_variable)\n",
        "# print(list(iterator_variable))  # Consumes the iterator\n",
        "\n",
        "# Since the iterator is already consumed by the previous list conversion,\n",
        "# it won't produce any more values. So, the loop will be empty.\n",
        "for i in iterator_variable:\n",
        "    print(i)\n"
      ],
      "metadata": {
        "colab": {
          "base_uri": "https://localhost:8080/"
        },
        "id": "pZU_tEzXMChE",
        "outputId": "284cf483-ce3c-4ce1-9005-3444e859e1b9"
      },
      "execution_count": null,
      "outputs": [
        {
          "output_type": "stream",
          "name": "stdout",
          "text": [
            "<generator object my_range at 0x797dac98a110>\n",
            "1\n",
            "2\n",
            "3\n",
            "4\n",
            "5\n",
            "6\n",
            "7\n",
            "8\n",
            "9\n",
            "10\n"
          ]
        }
      ]
    },
    {
      "cell_type": "code",
      "source": [
        "dir(Iterator)"
      ],
      "metadata": {
        "colab": {
          "base_uri": "https://localhost:8080/"
        },
        "id": "Fd78qnz8IqmC",
        "outputId": "8cafeafe-3692-457a-ffab-a235c5154e00"
      },
      "execution_count": null,
      "outputs": [
        {
          "output_type": "execute_result",
          "data": {
            "text/plain": [
              "['__abstractmethods__',\n",
              " '__class__',\n",
              " '__class_getitem__',\n",
              " '__delattr__',\n",
              " '__dir__',\n",
              " '__doc__',\n",
              " '__eq__',\n",
              " '__format__',\n",
              " '__ge__',\n",
              " '__getattribute__',\n",
              " '__gt__',\n",
              " '__hash__',\n",
              " '__init__',\n",
              " '__init_subclass__',\n",
              " '__iter__',\n",
              " '__le__',\n",
              " '__lt__',\n",
              " '__module__',\n",
              " '__ne__',\n",
              " '__new__',\n",
              " '__next__',\n",
              " '__reduce__',\n",
              " '__reduce_ex__',\n",
              " '__repr__',\n",
              " '__setattr__',\n",
              " '__sizeof__',\n",
              " '__slots__',\n",
              " '__str__',\n",
              " '__subclasshook__',\n",
              " '_abc_impl']"
            ]
          },
          "metadata": {},
          "execution_count": 67
        }
      ]
    },
    {
      "cell_type": "markdown",
      "source": [
        "**ADVANCED FUNCTIONS IN PYTHON**"
      ],
      "metadata": {
        "id": "fwZo308vNSxw"
      }
    },
    {
      "cell_type": "markdown",
      "source": [
        "**1 Simple**"
      ],
      "metadata": {
        "id": "a19BxUTYQHVX"
      }
    },
    {
      "cell_type": "code",
      "source": [
        "def greet(name : str , msg : str = \"Good Mornings\") -> None :\n",
        "  \"\"\"\n",
        "  This function greets persons\n",
        "  \"\"\"\n",
        "  print(f\"Hello {name} ! {msg}\")\n",
        "\n",
        "greet(\"Kanwal\")\n",
        "greet(\"Aown\",\"Good Night\")"
      ],
      "metadata": {
        "colab": {
          "base_uri": "https://localhost:8080/"
        },
        "id": "TBn9X5bOK_07",
        "outputId": "ffbcd330-10db-4bf6-ac7d-c5c8d558e795"
      },
      "execution_count": null,
      "outputs": [
        {
          "output_type": "stream",
          "name": "stdout",
          "text": [
            "Hello Kanwal ! Good Mornings\n",
            "Hello Aown ! Good Night\n"
          ]
        }
      ]
    },
    {
      "cell_type": "markdown",
      "source": [
        "**2 Add Unlimited Arguments**"
      ],
      "metadata": {
        "id": "DgHUs8i2QKy1"
      }
    },
    {
      "cell_type": "code",
      "source": [
        "def abc(*nums:int)->None:\n",
        "  print(nums)\n",
        "  print(type(nums))\n",
        "# returns tuples"
      ],
      "metadata": {
        "id": "GGMFEDMmNqyK"
      },
      "execution_count": null,
      "outputs": []
    },
    {
      "cell_type": "code",
      "source": [
        "abc(1,2,3,4,5,6,7,89,10)"
      ],
      "metadata": {
        "colab": {
          "base_uri": "https://localhost:8080/"
        },
        "id": "p9uVY5N2Qfp3",
        "outputId": "9ab95a8a-ed20-4aa6-8a55-c5d6a12fac50"
      },
      "execution_count": null,
      "outputs": [
        {
          "output_type": "stream",
          "name": "stdout",
          "text": [
            "(1, 2, 3, 4, 5, 6, 7, 89, 10)\n",
            "<class 'tuple'>\n"
          ]
        }
      ]
    },
    {
      "cell_type": "code",
      "source": [
        "# for unlimited positional arguments\n",
        "def abc(*nums:int)->None:\n",
        "  print(nums)\n",
        "  print(type(nums))\n",
        "  total = 0\n",
        "  for n in nums:\n",
        "    total += n\n",
        "# returns tuples\n",
        "\n",
        "abc(1,2,3,4,5,6,7,89,10)"
      ],
      "metadata": {
        "colab": {
          "base_uri": "https://localhost:8080/"
        },
        "id": "VZnXd3B1QjLc",
        "outputId": "c895af11-d212-4853-86c4-18415a01d24a"
      },
      "execution_count": null,
      "outputs": [
        {
          "output_type": "stream",
          "name": "stdout",
          "text": [
            "(1, 2, 3, 4, 5, 6, 7, 89, 10)\n",
            "<class 'tuple'>\n"
          ]
        }
      ]
    },
    {
      "cell_type": "code",
      "source": [
        "# for unlimited keyword arguments\n",
        "def abc(**nums:int)->None:\n",
        "  print(nums)\n",
        "  print(type(nums))\n",
        "  # return dictionary\n",
        "\n",
        "abc(a = 1,c = 2, b = 3,e = 4,g = 5,f = 6,i = 7, h = 89,j = 10)"
      ],
      "metadata": {
        "colab": {
          "base_uri": "https://localhost:8080/"
        },
        "id": "MhtsRPoEUmzV",
        "outputId": "05df9441-1b18-4f09-d165-6558d688295e"
      },
      "execution_count": null,
      "outputs": [
        {
          "output_type": "stream",
          "name": "stdout",
          "text": [
            "{'a': 1, 'c': 2, 'b': 3, 'e': 4, 'g': 5, 'f': 6, 'i': 7, 'h': 89, 'j': 10}\n",
            "<class 'dict'>\n"
          ]
        }
      ]
    },
    {
      "cell_type": "code",
      "source": [
        "# positional arguments\n",
        "\n",
        "def helllo(a : int,b : int) -> None:\n",
        "  print(f\"a = {a} and b = {b}\")\n",
        "\n",
        "helllo(1,2)\n"
      ],
      "metadata": {
        "colab": {
          "base_uri": "https://localhost:8080/"
        },
        "id": "iCiRVKLFQ1DP",
        "outputId": "b607df1e-3b24-4c47-88d5-6b8bf1925baf"
      },
      "execution_count": null,
      "outputs": [
        {
          "output_type": "stream",
          "name": "stdout",
          "text": [
            "a = 1 and b = 2\n"
          ]
        }
      ]
    },
    {
      "cell_type": "code",
      "source": [
        "\n",
        "# Keyword arguments\n",
        "def helllo(a : int,b : int) -> None:\n",
        "  print(f\"a = {a} and b = {b}\")\n",
        "\n",
        "helllo(b = 1,a = 2)\n"
      ],
      "metadata": {
        "colab": {
          "base_uri": "https://localhost:8080/"
        },
        "id": "8DDPs8-5RRuG",
        "outputId": "d1b97449-12aa-4ccc-bb69-54cbbb6a951e"
      },
      "execution_count": null,
      "outputs": [
        {
          "output_type": "stream",
          "name": "stdout",
          "text": [
            "a = 2 and b = 1\n"
          ]
        }
      ]
    },
    {
      "cell_type": "code",
      "source": [
        "def myFunc(a,b,*args,**kargs):\n",
        "  print(a)\n",
        "  print(b)\n",
        "  print(args) #tuple\n",
        "  print(kargs) #dictionary\n",
        "\n",
        "myFunc(1,2,3,4,5,6,7,8,c = 20,d = 30, e = 40)"
      ],
      "metadata": {
        "colab": {
          "base_uri": "https://localhost:8080/"
        },
        "id": "-XypjVnWSoSK",
        "outputId": "230f14cd-65f3-42f4-fddc-d2c9629813a7"
      },
      "execution_count": null,
      "outputs": [
        {
          "output_type": "stream",
          "name": "stdout",
          "text": [
            "1\n",
            "2\n",
            "(3, 4, 5, 6, 7, 8)\n",
            "{'c': 20, 'd': 30, 'e': 40}\n"
          ]
        }
      ]
    },
    {
      "cell_type": "code",
      "source": [
        "def myFunc(a : int,b : int,*args :int,**kwargs:int) -> None:\n",
        "  print(a)\n",
        "  print(b)\n",
        "  print(args) #tuple\n",
        "  print(kwargs) #dictionary\n",
        "\n",
        "myFunc(1,2,3,4,5,6,7,8,c = 20,d = 30, e = 40)"
      ],
      "metadata": {
        "colab": {
          "base_uri": "https://localhost:8080/"
        },
        "id": "nlwCTJzVVxn4",
        "outputId": "014581e2-32ed-45ec-c23f-703a0eb95f78"
      },
      "execution_count": null,
      "outputs": [
        {
          "output_type": "stream",
          "name": "stdout",
          "text": [
            "1\n",
            "2\n",
            "(3, 4, 5, 6, 7, 8)\n",
            "{'c': 20, 'd': 30, 'e': 40}\n"
          ]
        }
      ]
    },
    {
      "cell_type": "markdown",
      "source": [
        "# **Decorator Functions**\n",
        "* enhance the functionality of other functions\n",
        "* @ is used for deccorators aka \"syntactic sugar\""
      ],
      "metadata": {
        "id": "UKpisyudK3mf"
      }
    },
    {
      "cell_type": "code",
      "source": [
        "def decorator_function(any_function):\n",
        "  def wrapper_function():\n",
        "    print('This is an awesome function')\n",
        "    any_function()\n",
        "  return wrapper_function\n",
        "\n",
        "def func1():\n",
        "  print(\"This is Function 1\")\n",
        "\n",
        "def func2():\n",
        "  print(\"This is Function 2\")\n",
        "\n",
        "var = decorator_function(func1)\n",
        "var()\n",
        "\n"
      ],
      "metadata": {
        "id": "fvaX_X78WGrW",
        "colab": {
          "base_uri": "https://localhost:8080/"
        },
        "outputId": "4e9965a4-6447-42c5-fffe-46b876a96fdb"
      },
      "execution_count": null,
      "outputs": [
        {
          "output_type": "stream",
          "name": "stdout",
          "text": [
            "This is an awesome function\n",
            "This is Function 1\n"
          ]
        }
      ]
    },
    {
      "cell_type": "code",
      "source": [
        "# shortcut of above\n",
        "def decorator_function(any_function):\n",
        "  def wrapper_function():\n",
        "    print('This is an awesome function')\n",
        "    any_function()\n",
        "  return wrapper_function\n",
        "\n",
        "@decorator_function\n",
        "def func1():\n",
        "  print(\"This is Function 1\")\n",
        "\n",
        "def func2():\n",
        "  print(\"This is Function 2\")\n",
        "\n",
        "func1()\n",
        "# var = decorator_function(func1)\n",
        "# var()\n",
        "\n"
      ],
      "metadata": {
        "colab": {
          "base_uri": "https://localhost:8080/"
        },
        "id": "8ASZLXZ_LE5O",
        "outputId": "702c46b8-ebec-4b73-c198-1d678fb7d42b"
      },
      "execution_count": null,
      "outputs": [
        {
          "output_type": "stream",
          "name": "stdout",
          "text": [
            "This is an awesome function\n",
            "This is Function 1\n",
            "This is an awesome function\n",
            "This is Function 1\n"
          ]
        }
      ]
    },
    {
      "cell_type": "code",
      "source": [
        "# shortcut of above\n",
        "def decorator_function(any_function):\n",
        "  def wrapper_function():\n",
        "    print('This is an awesome function')\n",
        "    any_function()\n",
        "  return wrapper_function\n",
        "\n",
        "def func1():\n",
        "  print(\"This is Function 1\")\n",
        "\n",
        "@decorator_function\n",
        "def func2():\n",
        "  print(\"This is Function 2\")\n",
        "\n",
        "func2()\n",
        "# var = decorator_function(func1)\n",
        "# var()\n",
        "\n"
      ],
      "metadata": {
        "colab": {
          "base_uri": "https://localhost:8080/"
        },
        "id": "u8UYvopxMUnO",
        "outputId": "55e09ee3-ef94-4473-fd42-f5cad7eb055f"
      },
      "execution_count": null,
      "outputs": [
        {
          "output_type": "stream",
          "name": "stdout",
          "text": [
            "This is an awesome function\n",
            "This is Function 2\n"
          ]
        }
      ]
    },
    {
      "cell_type": "code",
      "source": [
        "# shortcut of above\n",
        "def decorator_function(any_function):\n",
        "  def wrapper_function():\n",
        "    print('This is an awesome function')\n",
        "    any_function()\n",
        "  return wrapper_function\n",
        "\n",
        "@decorator_function\n",
        "def func1():\n",
        "  print(\"This is Function 1\")\n",
        "\n",
        "@decorator_function\n",
        "def func2():\n",
        "  print(\"This is Function 2\")\n",
        "\n",
        "func1()\n",
        "func2()\n",
        "# var = decorator_function(func1)\n",
        "# var()\n",
        "\n"
      ],
      "metadata": {
        "colab": {
          "base_uri": "https://localhost:8080/"
        },
        "id": "AuRGwglUMlWU",
        "outputId": "d3ff3197-e8ca-4440-9250-941ca98f8800"
      },
      "execution_count": null,
      "outputs": [
        {
          "output_type": "stream",
          "name": "stdout",
          "text": [
            "This is an awesome function\n",
            "This is Function 1\n",
            "This is an awesome function\n",
            "This is Function 2\n"
          ]
        }
      ]
    },
    {
      "cell_type": "markdown",
      "source": [
        "# **Arguments In Decorator Functions**"
      ],
      "metadata": {
        "id": "1fB2T6p7NYm5"
      }
    },
    {
      "cell_type": "code",
      "source": [
        "def decorator_function(any_function):\n",
        "  def wrapper_function(*args, **kwargs):\n",
        "    print(\"This is the awesome function\")\n",
        "    any_function(*args, **kwargs)\n",
        "  return wrapper_function\n",
        "\n",
        "@decorator_function\n",
        "def func1(a):\n",
        "  print(f\"This is the function with argument {a}\")\n",
        "\n",
        "func1(4)\n"
      ],
      "metadata": {
        "colab": {
          "base_uri": "https://localhost:8080/"
        },
        "id": "CnG-ROG9NYRz",
        "outputId": "a7d29d60-6383-4e0c-ad81-627eeed5076c"
      },
      "execution_count": null,
      "outputs": [
        {
          "output_type": "stream",
          "name": "stdout",
          "text": [
            "This is the awesome function\n",
            "This is the function with argument 4\n"
          ]
        }
      ]
    },
    {
      "cell_type": "markdown",
      "source": [
        "# **WHAT IF WE HAVE RETURN STATEMENT INSTEAD OF PRINT STATEMENT IN DECORATOR FUNCTIONS**"
      ],
      "metadata": {
        "id": "zH7yd6gdPnKr"
      }
    },
    {
      "cell_type": "code",
      "source": [
        "def decorator_function(any_function):\n",
        "  def wrapper_function(*args, **kwargs):\n",
        "    print(\"This is the awesome function\")\n",
        "    any_function(*args, **kwargs)\n",
        "  return wrapper_function\n",
        "\n",
        "@decorator_function\n",
        "def func1(a,b):\n",
        "  return a + b # this is the return statement here\n",
        "\n",
        "func1(4,4)\n",
        "print(func1(4,4))\n"
      ],
      "metadata": {
        "colab": {
          "base_uri": "https://localhost:8080/"
        },
        "id": "3YquiobHMso2",
        "outputId": "c1c4fcaf-7262-49e3-fc39-800f70530c11"
      },
      "execution_count": null,
      "outputs": [
        {
          "output_type": "stream",
          "name": "stdout",
          "text": [
            "This is the awesome function\n",
            "This is the awesome function\n",
            "None\n"
          ]
        }
      ]
    },
    {
      "cell_type": "code",
      "source": [
        "def decorator_function(any_function):\n",
        "  def wrapper_function(*args, **kwargs):\n",
        "    print(\"This is the awesome function\")\n",
        "    return any_function(*args, **kwargs) # For solution return should be placed here\n",
        "  return wrapper_function\n",
        "\n",
        "@decorator_function\n",
        "def func1(a,b):\n",
        "  return a+b # this is the return statement here\n",
        "\n",
        "func1(4,4)\n"
      ],
      "metadata": {
        "colab": {
          "base_uri": "https://localhost:8080/"
        },
        "id": "Jra_pnPZP9PP",
        "outputId": "b93457ea-115c-432d-832d-2147c15ef358"
      },
      "execution_count": null,
      "outputs": [
        {
          "output_type": "stream",
          "name": "stdout",
          "text": [
            "This is the awesome function\n",
            "8\n"
          ]
        }
      ]
    },
    {
      "cell_type": "markdown",
      "source": [
        "# **Problem**"
      ],
      "metadata": {
        "id": "gXZ9fqZQRq43"
      }
    },
    {
      "cell_type": "code",
      "source": [
        "def decorator_function(any_function):\n",
        "  def wrapper_function(*args, **kwargs):\n",
        "    \"\"\"This is the wrapper function\"\"\"\n",
        "    print(\"This is the awesome function\")\n",
        "    return any_function(*args, **kwargs)\n",
        "  return wrapper_function\n",
        "\n",
        "@decorator_function\n",
        "def func1(a,b):\n",
        "  ''' This is the add function '''\n",
        "  print(a+b)\n",
        "\n",
        "print(func1.__doc__) # mene func1 ka poocha but wrapper ka de raha hai\n",
        "print(func1.__name__) # mene func1 ka poocha but wrapper ka de raha hai\n"
      ],
      "metadata": {
        "colab": {
          "base_uri": "https://localhost:8080/"
        },
        "id": "Ua_5-wXRQFht",
        "outputId": "4e2be37a-8637-4262-a595-f3fccddce0f1"
      },
      "execution_count": null,
      "outputs": [
        {
          "output_type": "stream",
          "name": "stdout",
          "text": [
            "This is the wrapper function\n",
            "wrapper_function\n"
          ]
        }
      ]
    },
    {
      "cell_type": "code",
      "source": [
        "from functools import wraps\n",
        "def decorator_function(any_function):\n",
        "  @wraps(any_function)\n",
        "  def wrapper_function(*args, **kwargs):\n",
        "    \"\"\"This is the wrapper function\"\"\"\n",
        "    print(\"This is the awesome function\")\n",
        "    return any_function(*args, **kwargs)\n",
        "  return wrapper_function\n",
        "\n",
        "@decorator_function\n",
        "def func1(a,b):\n",
        "  ''' This is the add function '''\n",
        "  print(a+b)\n",
        "\n",
        "print(func1.__doc__)\n",
        "print(func1.__name__)\n"
      ],
      "metadata": {
        "colab": {
          "base_uri": "https://localhost:8080/"
        },
        "id": "t5aDdmQ9SMN6",
        "outputId": "18ae8a02-8dac-4636-922f-a7ea04f535a9"
      },
      "execution_count": null,
      "outputs": [
        {
          "output_type": "stream",
          "name": "stdout",
          "text": [
            " This is the add function \n",
            "func1\n"
          ]
        }
      ]
    },
    {
      "cell_type": "markdown",
      "source": [
        "# **Practice**\n",
        "\n",
        "* You are calling add function\n",
        "* You are calling This function takes two arguments and return their sum function\n",
        " * 7"
      ],
      "metadata": {
        "id": "MAT5hvbFTuny"
      }
    },
    {
      "cell_type": "code",
      "source": [
        "from functools import wraps\n",
        "def print_function_data(any_function):\n",
        "  @wraps(any_function)\n",
        "  def wrapper_function(*args,**kwargs):\n",
        "    print(f\"You are calling {any_function.__name__} function\")\n",
        "    print(f\"You are calling {any_function.__doc__} function\")\n",
        "    return any_function(*args,**kwargs)\n",
        "  return wrapper_function\n",
        "\n",
        "@print_function_data\n",
        "def add(a,b):\n",
        "  '''This function takes two arguments and return their sum'''\n",
        "  return a+b\n",
        "\n",
        "print(add(3,4))\n",
        "\n"
      ],
      "metadata": {
        "colab": {
          "base_uri": "https://localhost:8080/"
        },
        "id": "EAwrZelwTO9z",
        "outputId": "3d8b9815-8964-4838-fe88-70001b65a93b"
      },
      "execution_count": null,
      "outputs": [
        {
          "output_type": "stream",
          "name": "stdout",
          "text": [
            "You are calling add function\n",
            "You are calling This function takes two arguments and return their sum function\n",
            "7\n"
          ]
        }
      ]
    },
    {
      "cell_type": "markdown",
      "source": [
        "# **EXERCISE**"
      ],
      "metadata": {
        "id": "O9lfmX_rX2VV"
      }
    },
    {
      "cell_type": "code",
      "source": [
        "from functools import wraps\n",
        "import time\n",
        "def calculate_time(any_function):\n",
        "  @wraps(any_function)\n",
        "  def wrapper_function(*args,**kwargs):\n",
        "    t1 = time.time()\n",
        "    returned_value = any_function(*args,**kwargs)\n",
        "    t2 = time.time()\n",
        "    t = t2 - t1\n",
        "    print(f\"This function took {t} time to run\")\n",
        "    return returned_value\n",
        "  return wrapper_function\n",
        "\n",
        "@calculate_time\n",
        "def square_finder(n):\n",
        "  return [i**2 for i in range(1,n+1)]\n",
        "\n",
        "square_finder(5)"
      ],
      "metadata": {
        "colab": {
          "base_uri": "https://localhost:8080/"
        },
        "id": "YGfT1Y2DVF0X",
        "outputId": "733c0018-99f1-4720-dbe1-91a2d1c785aa"
      },
      "execution_count": null,
      "outputs": [
        {
          "output_type": "stream",
          "name": "stdout",
          "text": [
            "This function took 4.76837158203125e-06 time to run\n"
          ]
        },
        {
          "output_type": "execute_result",
          "data": {
            "text/plain": [
              "[1, 4, 9, 16, 25]"
            ]
          },
          "metadata": {},
          "execution_count": 35
        }
      ]
    },
    {
      "cell_type": "code",
      "source": [
        "from functools import wraps\n",
        "def only_int_allow(any_function):\n",
        "  @wraps(any_function)\n",
        "  def wrapper(*args,**kwargs):\n",
        "    data_types = []\n",
        "    for arg in args:\n",
        "      data_types.append(type(arg) == int)\n",
        "    if all(data_types):\n",
        "      return any_function(*args,**kwargs)\n",
        "    else:\n",
        "      return \"Invalid Arguments\"\n",
        "  return wrapper\n",
        "\n",
        "@only_int_allow\n",
        "def add_all(*args):\n",
        "  total = 0\n",
        "  for i in args:\n",
        "    total += i\n",
        "  print(total)\n",
        "\n",
        "add_all(1,2,3,4,5,6,7,8,9,10)\n",
        "\n",
        "\n",
        "\n"
      ],
      "metadata": {
        "id": "-0KRCr81aXXF",
        "colab": {
          "base_uri": "https://localhost:8080/"
        },
        "outputId": "01285af1-1bed-451f-b305-04a1b0196236"
      },
      "execution_count": null,
      "outputs": [
        {
          "output_type": "stream",
          "name": "stdout",
          "text": [
            "55\n"
          ]
        }
      ]
    },
    {
      "cell_type": "code",
      "source": [
        "from functools import wraps\n",
        "def only_int_allow(any_function):\n",
        "  @wraps(any_function)\n",
        "  def wrapper(*args,**kwargs):\n",
        "    data_types = []\n",
        "    for arg in args:\n",
        "      data_types.append(type(arg) == int)\n",
        "    if all(data_types):\n",
        "      return any_function(*args,**kwargs)\n",
        "    else:\n",
        "      return \"Invalid Arguments\"\n",
        "  return wrapper\n",
        "\n",
        "@only_int_allow\n",
        "def add_all(*args):\n",
        "  total = 0\n",
        "  for i in args:\n",
        "    total += i\n",
        "  print(total)\n",
        "\n",
        "add_all(1,2,3,4,5,6,7,8,9,10,[1,2,3,4,5])\n",
        "\n",
        "\n",
        "\n"
      ],
      "metadata": {
        "colab": {
          "base_uri": "https://localhost:8080/",
          "height": 36
        },
        "id": "xAFM5xRFIZUs",
        "outputId": "59712dcc-1365-4d07-c582-d5545f42cb1e"
      },
      "execution_count": null,
      "outputs": [
        {
          "output_type": "execute_result",
          "data": {
            "text/plain": [
              "'Invalid Arguments'"
            ],
            "application/vnd.google.colaboratory.intrinsic+json": {
              "type": "string"
            }
          },
          "metadata": {},
          "execution_count": 3
        }
      ]
    },
    {
      "cell_type": "code",
      "source": [
        "from functools import wraps\n",
        "\n",
        "def only_data_type_allow(datatype):\n",
        "  def decorator(any_function):\n",
        "    @wraps(any_function)\n",
        "    def wrapper(*args,**kwargs):\n",
        "      data_types = []\n",
        "      for i in args:\n",
        "        data_types.append(type(i) == datatype)\n",
        "      if all(data_types):\n",
        "        return any_function(*args,**kwargs)\n",
        "      else:\n",
        "        return \"Invalid Arguments\"\n",
        "    return wrapper\n",
        "  return decorator\n",
        "\n",
        "@only_data_type_allow(str)\n",
        "def string_join(*args):\n",
        "  string = ''\n",
        "  for i in args:\n",
        "    string += i\n",
        "  return string\n",
        "\n",
        "string_join(\"Kanwal\",\"Shehzadi\")\n",
        "\n",
        "\n",
        "\n",
        "\n"
      ],
      "metadata": {
        "colab": {
          "base_uri": "https://localhost:8080/",
          "height": 36
        },
        "id": "ynUoN1PYIn3K",
        "outputId": "b9b55786-d31e-4c92-be10-c74c58565a50"
      },
      "execution_count": null,
      "outputs": [
        {
          "output_type": "execute_result",
          "data": {
            "text/plain": [
              "'KanwalShehzadi'"
            ],
            "application/vnd.google.colaboratory.intrinsic+json": {
              "type": "string"
            }
          },
          "metadata": {},
          "execution_count": 5
        }
      ]
    },
    {
      "cell_type": "markdown",
      "source": [
        "# **RECURSIVE FUNCTIONS**"
      ],
      "metadata": {
        "id": "UB2Bt_4EU7PQ"
      }
    },
    {
      "cell_type": "code",
      "source": [
        "def factorial(num : int) -> int:\n",
        "  if num == 1:\n",
        "    return 1\n",
        "  else:\n",
        "    return num * factorial(num - 1)\n",
        "\n",
        "factorial(num)"
      ],
      "metadata": {
        "id": "Xr-Cjd8lO1PW"
      },
      "execution_count": null,
      "outputs": []
    },
    {
      "cell_type": "markdown",
      "source": [
        "# **GENERATORS**\n",
        "\n",
        "* generators are iterators"
      ],
      "metadata": {
        "id": "R0UcSZD2Xz0U"
      }
    },
    {
      "cell_type": "code",
      "source": [
        "# iterator vs iterable\n",
        "l = [1,2,3] #iterable\n",
        "list(map(lambda a : a**2,l)) #iterator"
      ],
      "metadata": {
        "colab": {
          "base_uri": "https://localhost:8080/"
        },
        "id": "WQpEycbAWj5Y",
        "outputId": "6fb54fa3-a5ed-4de4-a738-51f712bdde2b"
      },
      "execution_count": null,
      "outputs": [
        {
          "output_type": "execute_result",
          "data": {
            "text/plain": [
              "[1, 4, 9]"
            ]
          },
          "metadata": {},
          "execution_count": 9
        }
      ]
    },
    {
      "cell_type": "markdown",
      "source": [
        "* Ap iterator aur iterable donon pe loop chala skte hn\n",
        "* Agr iterable pe chalayen gay tw python pehle use iterator main convert kre ga jese k example di hai neechay\n",
        "* Agr iterator pe chalain gay tw direct chal jaye ga"
      ],
      "metadata": {
        "id": "UlHpqD-VZ68y"
      }
    },
    {
      "cell_type": "code",
      "source": [
        "# frontend\n",
        "for i in l:\n",
        "  print(i)\n",
        "\n",
        "#backend\n",
        "i = iter(l)\n",
        "print(next(i))\n",
        "print(next(i))\n",
        "print(next(i))"
      ],
      "metadata": {
        "colab": {
          "base_uri": "https://localhost:8080/"
        },
        "id": "8cZsKBOIYxbs",
        "outputId": "7b15a8e1-27ce-4714-ced1-c4f41f89cbdf"
      },
      "execution_count": null,
      "outputs": [
        {
          "output_type": "stream",
          "name": "stdout",
          "text": [
            "1\n",
            "2\n",
            "3\n",
            "1\n",
            "2\n",
            "3\n"
          ]
        }
      ]
    },
    {
      "cell_type": "code",
      "source": [
        "for i in map(lambda a : a**2,l):\n",
        "  print(i)"
      ],
      "metadata": {
        "colab": {
          "base_uri": "https://localhost:8080/"
        },
        "id": "i2QnQuENZI32",
        "outputId": "17517c3d-b9a2-4343-8d96-e92c3cf343ce"
      },
      "execution_count": null,
      "outputs": [
        {
          "output_type": "stream",
          "name": "stdout",
          "text": [
            "1\n",
            "4\n",
            "9\n"
          ]
        }
      ]
    },
    {
      "cell_type": "code",
      "source": [
        "#Normal function\n",
        "def nums(n):\n",
        "  for i in range(1,n+1):\n",
        "    print(i) # bus iski jagah yield i likh dene se yeh ban jyega generator\n",
        "\n",
        "nums(10)"
      ],
      "metadata": {
        "colab": {
          "base_uri": "https://localhost:8080/"
        },
        "id": "gQmVyps1ZX9K",
        "outputId": "7a736c54-7a7c-41d6-966f-d57c5369982a"
      },
      "execution_count": null,
      "outputs": [
        {
          "output_type": "stream",
          "name": "stdout",
          "text": [
            "1\n",
            "2\n",
            "3\n",
            "4\n",
            "5\n",
            "6\n",
            "7\n",
            "8\n",
            "9\n",
            "10\n"
          ]
        }
      ]
    },
    {
      "cell_type": "code",
      "source": [
        "def nums(n):\n",
        "  for i in range(1,n+1):\n",
        "    yield i\n",
        "\n",
        "nums(10)"
      ],
      "metadata": {
        "colab": {
          "base_uri": "https://localhost:8080/"
        },
        "id": "RB_eky4Eg9oX",
        "outputId": "0aafd816-f989-43ac-c5d6-101262a685ab"
      },
      "execution_count": null,
      "outputs": [
        {
          "output_type": "execute_result",
          "data": {
            "text/plain": [
              "<generator object nums at 0x7c9d81881460>"
            ]
          },
          "metadata": {},
          "execution_count": 16
        }
      ]
    },
    {
      "cell_type": "code",
      "source": [
        "def nums(n):\n",
        "  for i in range(1,n+1):\n",
        "    if i % 2 == 0:\n",
        "      yield i\n",
        "\n",
        "for i in nums(10):\n",
        "  print(i)"
      ],
      "metadata": {
        "colab": {
          "base_uri": "https://localhost:8080/"
        },
        "id": "23l74imShK6C",
        "outputId": "2edd7ecb-f6f6-43fb-b4af-817d946fc5f5"
      },
      "execution_count": null,
      "outputs": [
        {
          "output_type": "stream",
          "name": "stdout",
          "text": [
            "2\n",
            "4\n",
            "6\n",
            "8\n",
            "10\n"
          ]
        }
      ]
    },
    {
      "cell_type": "code",
      "source": [
        "for i in nums(10):\n",
        "  print(i)\n",
        "for i in nums(10):\n",
        "  print(i)\n",
        "for i in nums(10):\n",
        "  print(i)#see printed as many times as i want"
      ],
      "metadata": {
        "colab": {
          "base_uri": "https://localhost:8080/"
        },
        "id": "X0OVzUIwjShY",
        "outputId": "ecd6dac7-9376-4985-f836-eded3bbecfe5"
      },
      "execution_count": null,
      "outputs": [
        {
          "output_type": "stream",
          "name": "stdout",
          "text": [
            "2\n",
            "4\n",
            "6\n",
            "8\n",
            "10\n",
            "2\n",
            "4\n",
            "6\n",
            "8\n",
            "10\n",
            "2\n",
            "4\n",
            "6\n",
            "8\n",
            "10\n"
          ]
        }
      ]
    },
    {
      "cell_type": "code",
      "source": [
        "myVar = nums(10)\n",
        "for i in myVar:\n",
        "  print(i)\n",
        "for i in myVar:\n",
        "  print(i)#see printed only once"
      ],
      "metadata": {
        "colab": {
          "base_uri": "https://localhost:8080/"
        },
        "id": "t_S-Iq7Wml5m",
        "outputId": "f74f1062-24ed-43ad-84bf-e9d7c72f3ba8"
      },
      "execution_count": null,
      "outputs": [
        {
          "output_type": "stream",
          "name": "stdout",
          "text": [
            "2\n",
            "4\n",
            "6\n",
            "8\n",
            "10\n"
          ]
        }
      ]
    },
    {
      "cell_type": "code",
      "source": [],
      "metadata": {
        "id": "v9dbB4tLmsRS"
      },
      "execution_count": null,
      "outputs": []
    }
  ]
}