{
  "nbformat": 4,
  "nbformat_minor": 0,
  "metadata": {
    "colab": {
      "provenance": []
    },
    "kernelspec": {
      "name": "python3",
      "display_name": "Python 3"
    },
    "language_info": {
      "name": "python"
    }
  },
  "cells": [
    {
      "cell_type": "code",
      "execution_count": null,
      "metadata": {
        "id": "NNy1ARfIUjSL"
      },
      "outputs": [],
      "source": [
        "from typing import Union,Dict\n",
        "\n",
        "key = Union[int,str]\n",
        "value = Union[int,str,list,dict,tuple,set]\n",
        "\n",
        "data : Dict[key,value] = {\n",
        "    \"fname\":\"Fayyaz\",\n",
        "    \"name\":\"Kanwal\",\n",
        "    \"education\":\"BSE\"\n",
        "}"
      ]
    },
    {
      "cell_type": "code",
      "source": [
        "data"
      ],
      "metadata": {
        "colab": {
          "base_uri": "https://localhost:8080/"
        },
        "id": "5l73jVFsiTNt",
        "outputId": "09413336-255c-4483-bbfa-215b4b657ef4"
      },
      "execution_count": null,
      "outputs": [
        {
          "output_type": "execute_result",
          "data": {
            "text/plain": [
              "{'fname': 'Fayyaz', 'name': 'Kanwal', 'education': 'BSE'}"
            ]
          },
          "metadata": {},
          "execution_count": 8
        }
      ]
    },
    {
      "cell_type": "code",
      "source": [
        "[i for i in dir(dict) if '__' not in i]"
      ],
      "metadata": {
        "colab": {
          "base_uri": "https://localhost:8080/"
        },
        "id": "2OC3Y7QqiUVt",
        "outputId": "767434bc-df63-4b7a-e744-2662a0dfc573"
      },
      "execution_count": null,
      "outputs": [
        {
          "output_type": "execute_result",
          "data": {
            "text/plain": [
              "['clear',\n",
              " 'copy',\n",
              " 'fromkeys',\n",
              " 'get',\n",
              " 'items',\n",
              " 'keys',\n",
              " 'pop',\n",
              " 'popitem',\n",
              " 'setdefault',\n",
              " 'update',\n",
              " 'values']"
            ]
          },
          "metadata": {},
          "execution_count": 5
        }
      ]
    },
    {
      "cell_type": "code",
      "source": [
        "#del method - delete the dictionary\n",
        "del data"
      ],
      "metadata": {
        "id": "KRDPLsRJiih8"
      },
      "execution_count": null,
      "outputs": []
    },
    {
      "cell_type": "code",
      "source": [
        "#pop method - removes a key-value specified\n",
        "data.pop(\"education\")"
      ],
      "metadata": {
        "colab": {
          "base_uri": "https://localhost:8080/",
          "height": 36
        },
        "id": "H0CwVJDsjGfa",
        "outputId": "86292869-b3f5-4efe-d7ac-350bda364764"
      },
      "execution_count": null,
      "outputs": [
        {
          "output_type": "execute_result",
          "data": {
            "text/plain": [
              "'BSE'"
            ],
            "application/vnd.google.colaboratory.intrinsic+json": {
              "type": "string"
            }
          },
          "metadata": {},
          "execution_count": 10
        }
      ]
    },
    {
      "cell_type": "code",
      "source": [
        "#popitem method - removes a key-value from the last\n",
        "data.popitem()"
      ],
      "metadata": {
        "colab": {
          "base_uri": "https://localhost:8080/"
        },
        "id": "ybsQnKpsjvGU",
        "outputId": "58642425-91bb-4725-ea8d-ea1d64f8e608"
      },
      "execution_count": null,
      "outputs": [
        {
          "output_type": "execute_result",
          "data": {
            "text/plain": [
              "('education', 'BSE')"
            ]
          },
          "metadata": {},
          "execution_count": 12
        }
      ]
    },
    {
      "cell_type": "code",
      "source": [
        "#get method - gracefull termination if key is not found\n",
        "data.get(\"Pakistan\",\"Not Found\")"
      ],
      "metadata": {
        "colab": {
          "base_uri": "https://localhost:8080/",
          "height": 36
        },
        "id": "Ov-4AImYkJS4",
        "outputId": "9ab3b1ce-00ba-4806-8935-b2a9a9a3c9aa"
      },
      "execution_count": null,
      "outputs": [
        {
          "output_type": "execute_result",
          "data": {
            "text/plain": [
              "'Not Found'"
            ],
            "application/vnd.google.colaboratory.intrinsic+json": {
              "type": "string"
            }
          },
          "metadata": {},
          "execution_count": 14
        }
      ]
    },
    {
      "cell_type": "code",
      "source": [
        "#setDefault method - gracefull termination plus not found key ko add bhi krta h\n",
        "data.setdefault(\"Pakistan\")"
      ],
      "metadata": {
        "id": "v1ab-WrbkihZ"
      },
      "execution_count": null,
      "outputs": []
    },
    {
      "cell_type": "code",
      "source": [
        "data"
      ],
      "metadata": {
        "colab": {
          "base_uri": "https://localhost:8080/"
        },
        "id": "6zIpL0DGkx-i",
        "outputId": "3addc598-ed47-475d-c030-92ba7de63a8d"
      },
      "execution_count": null,
      "outputs": [
        {
          "output_type": "execute_result",
          "data": {
            "text/plain": [
              "{'fname': 'Fayyaz', 'name': 'Kanwal', 'education': 'BSE', 'Pakistan': None}"
            ]
          },
          "metadata": {},
          "execution_count": 16
        }
      ]
    },
    {
      "cell_type": "code",
      "source": [
        "data.setdefault(\"Nationality\",\"Pakistani\")"
      ],
      "metadata": {
        "colab": {
          "base_uri": "https://localhost:8080/",
          "height": 36
        },
        "id": "sSqTt_DUkzMO",
        "outputId": "4dd4fb51-a982-442a-c66f-e8dd7401adb9"
      },
      "execution_count": null,
      "outputs": [
        {
          "output_type": "execute_result",
          "data": {
            "text/plain": [
              "'Pakistani'"
            ],
            "application/vnd.google.colaboratory.intrinsic+json": {
              "type": "string"
            }
          },
          "metadata": {},
          "execution_count": 18
        }
      ]
    },
    {
      "cell_type": "code",
      "source": [
        "data"
      ],
      "metadata": {
        "colab": {
          "base_uri": "https://localhost:8080/"
        },
        "id": "96xJ7hBJk42f",
        "outputId": "15bb55e8-677b-441f-95bd-99fc987031f3"
      },
      "execution_count": null,
      "outputs": [
        {
          "output_type": "execute_result",
          "data": {
            "text/plain": [
              "{'fname': 'Fayyaz',\n",
              " 'name': 'Kanwal',\n",
              " 'education': 'BSE',\n",
              " 'Pakistan': None,\n",
              " 'Nationality': 'Pakistani'}"
            ]
          },
          "metadata": {},
          "execution_count": 19
        }
      ]
    },
    {
      "cell_type": "code",
      "source": [
        "# update\n"
      ],
      "metadata": {
        "id": "tXmjshs4k7Rm"
      },
      "execution_count": null,
      "outputs": []
    },
    {
      "cell_type": "code",
      "source": [
        "key = Union[int,str]\n",
        "value = Union[int,str,list,dict,tuple,set]\n",
        "\n",
        "data1 : Dict[key,value] = {\n",
        "    \"fname\":\"Fayyaz\",\n",
        "    \"name\":\"Kanwal\",\n",
        "    \"education\":\"BSE\"\n",
        "}\n",
        "\n",
        "data2 : Dict[key,value] = {\n",
        "    \"name\":\"Kanwal Shehzadi\",\n",
        "    \"age\":20,\n",
        "    \"height\":\"5'2\"\n",
        "}\n",
        "\n",
        "data1.update(data2)"
      ],
      "metadata": {
        "id": "AAZMLMpClP14"
      },
      "execution_count": null,
      "outputs": []
    },
    {
      "cell_type": "code",
      "source": [
        "data1"
      ],
      "metadata": {
        "colab": {
          "base_uri": "https://localhost:8080/"
        },
        "id": "ju6lp3lol-k3",
        "outputId": "644dcfbd-6acc-453b-8aba-401954687663"
      },
      "execution_count": null,
      "outputs": [
        {
          "output_type": "execute_result",
          "data": {
            "text/plain": [
              "{'fname': 'Fayyaz',\n",
              " 'name': 'Kanwal Shehzadi',\n",
              " 'education': 'BSE',\n",
              " 'age': 20,\n",
              " 'height': \"5'2\"}"
            ]
          },
          "metadata": {},
          "execution_count": 22
        }
      ]
    },
    {
      "cell_type": "markdown",
      "source": [
        "**EXAMPLE**"
      ],
      "metadata": {
        "id": "U7WBL7a1mUAm"
      }
    },
    {
      "cell_type": "code",
      "source": [
        "import pandas as pd\n",
        "from typing import Any"
      ],
      "metadata": {
        "id": "zq37o9opl_78"
      },
      "execution_count": null,
      "outputs": []
    },
    {
      "cell_type": "code",
      "source": [
        "students_data : Dict[str,list[Any]] = {\n",
        "    \"rollno\":[1,2,3],\n",
        "    \"name\":[\"A\",\"B\",\"C\"],\n",
        "    \"education\":[\"bse\",\"phd\",\"matric\"]\n",
        "}\n",
        "df : pd.DataFrame = pd.DataFrame(students_data)\n",
        "df"
      ],
      "metadata": {
        "colab": {
          "base_uri": "https://localhost:8080/",
          "height": 143
        },
        "id": "ylZrS4GDmR5F",
        "outputId": "15418c72-e40d-438e-ee93-474f5dbf59e0"
      },
      "execution_count": null,
      "outputs": [
        {
          "output_type": "execute_result",
          "data": {
            "text/plain": [
              "   rollno name education\n",
              "0       1    A       bse\n",
              "1       2    B       phd\n",
              "2       3    C    matric"
            ],
            "text/html": [
              "\n",
              "  <div id=\"df-0db1b27e-14c5-4f87-99a9-832d830c549e\" class=\"colab-df-container\">\n",
              "    <div>\n",
              "<style scoped>\n",
              "    .dataframe tbody tr th:only-of-type {\n",
              "        vertical-align: middle;\n",
              "    }\n",
              "\n",
              "    .dataframe tbody tr th {\n",
              "        vertical-align: top;\n",
              "    }\n",
              "\n",
              "    .dataframe thead th {\n",
              "        text-align: right;\n",
              "    }\n",
              "</style>\n",
              "<table border=\"1\" class=\"dataframe\">\n",
              "  <thead>\n",
              "    <tr style=\"text-align: right;\">\n",
              "      <th></th>\n",
              "      <th>rollno</th>\n",
              "      <th>name</th>\n",
              "      <th>education</th>\n",
              "    </tr>\n",
              "  </thead>\n",
              "  <tbody>\n",
              "    <tr>\n",
              "      <th>0</th>\n",
              "      <td>1</td>\n",
              "      <td>A</td>\n",
              "      <td>bse</td>\n",
              "    </tr>\n",
              "    <tr>\n",
              "      <th>1</th>\n",
              "      <td>2</td>\n",
              "      <td>B</td>\n",
              "      <td>phd</td>\n",
              "    </tr>\n",
              "    <tr>\n",
              "      <th>2</th>\n",
              "      <td>3</td>\n",
              "      <td>C</td>\n",
              "      <td>matric</td>\n",
              "    </tr>\n",
              "  </tbody>\n",
              "</table>\n",
              "</div>\n",
              "    <div class=\"colab-df-buttons\">\n",
              "\n",
              "  <div class=\"colab-df-container\">\n",
              "    <button class=\"colab-df-convert\" onclick=\"convertToInteractive('df-0db1b27e-14c5-4f87-99a9-832d830c549e')\"\n",
              "            title=\"Convert this dataframe to an interactive table.\"\n",
              "            style=\"display:none;\">\n",
              "\n",
              "  <svg xmlns=\"http://www.w3.org/2000/svg\" height=\"24px\" viewBox=\"0 -960 960 960\">\n",
              "    <path d=\"M120-120v-720h720v720H120Zm60-500h600v-160H180v160Zm220 220h160v-160H400v160Zm0 220h160v-160H400v160ZM180-400h160v-160H180v160Zm440 0h160v-160H620v160ZM180-180h160v-160H180v160Zm440 0h160v-160H620v160Z\"/>\n",
              "  </svg>\n",
              "    </button>\n",
              "\n",
              "  <style>\n",
              "    .colab-df-container {\n",
              "      display:flex;\n",
              "      gap: 12px;\n",
              "    }\n",
              "\n",
              "    .colab-df-convert {\n",
              "      background-color: #E8F0FE;\n",
              "      border: none;\n",
              "      border-radius: 50%;\n",
              "      cursor: pointer;\n",
              "      display: none;\n",
              "      fill: #1967D2;\n",
              "      height: 32px;\n",
              "      padding: 0 0 0 0;\n",
              "      width: 32px;\n",
              "    }\n",
              "\n",
              "    .colab-df-convert:hover {\n",
              "      background-color: #E2EBFA;\n",
              "      box-shadow: 0px 1px 2px rgba(60, 64, 67, 0.3), 0px 1px 3px 1px rgba(60, 64, 67, 0.15);\n",
              "      fill: #174EA6;\n",
              "    }\n",
              "\n",
              "    .colab-df-buttons div {\n",
              "      margin-bottom: 4px;\n",
              "    }\n",
              "\n",
              "    [theme=dark] .colab-df-convert {\n",
              "      background-color: #3B4455;\n",
              "      fill: #D2E3FC;\n",
              "    }\n",
              "\n",
              "    [theme=dark] .colab-df-convert:hover {\n",
              "      background-color: #434B5C;\n",
              "      box-shadow: 0px 1px 3px 1px rgba(0, 0, 0, 0.15);\n",
              "      filter: drop-shadow(0px 1px 2px rgba(0, 0, 0, 0.3));\n",
              "      fill: #FFFFFF;\n",
              "    }\n",
              "  </style>\n",
              "\n",
              "    <script>\n",
              "      const buttonEl =\n",
              "        document.querySelector('#df-0db1b27e-14c5-4f87-99a9-832d830c549e button.colab-df-convert');\n",
              "      buttonEl.style.display =\n",
              "        google.colab.kernel.accessAllowed ? 'block' : 'none';\n",
              "\n",
              "      async function convertToInteractive(key) {\n",
              "        const element = document.querySelector('#df-0db1b27e-14c5-4f87-99a9-832d830c549e');\n",
              "        const dataTable =\n",
              "          await google.colab.kernel.invokeFunction('convertToInteractive',\n",
              "                                                    [key], {});\n",
              "        if (!dataTable) return;\n",
              "\n",
              "        const docLinkHtml = 'Like what you see? Visit the ' +\n",
              "          '<a target=\"_blank\" href=https://colab.research.google.com/notebooks/data_table.ipynb>data table notebook</a>'\n",
              "          + ' to learn more about interactive tables.';\n",
              "        element.innerHTML = '';\n",
              "        dataTable['output_type'] = 'display_data';\n",
              "        await google.colab.output.renderOutput(dataTable, element);\n",
              "        const docLink = document.createElement('div');\n",
              "        docLink.innerHTML = docLinkHtml;\n",
              "        element.appendChild(docLink);\n",
              "      }\n",
              "    </script>\n",
              "  </div>\n",
              "\n",
              "\n",
              "<div id=\"df-4bab5d50-1125-481d-820c-83df75734e9b\">\n",
              "  <button class=\"colab-df-quickchart\" onclick=\"quickchart('df-4bab5d50-1125-481d-820c-83df75734e9b')\"\n",
              "            title=\"Suggest charts\"\n",
              "            style=\"display:none;\">\n",
              "\n",
              "<svg xmlns=\"http://www.w3.org/2000/svg\" height=\"24px\"viewBox=\"0 0 24 24\"\n",
              "     width=\"24px\">\n",
              "    <g>\n",
              "        <path d=\"M19 3H5c-1.1 0-2 .9-2 2v14c0 1.1.9 2 2 2h14c1.1 0 2-.9 2-2V5c0-1.1-.9-2-2-2zM9 17H7v-7h2v7zm4 0h-2V7h2v10zm4 0h-2v-4h2v4z\"/>\n",
              "    </g>\n",
              "</svg>\n",
              "  </button>\n",
              "\n",
              "<style>\n",
              "  .colab-df-quickchart {\n",
              "      --bg-color: #E8F0FE;\n",
              "      --fill-color: #1967D2;\n",
              "      --hover-bg-color: #E2EBFA;\n",
              "      --hover-fill-color: #174EA6;\n",
              "      --disabled-fill-color: #AAA;\n",
              "      --disabled-bg-color: #DDD;\n",
              "  }\n",
              "\n",
              "  [theme=dark] .colab-df-quickchart {\n",
              "      --bg-color: #3B4455;\n",
              "      --fill-color: #D2E3FC;\n",
              "      --hover-bg-color: #434B5C;\n",
              "      --hover-fill-color: #FFFFFF;\n",
              "      --disabled-bg-color: #3B4455;\n",
              "      --disabled-fill-color: #666;\n",
              "  }\n",
              "\n",
              "  .colab-df-quickchart {\n",
              "    background-color: var(--bg-color);\n",
              "    border: none;\n",
              "    border-radius: 50%;\n",
              "    cursor: pointer;\n",
              "    display: none;\n",
              "    fill: var(--fill-color);\n",
              "    height: 32px;\n",
              "    padding: 0;\n",
              "    width: 32px;\n",
              "  }\n",
              "\n",
              "  .colab-df-quickchart:hover {\n",
              "    background-color: var(--hover-bg-color);\n",
              "    box-shadow: 0 1px 2px rgba(60, 64, 67, 0.3), 0 1px 3px 1px rgba(60, 64, 67, 0.15);\n",
              "    fill: var(--button-hover-fill-color);\n",
              "  }\n",
              "\n",
              "  .colab-df-quickchart-complete:disabled,\n",
              "  .colab-df-quickchart-complete:disabled:hover {\n",
              "    background-color: var(--disabled-bg-color);\n",
              "    fill: var(--disabled-fill-color);\n",
              "    box-shadow: none;\n",
              "  }\n",
              "\n",
              "  .colab-df-spinner {\n",
              "    border: 2px solid var(--fill-color);\n",
              "    border-color: transparent;\n",
              "    border-bottom-color: var(--fill-color);\n",
              "    animation:\n",
              "      spin 1s steps(1) infinite;\n",
              "  }\n",
              "\n",
              "  @keyframes spin {\n",
              "    0% {\n",
              "      border-color: transparent;\n",
              "      border-bottom-color: var(--fill-color);\n",
              "      border-left-color: var(--fill-color);\n",
              "    }\n",
              "    20% {\n",
              "      border-color: transparent;\n",
              "      border-left-color: var(--fill-color);\n",
              "      border-top-color: var(--fill-color);\n",
              "    }\n",
              "    30% {\n",
              "      border-color: transparent;\n",
              "      border-left-color: var(--fill-color);\n",
              "      border-top-color: var(--fill-color);\n",
              "      border-right-color: var(--fill-color);\n",
              "    }\n",
              "    40% {\n",
              "      border-color: transparent;\n",
              "      border-right-color: var(--fill-color);\n",
              "      border-top-color: var(--fill-color);\n",
              "    }\n",
              "    60% {\n",
              "      border-color: transparent;\n",
              "      border-right-color: var(--fill-color);\n",
              "    }\n",
              "    80% {\n",
              "      border-color: transparent;\n",
              "      border-right-color: var(--fill-color);\n",
              "      border-bottom-color: var(--fill-color);\n",
              "    }\n",
              "    90% {\n",
              "      border-color: transparent;\n",
              "      border-bottom-color: var(--fill-color);\n",
              "    }\n",
              "  }\n",
              "</style>\n",
              "\n",
              "  <script>\n",
              "    async function quickchart(key) {\n",
              "      const quickchartButtonEl =\n",
              "        document.querySelector('#' + key + ' button');\n",
              "      quickchartButtonEl.disabled = true;  // To prevent multiple clicks.\n",
              "      quickchartButtonEl.classList.add('colab-df-spinner');\n",
              "      try {\n",
              "        const charts = await google.colab.kernel.invokeFunction(\n",
              "            'suggestCharts', [key], {});\n",
              "      } catch (error) {\n",
              "        console.error('Error during call to suggestCharts:', error);\n",
              "      }\n",
              "      quickchartButtonEl.classList.remove('colab-df-spinner');\n",
              "      quickchartButtonEl.classList.add('colab-df-quickchart-complete');\n",
              "    }\n",
              "    (() => {\n",
              "      let quickchartButtonEl =\n",
              "        document.querySelector('#df-4bab5d50-1125-481d-820c-83df75734e9b button');\n",
              "      quickchartButtonEl.style.display =\n",
              "        google.colab.kernel.accessAllowed ? 'block' : 'none';\n",
              "    })();\n",
              "  </script>\n",
              "</div>\n",
              "\n",
              "  <div id=\"id_5c99a4d9-11c3-4ea9-86fa-581657a7afbb\">\n",
              "    <style>\n",
              "      .colab-df-generate {\n",
              "        background-color: #E8F0FE;\n",
              "        border: none;\n",
              "        border-radius: 50%;\n",
              "        cursor: pointer;\n",
              "        display: none;\n",
              "        fill: #1967D2;\n",
              "        height: 32px;\n",
              "        padding: 0 0 0 0;\n",
              "        width: 32px;\n",
              "      }\n",
              "\n",
              "      .colab-df-generate:hover {\n",
              "        background-color: #E2EBFA;\n",
              "        box-shadow: 0px 1px 2px rgba(60, 64, 67, 0.3), 0px 1px 3px 1px rgba(60, 64, 67, 0.15);\n",
              "        fill: #174EA6;\n",
              "      }\n",
              "\n",
              "      [theme=dark] .colab-df-generate {\n",
              "        background-color: #3B4455;\n",
              "        fill: #D2E3FC;\n",
              "      }\n",
              "\n",
              "      [theme=dark] .colab-df-generate:hover {\n",
              "        background-color: #434B5C;\n",
              "        box-shadow: 0px 1px 3px 1px rgba(0, 0, 0, 0.15);\n",
              "        filter: drop-shadow(0px 1px 2px rgba(0, 0, 0, 0.3));\n",
              "        fill: #FFFFFF;\n",
              "      }\n",
              "    </style>\n",
              "    <button class=\"colab-df-generate\" onclick=\"generateWithVariable('df')\"\n",
              "            title=\"Generate code using this dataframe.\"\n",
              "            style=\"display:none;\">\n",
              "\n",
              "  <svg xmlns=\"http://www.w3.org/2000/svg\" height=\"24px\"viewBox=\"0 0 24 24\"\n",
              "       width=\"24px\">\n",
              "    <path d=\"M7,19H8.4L18.45,9,17,7.55,7,17.6ZM5,21V16.75L18.45,3.32a2,2,0,0,1,2.83,0l1.4,1.43a1.91,1.91,0,0,1,.58,1.4,1.91,1.91,0,0,1-.58,1.4L9.25,21ZM18.45,9,17,7.55Zm-12,3A5.31,5.31,0,0,0,4.9,8.1,5.31,5.31,0,0,0,1,6.5,5.31,5.31,0,0,0,4.9,4.9,5.31,5.31,0,0,0,6.5,1,5.31,5.31,0,0,0,8.1,4.9,5.31,5.31,0,0,0,12,6.5,5.46,5.46,0,0,0,6.5,12Z\"/>\n",
              "  </svg>\n",
              "    </button>\n",
              "    <script>\n",
              "      (() => {\n",
              "      const buttonEl =\n",
              "        document.querySelector('#id_5c99a4d9-11c3-4ea9-86fa-581657a7afbb button.colab-df-generate');\n",
              "      buttonEl.style.display =\n",
              "        google.colab.kernel.accessAllowed ? 'block' : 'none';\n",
              "\n",
              "      buttonEl.onclick = () => {\n",
              "        google.colab.notebook.generateWithVariable('df');\n",
              "      }\n",
              "      })();\n",
              "    </script>\n",
              "  </div>\n",
              "\n",
              "    </div>\n",
              "  </div>\n"
            ]
          },
          "metadata": {},
          "execution_count": 26
        }
      ]
    },
    {
      "cell_type": "markdown",
      "source": [
        "**EXAMPLE**"
      ],
      "metadata": {
        "id": "fPpsUHpgplqb"
      }
    },
    {
      "cell_type": "code",
      "source": [
        "values = Union[str,int]\n",
        "alien_o : Dict[str,values] = {'x_position':0,\n",
        "                              'y_position':25,\n",
        "                              'speed':'medium'}\n",
        "print(f\"Original position : {alien_o['x_position']}\")\n",
        "if alien_o['speed'] == \"slow\":\n",
        "  x_increment = 1\n",
        "elif alien_o['speed'] == \"medium\":\n",
        "  x_increment = 2\n",
        "else:\n",
        "  x_increment = 3\n",
        "\n",
        "alien_o['x_position'] = alien_o['x_position'] + x_increment\n",
        "\n",
        "print(f\"New Position: {alien_o['x_position']}\")\n"
      ],
      "metadata": {
        "colab": {
          "base_uri": "https://localhost:8080/"
        },
        "id": "19FtvOOOpk7q",
        "outputId": "e252a834-2f06-4b00-d14b-075141e51bb7"
      },
      "execution_count": null,
      "outputs": [
        {
          "output_type": "stream",
          "name": "stdout",
          "text": [
            "Original position : 0\n",
            "New Position: 2\n"
          ]
        }
      ]
    },
    {
      "cell_type": "markdown",
      "source": [
        "# **Latest will become a part of the dictionary because keys are unique only one latest will come**"
      ],
      "metadata": {
        "id": "eaP51DIHtt4m"
      }
    },
    {
      "cell_type": "code",
      "source": [
        "from typing import Union,Dict\n",
        "\n",
        "key = Union[int,str]\n",
        "value = Union[int,str,list,dict,tuple,set]\n",
        "\n",
        "data : Dict[key,value] = {\n",
        "    \"fname\":\"Fayyaz\",\n",
        "    \"name\":\"Kanwal\",\n",
        "    \"education\":\"BSE\",\n",
        "    \"name\":\"Kanwal Shehzadi\"\n",
        "}\n",
        "\n",
        "data\n"
      ],
      "metadata": {
        "colab": {
          "base_uri": "https://localhost:8080/"
        },
        "id": "J8lWDQhRnIhE",
        "outputId": "719350df-8239-4817-b8ee-b4edb252aa49"
      },
      "execution_count": null,
      "outputs": [
        {
          "output_type": "execute_result",
          "data": {
            "text/plain": [
              "{'fname': 'Fayyaz', 'name': 'Kanwal Shehzadi', 'education': 'BSE'}"
            ]
          },
          "metadata": {},
          "execution_count": 30
        }
      ]
    },
    {
      "cell_type": "markdown",
      "source": [
        "# **EXAMPLE**"
      ],
      "metadata": {
        "id": "CrCS2wAvvFpD"
      }
    },
    {
      "cell_type": "code",
      "source": [
        "favourite_languages = {\n",
        "    'jen':'python',\n",
        "    'sarah':'c',\n",
        "    'edward':'rust',\n",
        "    'phil':'python'\n",
        "}\n",
        "\n",
        "friends = ['phil','sarah']\n",
        "\n",
        "for name in favourite_languages:\n",
        "  print(f\"Hi {name}\")\n",
        "  if name in friends:\n",
        "    language = favourite_languages[name]\n",
        "    print(f\"\\t{name.title()},I see you love {language}\")"
      ],
      "metadata": {
        "colab": {
          "base_uri": "https://localhost:8080/"
        },
        "id": "tgNtOeljtS99",
        "outputId": "2c518306-3ecc-4103-a558-df305f2d07a7"
      },
      "execution_count": null,
      "outputs": [
        {
          "output_type": "stream",
          "name": "stdout",
          "text": [
            "Hi jen\n",
            "Hi sarah\n",
            "\tSarah,I see you love c\n",
            "Hi edward\n",
            "Hi phil\n",
            "\tPhil,I see you love python\n"
          ]
        }
      ]
    },
    {
      "cell_type": "code",
      "source": [
        "\"Kanwal\" in \"\"\"My name is  Kanwal Shehzadi(Project Manager) \"\"\""
      ],
      "metadata": {
        "id": "SJ9eh8HgvdGh",
        "colab": {
          "base_uri": "https://localhost:8080/"
        },
        "outputId": "64e3f43c-85af-4902-b6cb-3956a1675fd0"
      },
      "execution_count": null,
      "outputs": [
        {
          "output_type": "execute_result",
          "data": {
            "text/plain": [
              "True"
            ]
          },
          "metadata": {},
          "execution_count": 1
        }
      ]
    },
    {
      "cell_type": "code",
      "source": [
        "from typing import Union,Dict\n",
        "\n",
        "myType = Union[str,int]\n",
        "alien_0 : Dict[str,myType] = {'color':'green','points':5}\n",
        "alien_1 : Dict[str,myType] = {'color':'yellow','points':10}\n",
        "alien_2 : Dict[str,myType] = {'color':'red','points':15}\n",
        "\n",
        "aliens : list[Dict[str,myType]] = [alien_0,alien_1,alien_2]\n",
        "for alien in aliens:\n",
        "  print(alien)"
      ],
      "metadata": {
        "colab": {
          "base_uri": "https://localhost:8080/"
        },
        "id": "FxUQkbeezBtW",
        "outputId": "17d2dd0e-6b2c-4b6d-ede6-e331d956c39f"
      },
      "execution_count": null,
      "outputs": [
        {
          "output_type": "stream",
          "name": "stdout",
          "text": [
            "{'color': 'green', 'points': 5}\n",
            "{'color': 'yellow', 'points': 10}\n",
            "{'color': 'red', 'points': 15}\n"
          ]
        }
      ]
    },
    {
      "cell_type": "code",
      "source": [
        "aliens : list[Dict[str,myType]] = []\n",
        "for alien_number in range(30):\n",
        "  new_alien = {'color':'green',\n",
        "              'points':5,\n",
        "              'speed':'slow'}\n",
        "  aliens.append(new_alien)\n",
        "\n",
        "for alien in aliens[:5]:\n",
        "  print(alien)\n",
        "print(\".......\")\n",
        "\n",
        "print(f\"Total number of aliens: {len(aliens)}\")\n",
        "\n",
        "for alien in aliens[:3]:\n",
        "  if alien['color'] == \"green\":\n",
        "    alien['color'] = \"yellow\"\n",
        "    alien['speed'] = \"medium\"\n",
        "    alien['points'] = 100\n",
        "\n",
        "for alien in aliens[:5]:\n",
        "  print(alien)\n",
        "print(\".......\")"
      ],
      "metadata": {
        "colab": {
          "base_uri": "https://localhost:8080/"
        },
        "id": "ekmZL6CI0SAU",
        "outputId": "ae3e8106-1eb9-49c3-dd8c-847a4a802440"
      },
      "execution_count": null,
      "outputs": [
        {
          "output_type": "stream",
          "name": "stdout",
          "text": [
            "{'color': 'green', 'points': 5, 'speed': 'slow'}\n",
            "{'color': 'green', 'points': 5, 'speed': 'slow'}\n",
            "{'color': 'green', 'points': 5, 'speed': 'slow'}\n",
            "{'color': 'green', 'points': 5, 'speed': 'slow'}\n",
            "{'color': 'green', 'points': 5, 'speed': 'slow'}\n",
            ".......\n",
            "Total number of aliens: 30\n",
            "{'color': 'yellow', 'points': 100, 'speed': 'medium'}\n",
            "{'color': 'yellow', 'points': 100, 'speed': 'medium'}\n",
            "{'color': 'yellow', 'points': 100, 'speed': 'medium'}\n",
            "{'color': 'green', 'points': 5, 'speed': 'slow'}\n",
            "{'color': 'green', 'points': 5, 'speed': 'slow'}\n",
            ".......\n"
          ]
        }
      ]
    },
    {
      "cell_type": "code",
      "source": [
        "from typing import Union,Dict\n",
        "key = Union[int,str]\n",
        "value = Union[int,str,list,dict,tuple,set]\n",
        "\n",
        "data : Dict[key,value] = {\n",
        "    \"fname\":\"Fayyaz\",\n",
        "    \"name\":\"Kanwal\",\n",
        "    \"education\":\"BSE\"\n",
        "}"
      ],
      "metadata": {
        "id": "in4eXQtJ2vdd"
      },
      "execution_count": null,
      "outputs": []
    },
    {
      "cell_type": "code",
      "source": [
        "import json\n",
        "\n",
        "data1 = json.dumps(data,indent=4)\n",
        "print(type(data1))\n",
        "print(data1)"
      ],
      "metadata": {
        "colab": {
          "base_uri": "https://localhost:8080/"
        },
        "id": "a_PZKXl05FCc",
        "outputId": "104919de-2b12-448c-a686-12815a93479a"
      },
      "execution_count": null,
      "outputs": [
        {
          "output_type": "stream",
          "name": "stdout",
          "text": [
            "<class 'str'>\n",
            "{\n",
            "    \"fname\": \"Fayyaz\",\n",
            "    \"name\": \"Kanwal\",\n",
            "    \"education\": \"BSE\"\n",
            "}\n"
          ]
        }
      ]
    },
    {
      "cell_type": "code",
      "source": [],
      "metadata": {
        "id": "Cb3UO0pn5N4N"
      },
      "execution_count": null,
      "outputs": []
    }
  ]
}