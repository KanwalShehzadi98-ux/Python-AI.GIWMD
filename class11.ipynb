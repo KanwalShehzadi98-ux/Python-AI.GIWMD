{
 "cells": [
  {
   "cell_type": "markdown",
   "metadata": {},
   "source": [
    "List Dictionary Set = Mutable = Pass by Reference\n",
    "Integer Float String Tuple = Immutable = Pass by Value"
   ]
  },
  {
   "cell_type": "code",
   "execution_count": 2,
   "metadata": {},
   "outputs": [
    {
     "name": "stdout",
     "output_type": "stream",
     "text": [
      "[1, 2, 3, 4]\n",
      "[1, 2, 3, 4]\n",
      "[1, 2, 3, 4, 5]\n",
      "[1, 2, 3, 4, 5]\n"
     ]
    }
   ],
   "source": [
    "list_a : list[int] = [1,2,3]\n",
    "list_b = list_a\n",
    "list_a.append(4)\n",
    "print(list_a)\n",
    "print(list_b) \n",
    "list_b.append(5)\n",
    "print(list_a)\n",
    "print(list_b) "
   ]
  },
  {
   "cell_type": "code",
   "execution_count": 6,
   "metadata": {},
   "outputs": [
    {
     "name": "stdout",
     "output_type": "stream",
     "text": [
      "n = 6\n",
      "num = 5\n"
     ]
    }
   ],
   "source": [
    "num : int = 5 #int = immutable = pass by value\n",
    "def myFunc(n : int) -> None:\n",
    "    n = 6\n",
    "    print(f\"n = {n}\")\n",
    "\n",
    "myFunc(num)\n",
    "print(f\"num = {num}\")"
   ]
  },
  {
   "cell_type": "code",
   "execution_count": 7,
   "metadata": {},
   "outputs": [
    {
     "name": "stdout",
     "output_type": "stream",
     "text": [
      "n = [1, 2, 3, 4, 5, 6]\n",
      "num = [1, 2, 3, 4, 5, 6]\n"
     ]
    }
   ],
   "source": [
    "num : list[int] = [1,2,3,4,5]  #int = mutable = pass by reference\n",
    "def myFunc(n : list[int]) -> None:\n",
    "    n.append(6)\n",
    "    print(f\"n = {n}\")\n",
    "\n",
    "myFunc(num)\n",
    "print(f\"num = {num}\")"
   ]
  },
  {
   "cell_type": "code",
   "execution_count": 8,
   "metadata": {},
   "outputs": [
    {
     "name": "stdout",
     "output_type": "stream",
     "text": [
      "n = [400, 500, 600, 700, 800, 900]\n",
      "num = [1, 2, 3, 4, 5]\n"
     ]
    }
   ],
   "source": [
    "num : list[int] = [1,2,3,4,5]  #int = mutable = pass by reference\n",
    "def myFunc(n : list[int]) -> None:\n",
    "    n = [400,500,600,700,800]\n",
    "    n.append(900)\n",
    "    print(f\"n = {n}\")\n",
    "\n",
    "myFunc(num)\n",
    "print(f\"num = {num}\")"
   ]
  },
  {
   "cell_type": "markdown",
   "metadata": {},
   "source": [
    "* In both cases, you're working with pass by reference because lists are mutable, allowing changes made inside the function to affect the original list. However, the difference in behavior arises from how you manipulate the list inside the function – by reassigning it or by modifying it directly.\n",
    "* In reassigning it works like pass by value \n",
    "* For Modifying its pass by reference"
   ]
  },
  {
   "cell_type": "code",
   "execution_count": 9,
   "metadata": {},
   "outputs": [
    {
     "name": "stdout",
     "output_type": "stream",
     "text": [
      "number before= 6\n",
      "in function value updated to 12\n",
      "after function num value= 6\n",
      "list before ['E']\n",
      "in function list updated to ['E', 'D']\n",
      "after function list is  ['E', 'D']\n"
     ]
    }
   ],
   "source": [
    "def call_by_value(x):\n",
    "\tx = x * 2\n",
    "\tprint(\"in function value updated to\", x)\n",
    "\treturn\n",
    "\n",
    "def call_by_reference(list):\n",
    "\tlist.append(\"D\")\n",
    "\tprint(\"in function list updated to\", list)\n",
    "\treturn\n",
    "\n",
    "my_list = [\"E\"]\n",
    "num = 6\n",
    "print(\"number before=\", num)\n",
    "call_by_value(num)\n",
    "print(\"after function num value=\", num)\n",
    "print(\"list before\",my_list)\n",
    "call_by_reference(my_list)\n",
    "print(\"after function list is \",my_list)\n"
   ]
  },
  {
   "cell_type": "code",
   "execution_count": 10,
   "metadata": {},
   "outputs": [
    {
     "name": "stdout",
     "output_type": "stream",
     "text": [
      "Inside function: ['Geeks', 'for', 'Geeks']\n",
      "Outside function: ['Geeks', 'for', 'Geeks']\n"
     ]
    }
   ],
   "source": [
    "def modify_list(x):\n",
    "\tx.append(\"Geeks\")\n",
    "\tprint(\"Inside function:\", x)\n",
    "\n",
    "my_list = ['Geeks', 'for']\n",
    "modify_list(my_list)\n",
    "print(\"Outside function:\", my_list)\n"
   ]
  },
  {
   "cell_type": "code",
   "execution_count": 11,
   "metadata": {},
   "outputs": [
    {
     "name": "stdout",
     "output_type": "stream",
     "text": [
      "Before function call: 5\n",
      "Inside function: 15\n",
      "After function call: 5\n"
     ]
    }
   ],
   "source": [
    "def modify_integer(x):\n",
    "\tx = x + 10\n",
    "\tprint(\"Inside function:\", x)\n",
    "\n",
    "x = 5\n",
    "print(\"Before function call:\", x)\n",
    "modify_integer(x)\n",
    "print(\"After function call:\", x) \n"
   ]
  },
  {
   "cell_type": "markdown",
   "metadata": {},
   "source": [
    "# EXCEPTION HANDLING IN PYTHON"
   ]
  },
  {
   "cell_type": "markdown",
   "metadata": {},
   "source": [
    "```\n",
    "try:\n",
    "    logic\n",
    "except (Error_class1.Error_class2):\n",
    "    if error occured then run this block\n",
    "else:\n",
    "    if error not occured\n",
    "finally:\n",
    "    always run\n",
    "```"
   ]
  },
  {
   "cell_type": "code",
   "execution_count": 14,
   "metadata": {},
   "outputs": [
    {
     "name": "stdout",
     "output_type": "stream",
     "text": [
      "0.7\n",
      "You did wonders.Wow!no errors\n",
      "Good Bye!Have a nice one\n"
     ]
    }
   ],
   "source": [
    "try:\n",
    "    print(7/10)\n",
    "except(ZeroDivisionError):\n",
    "    print(\"There is error\")\n",
    "else:\n",
    "    print(\"You did wonders.Wow!no errors\")\n",
    "finally:\n",
    "    print(\"Good Bye!Have a nice one\")"
   ]
  },
  {
   "cell_type": "code",
   "execution_count": 15,
   "metadata": {},
   "outputs": [
    {
     "name": "stdout",
     "output_type": "stream",
     "text": [
      "There is error\n",
      "Good Bye!Have a nice one\n"
     ]
    }
   ],
   "source": [
    "try:\n",
    "    print(7/0)\n",
    "except(ZeroDivisionError):\n",
    "    print(\"There is error\")\n",
    "else:\n",
    "    print(\"You did wonders.Wow!no errors\")\n",
    "finally:\n",
    "    print(\"Good Bye!Have a nice one\")"
   ]
  },
  {
   "cell_type": "code",
   "execution_count": 17,
   "metadata": {},
   "outputs": [
    {
     "name": "stdout",
     "output_type": "stream",
     "text": [
      "There is error\n",
      "Good Bye!Have a nice one\n"
     ]
    }
   ],
   "source": [
    "myList : list[int] = [1,2,3,4,5]\n",
    "try:\n",
    "    print(7/0)\n",
    "    print(my_list[0])\n",
    "except(ZeroDivisionError,IndexError):\n",
    "    print(\"There is error\")\n",
    "else:\n",
    "    print(\"You did wonders.Wow!no errors\")\n",
    "finally:\n",
    "    print(\"Good Bye!Have a nice one\")"
   ]
  },
  {
   "cell_type": "code",
   "execution_count": 19,
   "metadata": {},
   "outputs": [
    {
     "name": "stdout",
     "output_type": "stream",
     "text": [
      "0.7\n",
      "There is error\n",
      "Good Bye!Have a nice one\n"
     ]
    }
   ],
   "source": [
    "myList : list[int] = []\n",
    "try:\n",
    "    print(7/10)\n",
    "    print(myList[0])\n",
    "except(ZeroDivisionError,IndexError):\n",
    "    print(\"There is error\")\n",
    "else:\n",
    "    print(\"You did wonders.Wow!no errors\")\n",
    "finally:\n",
    "    print(\"Good Bye!Have a nice one\")"
   ]
  },
  {
   "cell_type": "code",
   "execution_count": 22,
   "metadata": {},
   "outputs": [
    {
     "name": "stdout",
     "output_type": "stream",
     "text": [
      "division by zero\n",
      "Good Bye!Have a nice one\n"
     ]
    }
   ],
   "source": [
    "myList : list[int] = []\n",
    "try:\n",
    "    print(7/0)\n",
    "    print(myList[0])\n",
    "except Exception as e:\n",
    "    print(e)\n",
    "else:\n",
    "    print(\"You did wonders.Wow!no errors\")\n",
    "finally:\n",
    "    print(\"Good Bye!Have a nice one\")"
   ]
  },
  {
   "cell_type": "code",
   "execution_count": 2,
   "metadata": {},
   "outputs": [
    {
     "name": "stdout",
     "output_type": "stream",
     "text": [
      "Something went wrong!\n",
      "Good Bye!Have a nice one\n"
     ]
    }
   ],
   "source": [
    "myList : list[int] = []\n",
    "try:\n",
    "    print(7/0)\n",
    "    print(myList[0])\n",
    "    print(x)\n",
    "except ZeroDivisionError:\n",
    "    print(\"Divided by zero\")\n",
    "except IndexError:\n",
    "    print(\"Index Not Found\")\n",
    "except NameError:\n",
    "    print(\"Name Not Defined\")\n",
    "except:\n",
    "    print(\"Something went wrong!\")\n",
    "else:\n",
    "    print(\"You did wonders.Wow!no errors\")\n",
    "finally:\n",
    "    print(\"Good Bye!Have a nice one\")"
   ]
  },
  {
   "cell_type": "code",
   "execution_count": 3,
   "metadata": {},
   "outputs": [
    {
     "name": "stdout",
     "output_type": "stream",
     "text": [
      "Something went wrong!\n",
      "Good Bye!Have a nice one\n"
     ]
    }
   ],
   "source": [
    "myList : list[int] = []\n",
    "try:\n",
    "    print(7/0)\n",
    "    print(myList[0])\n",
    "    print(x)\n",
    "except IndexError:\n",
    "    print(\"Index Not Found\")\n",
    "except NameError:\n",
    "    print(\"Name Not Defined\")\n",
    "except:\n",
    "    print(\"Something went wrong!\")\n",
    "else:\n",
    "    print(\"You did wonders.Wow!no errors\")\n",
    "finally:\n",
    "    print(\"Good Bye!Have a nice one\")"
   ]
  },
  {
   "cell_type": "code",
   "execution_count": 5,
   "metadata": {},
   "outputs": [
    {
     "ename": "Exception",
     "evalue": "Helo",
     "output_type": "error",
     "traceback": [
      "\u001b[1;31m---------------------------------------------------------------------------\u001b[0m",
      "\u001b[1;31mException\u001b[0m                                 Traceback (most recent call last)",
      "Cell \u001b[1;32mIn[5], line 1\u001b[0m\n\u001b[1;32m----> 1\u001b[0m \u001b[38;5;28;01mraise\u001b[39;00m \u001b[38;5;167;01mException\u001b[39;00m (\u001b[38;5;124m\"\u001b[39m\u001b[38;5;124mHelo\u001b[39m\u001b[38;5;124m\"\u001b[39m)\n",
      "\u001b[1;31mException\u001b[0m: Helo"
     ]
    }
   ],
   "source": [
    "raise Exception (\"Helo\")"
   ]
  },
  {
   "cell_type": "code",
   "execution_count": 12,
   "metadata": {},
   "outputs": [
    {
     "ename": "Exception",
     "evalue": "You are not eligible",
     "output_type": "error",
     "traceback": [
      "\u001b[1;31m---------------------------------------------------------------------------\u001b[0m",
      "\u001b[1;31mException\u001b[0m                                 Traceback (most recent call last)",
      "Cell \u001b[1;32mIn[12], line 8\u001b[0m\n\u001b[0;32m      6\u001b[0m         \u001b[38;5;28mself\u001b[39m\u001b[38;5;241m.\u001b[39mname \u001b[38;5;241m=\u001b[39m name\n\u001b[0;32m      7\u001b[0m         \u001b[38;5;28mself\u001b[39m\u001b[38;5;241m.\u001b[39mage \u001b[38;5;241m=\u001b[39m age\n\u001b[1;32m----> 8\u001b[0m student1 \u001b[38;5;241m=\u001b[39m \u001b[43mStudentCard\u001b[49m\u001b[43m(\u001b[49m\u001b[38;5;241;43m1\u001b[39;49m\u001b[43m,\u001b[49m\u001b[38;5;124;43m\"\u001b[39;49m\u001b[38;5;124;43mKanwal\u001b[39;49m\u001b[38;5;124;43m\"\u001b[39;49m\u001b[43m,\u001b[49m\u001b[38;5;241;43m61\u001b[39;49m\u001b[43m)\u001b[49m\n\u001b[0;32m      9\u001b[0m \u001b[38;5;28mprint\u001b[39m(student1\u001b[38;5;241m.\u001b[39mage)\n",
      "Cell \u001b[1;32mIn[12], line 4\u001b[0m, in \u001b[0;36mStudentCard.__init__\u001b[1;34m(self, roll_no, name, age)\u001b[0m\n\u001b[0;32m      2\u001b[0m \u001b[38;5;28;01mdef\u001b[39;00m \u001b[38;5;21m__init__\u001b[39m(\u001b[38;5;28mself\u001b[39m,roll_no : \u001b[38;5;28mint\u001b[39m,name : \u001b[38;5;28mstr\u001b[39m,age : \u001b[38;5;28mint\u001b[39m) \u001b[38;5;241m-\u001b[39m\u001b[38;5;241m>\u001b[39m \u001b[38;5;28;01mNone\u001b[39;00m:\n\u001b[0;32m      3\u001b[0m     \u001b[38;5;28;01mif\u001b[39;00m age \u001b[38;5;241m<\u001b[39m \u001b[38;5;241m18\u001b[39m \u001b[38;5;129;01mor\u001b[39;00m age \u001b[38;5;241m>\u001b[39m \u001b[38;5;241m60\u001b[39m:\n\u001b[1;32m----> 4\u001b[0m         \u001b[38;5;28;01mraise\u001b[39;00m \u001b[38;5;167;01mException\u001b[39;00m(\u001b[38;5;124m\"\u001b[39m\u001b[38;5;124mYou are not eligible\u001b[39m\u001b[38;5;124m\"\u001b[39m)\n\u001b[0;32m      5\u001b[0m     \u001b[38;5;28mself\u001b[39m\u001b[38;5;241m.\u001b[39mroll_no \u001b[38;5;241m=\u001b[39m roll_no\n\u001b[0;32m      6\u001b[0m     \u001b[38;5;28mself\u001b[39m\u001b[38;5;241m.\u001b[39mname \u001b[38;5;241m=\u001b[39m name\n",
      "\u001b[1;31mException\u001b[0m: You are not eligible"
     ]
    }
   ],
   "source": [
    "class StudentCard:\n",
    "    def __init__(self,roll_no : int,name : str,age : int) -> None:\n",
    "        if age < 18 or age > 60:\n",
    "            raise Exception(\"You are not eligible\")\n",
    "        self.roll_no = roll_no\n",
    "        self.name = name\n",
    "        self.age = age\n",
    "student1 = StudentCard(1,\"Kanwal\",61)\n",
    "print(student1.age)\n",
    "        "
   ]
  },
  {
   "cell_type": "code",
   "execution_count": 11,
   "metadata": {},
   "outputs": [
    {
     "ename": "StudentAgeError",
     "evalue": "You are not eligible",
     "output_type": "error",
     "traceback": [
      "\u001b[1;31m---------------------------------------------------------------------------\u001b[0m",
      "\u001b[1;31mStudentAgeError\u001b[0m                           Traceback (most recent call last)",
      "Cell \u001b[1;32mIn[11], line 12\u001b[0m\n\u001b[0;32m      9\u001b[0m \u001b[38;5;28;01mclass\u001b[39;00m \u001b[38;5;21;01mStudentAgeError\u001b[39;00m(\u001b[38;5;167;01mException\u001b[39;00m):\n\u001b[0;32m     10\u001b[0m     \u001b[38;5;28;01mpass\u001b[39;00m\n\u001b[1;32m---> 12\u001b[0m student1 \u001b[38;5;241m=\u001b[39m \u001b[43mStudentCard\u001b[49m\u001b[43m(\u001b[49m\u001b[38;5;241;43m1\u001b[39;49m\u001b[43m,\u001b[49m\u001b[38;5;124;43m\"\u001b[39;49m\u001b[38;5;124;43mKanwal\u001b[39;49m\u001b[38;5;124;43m\"\u001b[39;49m\u001b[43m,\u001b[49m\u001b[38;5;241;43m61\u001b[39;49m\u001b[43m)\u001b[49m\n\u001b[0;32m     13\u001b[0m \u001b[38;5;28mprint\u001b[39m(student1\u001b[38;5;241m.\u001b[39mage)\n",
      "Cell \u001b[1;32mIn[11], line 4\u001b[0m, in \u001b[0;36mStudentCard.__init__\u001b[1;34m(self, roll_no, name, age)\u001b[0m\n\u001b[0;32m      2\u001b[0m \u001b[38;5;28;01mdef\u001b[39;00m \u001b[38;5;21m__init__\u001b[39m(\u001b[38;5;28mself\u001b[39m,roll_no : \u001b[38;5;28mint\u001b[39m,name : \u001b[38;5;28mstr\u001b[39m,age : \u001b[38;5;28mint\u001b[39m) \u001b[38;5;241m-\u001b[39m\u001b[38;5;241m>\u001b[39m \u001b[38;5;28;01mNone\u001b[39;00m:\n\u001b[0;32m      3\u001b[0m     \u001b[38;5;28;01mif\u001b[39;00m age \u001b[38;5;241m<\u001b[39m \u001b[38;5;241m18\u001b[39m \u001b[38;5;129;01mor\u001b[39;00m age \u001b[38;5;241m>\u001b[39m \u001b[38;5;241m60\u001b[39m:\n\u001b[1;32m----> 4\u001b[0m         \u001b[38;5;28;01mraise\u001b[39;00m StudentAgeError(\u001b[38;5;124m\"\u001b[39m\u001b[38;5;124mYou are not eligible\u001b[39m\u001b[38;5;124m\"\u001b[39m)\n\u001b[0;32m      5\u001b[0m     \u001b[38;5;28mself\u001b[39m\u001b[38;5;241m.\u001b[39mroll_no \u001b[38;5;241m=\u001b[39m roll_no\n\u001b[0;32m      6\u001b[0m     \u001b[38;5;28mself\u001b[39m\u001b[38;5;241m.\u001b[39mname \u001b[38;5;241m=\u001b[39m name\n",
      "\u001b[1;31mStudentAgeError\u001b[0m: You are not eligible"
     ]
    }
   ],
   "source": [
    "class StudentCard:\n",
    "    def __init__(self,roll_no : int,name : str,age : int) -> None:\n",
    "        if age < 18 or age > 60:\n",
    "            raise StudentAgeError(\"You are not eligible\")\n",
    "        self.roll_no = roll_no\n",
    "        self.name = name\n",
    "        self.age = age\n",
    "\n",
    "class StudentAgeError(Exception):\n",
    "    pass\n",
    "\n",
    "student1 = StudentCard(1,\"Kanwal\",61)\n",
    "print(student1.age)\n",
    "        "
   ]
  },
  {
   "cell_type": "code",
   "execution_count": null,
   "metadata": {},
   "outputs": [],
   "source": []
  }
 ],
 "metadata": {
  "kernelspec": {
   "display_name": "python12",
   "language": "python",
   "name": "python3"
  },
  "language_info": {
   "codemirror_mode": {
    "name": "ipython",
    "version": 3
   },
   "file_extension": ".py",
   "mimetype": "text/x-python",
   "name": "python",
   "nbconvert_exporter": "python",
   "pygments_lexer": "ipython3",
   "version": "3.12.0"
  }
 },
 "nbformat": 4,
 "nbformat_minor": 2
}
