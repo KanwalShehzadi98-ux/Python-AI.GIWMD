{
 "cells": [
  {
   "cell_type": "markdown",
   "metadata": {},
   "source": [
    "List Dictionary Set = Mutable = Pass by Reference\n",
    "Integer Float String Tuple = Immutable = Pass by Value"
   ]
  },
  {
   "cell_type": "code",
   "execution_count": 2,
   "metadata": {},
   "outputs": [
    {
     "name": "stdout",
     "output_type": "stream",
     "text": [
      "[1, 2, 3, 4]\n",
      "[1, 2, 3, 4]\n",
      "[1, 2, 3, 4, 5]\n",
      "[1, 2, 3, 4, 5]\n"
     ]
    }
   ],
   "source": [
    "list_a : list[int] = [1,2,3]\n",
    "list_b = list_a\n",
    "list_a.append(4)\n",
    "print(list_a)\n",
    "print(list_b) \n",
    "list_b.append(5)\n",
    "print(list_a)\n",
    "print(list_b) "
   ]
  },
  {
   "cell_type": "code",
   "execution_count": 6,
   "metadata": {},
   "outputs": [
    {
     "name": "stdout",
     "output_type": "stream",
     "text": [
      "n = 6\n",
      "num = 5\n"
     ]
    }
   ],
   "source": [
    "num : int = 5 #int = immutable = pass by value\n",
    "def myFunc(n : int) -> None:\n",
    "    n = 6\n",
    "    print(f\"n = {n}\")\n",
    "\n",
    "myFunc(num)\n",
    "print(f\"num = {num}\")"
   ]
  },
  {
   "cell_type": "code",
   "execution_count": 7,
   "metadata": {},
   "outputs": [
    {
     "name": "stdout",
     "output_type": "stream",
     "text": [
      "n = [1, 2, 3, 4, 5, 6]\n",
      "num = [1, 2, 3, 4, 5, 6]\n"
     ]
    }
   ],
   "source": [
    "num : list[int] = [1,2,3,4,5]  #int = mutable = pass by reference\n",
    "def myFunc(n : list[int]) -> None:\n",
    "    n.append(6)\n",
    "    print(f\"n = {n}\")\n",
    "\n",
    "myFunc(num)\n",
    "print(f\"num = {num}\")"
   ]
  },
  {
   "cell_type": "code",
   "execution_count": null,
   "metadata": {},
   "outputs": [],
   "source": []
  }
 ],
 "metadata": {
  "kernelspec": {
   "display_name": "python12",
   "language": "python",
   "name": "python3"
  },
  "language_info": {
   "codemirror_mode": {
    "name": "ipython",
    "version": 3
   },
   "file_extension": ".py",
   "mimetype": "text/x-python",
   "name": "python",
   "nbconvert_exporter": "python",
   "pygments_lexer": "ipython3",
   "version": "3.12.0"
  }
 },
 "nbformat": 4,
 "nbformat_minor": 2
}
