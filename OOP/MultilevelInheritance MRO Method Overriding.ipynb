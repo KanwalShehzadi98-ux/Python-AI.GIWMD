{
 "cells": [
  {
   "cell_type": "markdown",
   "metadata": {},
   "source": [
    "# Can we derive more than one class from a single derived class?"
   ]
  },
  {
   "cell_type": "markdown",
   "metadata": {},
   "source": [
    "YES SURE THING"
   ]
  },
  {
   "cell_type": "code",
   "execution_count": 1,
   "metadata": {},
   "outputs": [
    {
     "name": "stdout",
     "output_type": "stream",
     "text": [
      "nokia ABC\n",
      "techno 8C\n",
      "apple 15pro\n"
     ]
    }
   ],
   "source": [
    "class Phone:\n",
    "    def __init__(self,brand,model_name,price):\n",
    "        self.brand = brand\n",
    "        self.model_name = model_name \n",
    "        self._price = price \n",
    "        self.complete_specification = f\"{self.brand} {self.model_name} and price {self._price}\"\n",
    "\n",
    "    def make_a_call(self,phone_number):\n",
    "        print(f\"Calling {phone_number} ...\")\n",
    "\n",
    "    def full_name(self):\n",
    "        return f\"{self.brand} {self.model_name}\"\n",
    "\n",
    "class Smartphone1(Phone):\n",
    "    def __init__(self,brand,model_name,price,ram,internal_memory,camera):\n",
    "        super(). __init__(brand,model_name,price)\n",
    "        self.ram = ram\n",
    "        self.internal_memory = internal_memory\n",
    "        self._price = max(price,0)\n",
    "\n",
    "class Smartphone2(Phone):\n",
    "    def __init__(self,brand,model_name,price,ram,internal_memory,camera):\n",
    "        super(). __init__(brand,model_name,price)\n",
    "        self.ram = ram\n",
    "        self.internal_memory = internal_memory\n",
    "        self._price = max(price,0)\n",
    "\n",
    "phone = Phone('nokia','ABC',1000)\n",
    "smartphone1 = Smartphone1('techno','8C',10000,3,64,\"21Pixel\")\n",
    "smartphone2 = Smartphone2('apple','15pro',10000,3,64,\"21Pixel\")\n",
    "\n",
    "print(phone.full_name())\n",
    "print(smartphone1.full_name())\n",
    "print(smartphone2.full_name())"
   ]
  },
  {
   "cell_type": "markdown",
   "metadata": {},
   "source": [
    "# MULTILEVEL INHERITANCE"
   ]
  },
  {
   "cell_type": "code",
   "execution_count": 5,
   "metadata": {},
   "outputs": [
    {
     "name": "stdout",
     "output_type": "stream",
     "text": [
      "nokia ABC\n",
      "techno 8C\n",
      "apple 15proFront camera = 12pixel Back Camera = 21Pixel\n"
     ]
    }
   ],
   "source": [
    "class Phone:\n",
    "    def __init__(self,brand,model_name,price):\n",
    "        self.brand = brand\n",
    "        self.model_name = model_name \n",
    "        self._price = price \n",
    "        self.complete_specification = f\"{self.brand} {self.model_name} and price {self._price}\"\n",
    "\n",
    "    def make_a_call(self,phone_number):\n",
    "        print(f\"Calling {phone_number} ...\")\n",
    "\n",
    "    def full_name(self):\n",
    "        return f\"{self.brand} {self.model_name}\"\n",
    "\n",
    "class Smartphone(Phone):\n",
    "    def __init__(self,brand,model_name,price,ram,internal_memory,rear_camera):\n",
    "        super(). __init__(brand,model_name,price)\n",
    "        self.ram = ram\n",
    "        self.internal_memory = internal_memory\n",
    "        self.rear_camera = rear_camera \n",
    "\n",
    "class FlagShipPhone(Smartphone):\n",
    "    def __init__(self,brand,model_name,price,ram,internal_memory,rear_camera,front_camera):\n",
    "        super(). __init__(brand,model_name,price,ram,internal_memory,rear_camera)\n",
    "        self.front_camera = front_camera\n",
    "    \n",
    "\n",
    "phone = Phone('nokia','ABC',1000)\n",
    "smartphone1 = Smartphone('techno','8C',10000,3,64,\"21Pixel\")\n",
    "smartphone2 = FlagShipPhone('apple','15pro',10000,3,64,\"21Pixel\",\"12pixel\")\n",
    "\n",
    "print(phone.full_name())\n",
    "print(smartphone1.full_name())\n",
    "print(smartphone2.full_name() + f\"Front camera = {smartphone2.front_camera} Back Camera = {smartphone2.rear_camera}\")"
   ]
  },
  {
   "cell_type": "markdown",
   "metadata": {},
   "source": [
    "# MRO =  METHOD RESOLUTION ORDER"
   ]
  },
  {
   "cell_type": "markdown",
   "metadata": {},
   "source": [
    "```\n",
    "* This is an order in which the python searches our method \n",
    "* Written as help(className)\n",
    "```"
   ]
  },
  {
   "cell_type": "code",
   "execution_count": 9,
   "metadata": {},
   "outputs": [
    {
     "name": "stdout",
     "output_type": "stream",
     "text": [
      "Help on class FlagShipPhone in module __main__:\n",
      "\n",
      "class FlagShipPhone(Smartphone)\n",
      " |  FlagShipPhone(brand, model_name, price, ram, internal_memory, rear_camera, front_camera)\n",
      " |\n",
      " |  Method resolution order:\n",
      " |      FlagShipPhone\n",
      " |      Smartphone\n",
      " |      Phone\n",
      " |      builtins.object\n",
      " |\n",
      " |  Methods defined here:\n",
      " |\n",
      " |  __init__(self, brand, model_name, price, ram, internal_memory, rear_camera, front_camera)\n",
      " |      Initialize self.  See help(type(self)) for accurate signature.\n",
      " |\n",
      " |  ----------------------------------------------------------------------\n",
      " |  Methods inherited from Phone:\n",
      " |\n",
      " |  full_name(self)\n",
      " |\n",
      " |  make_a_call(self, phone_number)\n",
      " |\n",
      " |  ----------------------------------------------------------------------\n",
      " |  Data descriptors inherited from Phone:\n",
      " |\n",
      " |  __dict__\n",
      " |      dictionary for instance variables (if defined)\n",
      " |\n",
      " |  __weakref__\n",
      " |      list of weak references to the object (if defined)\n",
      "\n",
      "None\n"
     ]
    }
   ],
   "source": [
    "class Phone:\n",
    "    def __init__(self,brand,model_name,price):\n",
    "        self.brand = brand\n",
    "        self.model_name = model_name \n",
    "        self._price = price \n",
    "        self.complete_specification = f\"{self.brand} {self.model_name} and price {self._price}\"\n",
    "\n",
    "    def make_a_call(self,phone_number):\n",
    "        print(f\"Calling {phone_number} ...\")\n",
    "\n",
    "    def full_name(self):\n",
    "        return f\"{self.brand} {self.model_name}\"\n",
    "\n",
    "class Smartphone(Phone):\n",
    "    def __init__(self,brand,model_name,price,ram,internal_memory,rear_camera):\n",
    "        super(). __init__(brand,model_name,price)\n",
    "        self.ram = ram\n",
    "        self.internal_memory = internal_memory\n",
    "        self.rear_camera = rear_camera \n",
    "\n",
    "class FlagShipPhone(Smartphone):\n",
    "    def __init__(self,brand,model_name,price,ram,internal_memory,rear_camera,front_camera):\n",
    "        super(). __init__(brand,model_name,price,ram,internal_memory,rear_camera)\n",
    "        self.front_camera = front_camera\n",
    "    \n",
    "# print(help(Phone))\n",
    "# print(help(Smartphone))\n",
    "print(help(FlagShipPhone))\n"
   ]
  },
  {
   "cell_type": "markdown",
   "metadata": {},
   "source": [
    "# METHOD OVERRIDING"
   ]
  },
  {
   "cell_type": "code",
   "execution_count": 2,
   "metadata": {},
   "outputs": [
    {
     "name": "stdout",
     "output_type": "stream",
     "text": [
      "techno 8C 64 techno -----\n"
     ]
    }
   ],
   "source": [
    "class Phone:\n",
    "    def __init__(self,brand,model_name,price):\n",
    "        self.brand = brand\n",
    "        self.model_name = model_name \n",
    "        self._price = price \n",
    "        self.complete_specification = f\"{self.brand} {self.model_name} and price {self._price}\"\n",
    "\n",
    "    def make_a_call(self,phone_number):\n",
    "        print(f\"Calling {phone_number} ...\")\n",
    "\n",
    "    def full_name(self):\n",
    "        return f\"{self.brand} {self.model_name}\"\n",
    "\n",
    "class Smartphone(Phone):\n",
    "    def __init__(self,brand,model_name,price,ram,internal_memory,rear_camera):\n",
    "        super(). __init__(brand,model_name,price)\n",
    "        self.ram = ram\n",
    "        self.internal_memory = internal_memory\n",
    "        self.rear_camera = rear_camera \n",
    "\n",
    "    def full_name(self):\n",
    "        return f\"{self.brand} {self.model_name} {self.internal_memory} {self.brand} -----\"\n",
    "\n",
    "class FlagShipPhone(Smartphone):\n",
    "    def __init__(self,brand,model_name,price,ram,internal_memory,rear_camera,front_camera):\n",
    "        super(). __init__(brand,model_name,price,ram,internal_memory,rear_camera)\n",
    "        self.front_camera = front_camera\n",
    "\n",
    "smartphone1 = Smartphone('techno','8C',10000,3,64,\"21Pixel\")\n",
    "print(smartphone1.full_name())"
   ]
  },
  {
   "cell_type": "code",
   "execution_count": 4,
   "metadata": {},
   "outputs": [
    {
     "name": "stdout",
     "output_type": "stream",
     "text": [
      "techno 8C 64 techno -----\n"
     ]
    }
   ],
   "source": [
    "class Phone:\n",
    "    def __init__(self,brand,model_name,price):\n",
    "        self.brand = brand\n",
    "        self.model_name = model_name \n",
    "        self._price = price \n",
    "        self.complete_specification = f\"{self.brand} {self.model_name} and price {self._price}\"\n",
    "\n",
    "    def make_a_call(self,phone_number):\n",
    "        print(f\"Calling {phone_number} ...\")\n",
    "\n",
    "    def full_name(self):\n",
    "        return f\"{self.brand} {self.model_name}\"\n",
    "\n",
    "class Smartphone(Phone):\n",
    "    def __init__(self,brand,model_name,price,ram,internal_memory,rear_camera):\n",
    "        super(). __init__(brand,model_name,price)\n",
    "        self.ram = ram\n",
    "        self.internal_memory = internal_memory\n",
    "        self.rear_camera = rear_camera \n",
    "\n",
    "    def full_name(self):\n",
    "        return f\"{self.brand} {self.model_name} {self.internal_memory} {self.brand} -----\"\n",
    "\n",
    "class FlagShipPhone(Smartphone):\n",
    "    def __init__(self,brand,model_name,price,ram,internal_memory,rear_camera,front_camera):\n",
    "        super(). __init__(brand,model_name,price,ram,internal_memory,rear_camera)\n",
    "        self.front_camera = front_camera\n",
    "\n",
    "smartphone1 = FlagShipPhone('techno','8C',10000,3,64,\"21Pixel\",\"pe23XC\")\n",
    "print(smartphone1.full_name()) # MRO ne pehle Flagship m fullname() ka method dhondha use wahan nhi mila \n",
    "# tw uske parent yani smartphone main dekha wahan ise mil gia"
   ]
  },
  {
   "cell_type": "markdown",
   "metadata": {},
   "source": [
    "# isinstance vs issubclass"
   ]
  },
  {
   "cell_type": "markdown",
   "metadata": {},
   "source": [
    "# isinstance"
   ]
  },
  {
   "cell_type": "code",
   "execution_count": 12,
   "metadata": {},
   "outputs": [
    {
     "name": "stdout",
     "output_type": "stream",
     "text": [
      "True\n",
      "True\n",
      "True\n",
      "-----------------------------------\n",
      "True\n",
      "True\n",
      "False\n",
      "-----------------------------------\n",
      "False\n",
      "True\n",
      "False\n"
     ]
    }
   ],
   "source": [
    "class Phone:\n",
    "    def __init__(self,brand,model_name,price):\n",
    "        self.brand = brand\n",
    "        self.model_name = model_name \n",
    "        self._price = price \n",
    "        self.complete_specification = f\"{self.brand} {self.model_name} and price {self._price}\"\n",
    "\n",
    "    def make_a_call(self,phone_number):\n",
    "        print(f\"Calling {phone_number} ...\")\n",
    "\n",
    "    def full_name(self):\n",
    "        return f\"{self.brand} {self.model_name}\"\n",
    "\n",
    "class Smartphone(Phone):\n",
    "    def __init__(self,brand,model_name,price,ram,internal_memory,rear_camera):\n",
    "        super(). __init__(brand,model_name,price)\n",
    "        self.ram = ram\n",
    "        self.internal_memory = internal_memory\n",
    "        self.rear_camera = rear_camera \n",
    "\n",
    "    def full_name(self):\n",
    "        return f\"{self.brand} {self.model_name} {self.internal_memory} {self.brand} -----\"\n",
    "\n",
    "class FlagShipPhone(Smartphone):\n",
    "    def __init__(self,brand,model_name,price,ram,internal_memory,rear_camera,front_camera):\n",
    "        super(). __init__(brand,model_name,price,ram,internal_memory,rear_camera)\n",
    "        self.front_camera = front_camera\n",
    "\n",
    "smartphone1 = FlagShipPhone('techno','8C',10000,3,64,\"21Pixel\",\"pe23XC\")\n",
    "smartphone2 = Smartphone('techno','8C',10000,3,64,\"21Pixel\")\n",
    "smartphone3 = Phone('techno','8C',10000)\n",
    "\n",
    "print(isinstance(smartphone1,Smartphone))\n",
    "print(isinstance(smartphone1,Phone))\n",
    "print(isinstance(smartphone1,FlagShipPhone))\n",
    "print(\"-----------------------------------\")\n",
    "print(isinstance(smartphone2,Smartphone))\n",
    "print(isinstance(smartphone2,Phone))\n",
    "print(isinstance(smartphone2,FlagShipPhone))\n",
    "print(\"-----------------------------------\")\n",
    "print(isinstance(smartphone3,Smartphone))\n",
    "print(isinstance(smartphone3,Phone))\n",
    "print(isinstance(smartphone3,FlagShipPhone))"
   ]
  },
  {
   "cell_type": "markdown",
   "metadata": {},
   "source": [
    "# issubclass"
   ]
  },
  {
   "cell_type": "code",
   "execution_count": 14,
   "metadata": {},
   "outputs": [
    {
     "name": "stdout",
     "output_type": "stream",
     "text": [
      "True\n",
      "-----------------------------------\n",
      "False\n",
      "-----------------------------------\n",
      "True\n",
      "-----------------------------------\n",
      "True\n"
     ]
    }
   ],
   "source": [
    "class Phone:\n",
    "    def __init__(self,brand,model_name,price):\n",
    "        self.brand = brand\n",
    "        self.model_name = model_name \n",
    "        self._price = price \n",
    "        self.complete_specification = f\"{self.brand} {self.model_name} and price {self._price}\"\n",
    "\n",
    "    def make_a_call(self,phone_number):\n",
    "        print(f\"Calling {phone_number} ...\")\n",
    "\n",
    "    def full_name(self):\n",
    "        return f\"{self.brand} {self.model_name}\"\n",
    "\n",
    "class Smartphone(Phone):\n",
    "    def __init__(self,brand,model_name,price,ram,internal_memory,rear_camera):\n",
    "        super(). __init__(brand,model_name,price)\n",
    "        self.ram = ram\n",
    "        self.internal_memory = internal_memory\n",
    "        self.rear_camera = rear_camera \n",
    "\n",
    "    def full_name(self):\n",
    "        return f\"{self.brand} {self.model_name} {self.internal_memory} {self.brand} -----\"\n",
    "\n",
    "class FlagShipPhone(Smartphone):\n",
    "    def __init__(self,brand,model_name,price,ram,internal_memory,rear_camera,front_camera):\n",
    "        super(). __init__(brand,model_name,price,ram,internal_memory,rear_camera)\n",
    "        self.front_camera = front_camera\n",
    "\n",
    "smartphone1 = FlagShipPhone('techno','8C',10000,3,64,\"21Pixel\",\"pe23XC\")\n",
    "smartphone2 = Smartphone('techno','8C',10000,3,64,\"21Pixel\")\n",
    "smartphone3 = Phone('techno','8C',10000)\n",
    "\n",
    "print(issubclass(Smartphone,Phone))\n",
    "print(\"-----------------------------------\")\n",
    "print(issubclass(Smartphone,FlagShipPhone))\n",
    "print(\"-----------------------------------\")\n",
    "print(issubclass(FlagShipPhone,Smartphone))\n",
    "print(\"-----------------------------------\")\n",
    "print(issubclass(FlagShipPhone,Phone))"
   ]
  },
  {
   "cell_type": "code",
   "execution_count": null,
   "metadata": {},
   "outputs": [],
   "source": []
  }
 ],
 "metadata": {
  "kernelspec": {
   "display_name": "python12",
   "language": "python",
   "name": "python3"
  },
  "language_info": {
   "codemirror_mode": {
    "name": "ipython",
    "version": 3
   },
   "file_extension": ".py",
   "mimetype": "text/x-python",
   "name": "python",
   "nbconvert_exporter": "python",
   "pygments_lexer": "ipython3",
   "version": "3.12.0"
  }
 },
 "nbformat": 4,
 "nbformat_minor": 2
}
