{
 "cells": [
  {
   "cell_type": "code",
   "execution_count": 1,
   "metadata": {},
   "outputs": [],
   "source": [
    "# phone se related sari information ko aik hi jagah likh dia so nowit is encapsulation\n",
    "class Phone:\n",
    "    def __init__(self,brand,model_name,price):\n",
    "        self.brand = brand\n",
    "        self.model_name = model_name \n",
    "        self.price = price\n",
    "\n",
    "    def make_a_call(self,phone_number):\n",
    "        print(f\"Calling {phone_number} ...\")\n",
    "\n",
    "    def full_name(self):\n",
    "        return f\"{self.brand} {self.model_name}\"\n",
    "    \n",
    "    def send_messsage(self):\n",
    "        pass # abstraction for now understand i have written some complex logic here\n",
    "\n"
   ]
  },
  {
   "cell_type": "markdown",
   "metadata": {},
   "source": [
    "CONVENTIONS"
   ]
  },
  {
   "cell_type": "code",
   "execution_count": 2,
   "metadata": {},
   "outputs": [],
   "source": [
    "class Phone:\n",
    "    def __init__(self,brand,model_name,price): #__init__ = dunder/magic methods\n",
    "        self.brand = brand\n",
    "        self.model_name = model_name \n",
    "        self._price = price  # private attribute\n",
    "\n",
    "    def make_a_call(self,phone_number):\n",
    "        print(f\"Calling {phone_number} ...\")\n",
    "\n",
    "    def full_name(self):\n",
    "        return f\"{self.brand} {self.model_name}\"\n",
    "    \n",
    "    def send_messsage(self):\n",
    "        pass \n",
    "\n"
   ]
  },
  {
   "cell_type": "markdown",
   "metadata": {},
   "source": [
    "NAME MANGLING"
   ]
  },
  {
   "cell_type": "code",
   "execution_count": 5,
   "metadata": {},
   "outputs": [
    {
     "name": "stdout",
     "output_type": "stream",
     "text": [
      "4500\n",
      "9000\n"
     ]
    }
   ],
   "source": [
    "class Phone:\n",
    "    def __init__(self,brand,model_name,price):\n",
    "        self.brand = brand\n",
    "        self.model_name = model_name \n",
    "        self._price = price \n",
    "\n",
    "    def make_a_call(self,phone_number):\n",
    "        print(f\"Calling {phone_number} ...\")\n",
    "\n",
    "    def full_name(self):\n",
    "        return f\"{self.brand} {self.model_name}\"\n",
    "    \n",
    "    def send_messsage(self):\n",
    "        pass \n",
    "\n",
    "p1 = Phone(\"A\",\"B\",4500)\n",
    "print(p1._price)\n",
    "p1._price = 9000 # hamain yeh rok hi nhi raha change krne se will discuss it later\n",
    "print(p1._price)\n"
   ]
  },
  {
   "cell_type": "markdown",
   "metadata": {},
   "source": [
    "# __price logic"
   ]
  },
  {
   "cell_type": "code",
   "execution_count": 6,
   "metadata": {},
   "outputs": [
    {
     "ename": "AttributeError",
     "evalue": "'Phone' object has no attribute '__price'",
     "output_type": "error",
     "traceback": [
      "\u001b[1;31m---------------------------------------------------------------------------\u001b[0m",
      "\u001b[1;31mAttributeError\u001b[0m                            Traceback (most recent call last)",
      "Cell \u001b[1;32mIn[6], line 17\u001b[0m\n\u001b[0;32m     14\u001b[0m         \u001b[38;5;28;01mpass\u001b[39;00m \n\u001b[0;32m     16\u001b[0m p1 \u001b[38;5;241m=\u001b[39m Phone(\u001b[38;5;124m\"\u001b[39m\u001b[38;5;124mA\u001b[39m\u001b[38;5;124m\"\u001b[39m,\u001b[38;5;124m\"\u001b[39m\u001b[38;5;124mB\u001b[39m\u001b[38;5;124m\"\u001b[39m,\u001b[38;5;241m4500\u001b[39m)\n\u001b[1;32m---> 17\u001b[0m \u001b[38;5;28mprint\u001b[39m(\u001b[43mp1\u001b[49m\u001b[38;5;241;43m.\u001b[39;49m\u001b[43m__price\u001b[49m)\n",
      "\u001b[1;31mAttributeError\u001b[0m: 'Phone' object has no attribute '__price'"
     ]
    }
   ],
   "source": [
    "class Phone:\n",
    "    def __init__(self,brand,model_name,price):\n",
    "        self.brand = brand\n",
    "        self.model_name = model_name \n",
    "        self.__price = price \n",
    "\n",
    "    def make_a_call(self,phone_number):\n",
    "        print(f\"Calling {phone_number} ...\")\n",
    "\n",
    "    def full_name(self):\n",
    "        return f\"{self.brand} {self.model_name}\"\n",
    "    \n",
    "    def send_messsage(self):\n",
    "        pass \n",
    "\n",
    "p1 = Phone(\"A\",\"B\",4500)\n",
    "print(p1.__price)\n",
    "\n"
   ]
  },
  {
   "cell_type": "code",
   "execution_count": 7,
   "metadata": {},
   "outputs": [
    {
     "name": "stdout",
     "output_type": "stream",
     "text": [
      "{'brand': 'A', 'model_name': 'B', '_Phone__price': 4500}\n"
     ]
    }
   ],
   "source": [
    "class Phone:\n",
    "    def __init__(self,brand,model_name,price):\n",
    "        self.brand = brand\n",
    "        self.model_name = model_name \n",
    "        self.__price = price \n",
    "\n",
    "    def make_a_call(self,phone_number):\n",
    "        print(f\"Calling {phone_number} ...\")\n",
    "\n",
    "    def full_name(self):\n",
    "        return f\"{self.brand} {self.model_name}\"\n",
    "    \n",
    "    def send_messsage(self):\n",
    "        pass \n",
    "\n",
    "p1 = Phone(\"A\",\"B\",4500)\n",
    "print(p1.__dict__)\n",
    "\n"
   ]
  },
  {
   "cell_type": "code",
   "execution_count": 8,
   "metadata": {},
   "outputs": [
    {
     "name": "stdout",
     "output_type": "stream",
     "text": [
      "4500\n"
     ]
    }
   ],
   "source": [
    "class Phone:\n",
    "    def __init__(self,brand,model_name,price):\n",
    "        self.brand = brand\n",
    "        self.model_name = model_name \n",
    "        self.__price = price \n",
    "\n",
    "    def make_a_call(self,phone_number):\n",
    "        print(f\"Calling {phone_number} ...\")\n",
    "\n",
    "    def full_name(self):\n",
    "        return f\"{self.brand} {self.model_name}\"\n",
    "    \n",
    "    def send_messsage(self):\n",
    "        pass \n",
    "\n",
    "p1 = Phone(\"A\",\"B\",4500)\n",
    "print(p1._Phone__price)"
   ]
  },
  {
   "cell_type": "code",
   "execution_count": null,
   "metadata": {},
   "outputs": [],
   "source": []
  }
 ],
 "metadata": {
  "kernelspec": {
   "display_name": "python12",
   "language": "python",
   "name": "python3"
  },
  "language_info": {
   "codemirror_mode": {
    "name": "ipython",
    "version": 3
   },
   "file_extension": ".py",
   "mimetype": "text/x-python",
   "name": "python",
   "nbconvert_exporter": "python",
   "pygments_lexer": "ipython3",
   "version": "3.12.0"
  }
 },
 "nbformat": 4,
 "nbformat_minor": 2
}
