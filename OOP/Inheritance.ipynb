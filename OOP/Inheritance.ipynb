{
 "cells": [
  {
   "cell_type": "code",
   "execution_count": 1,
   "metadata": {},
   "outputs": [
    {
     "name": "stdout",
     "output_type": "stream",
     "text": [
      "nokia ABC\n",
      "techno 8C\n"
     ]
    }
   ],
   "source": [
    "class Phone:\n",
    "    def __init__(self,brand,model_name,price):\n",
    "        self.brand = brand\n",
    "        self.model_name = model_name \n",
    "        self._price = price \n",
    "        self.complete_specification = f\"{self.brand} {self.model_name} and price {self._price}\"\n",
    "\n",
    "    def make_a_call(self,phone_number):\n",
    "        print(f\"Calling {phone_number} ...\")\n",
    "\n",
    "    def full_name(self):\n",
    "        return f\"{self.brand} {self.model_name}\"\n",
    "\n",
    "class Smartphone:\n",
    "    def __init__(self,brand,model_name,price,ram,internal_memory,camera):\n",
    "        self.brand = brand\n",
    "        self.model_name = model_name \n",
    "        self._price = price \n",
    "        self.complete_specification = f\"{self.brand} {self.model_name} and price {self._price}\"\n",
    "        self.ram = ram\n",
    "        self.internal_memory = internal_memory\n",
    "        self._price = max(price,0)\n",
    "\n",
    "    def make_a_call(self,phone_number):\n",
    "        print(f\"Calling {phone_number} ...\")\n",
    "\n",
    "    def full_name(self):\n",
    "        return f\"{self.brand} {self.model_name}\"\n",
    "\n",
    "phone = Phone('nokia','ABC',1000)\n",
    "smartphone = Smartphone('techno','8C',10000,3,64,\"21Pixel\")\n",
    " \n",
    "print(phone.full_name())\n",
    "print(smartphone.full_name())"
   ]
  },
  {
   "cell_type": "markdown",
   "metadata": {},
   "source": [
    "# But here we are voilating coding principle = \"Dont Repeat Yourself\""
   ]
  },
  {
   "cell_type": "markdown",
   "metadata": {},
   "source": [
    "### We will apply inheritance here"
   ]
  },
  {
   "cell_type": "markdown",
   "metadata": {},
   "source": [
    "# Old way to do this\n",
    "``` \n",
    "* Just write parent class name in parenthesis of child class\n",
    "    \n",
    "* Call ParentClassName.__init__(all attributes of parent class)\n",
    "```"
   ]
  },
  {
   "cell_type": "code",
   "execution_count": 2,
   "metadata": {},
   "outputs": [
    {
     "name": "stdout",
     "output_type": "stream",
     "text": [
      "nokia ABC\n",
      "techno 8C\n"
     ]
    }
   ],
   "source": [
    "class Phone:\n",
    "    def __init__(self,brand,model_name,price):\n",
    "        self.brand = brand\n",
    "        self.model_name = model_name \n",
    "        self._price = price \n",
    "        self.complete_specification = f\"{self.brand} {self.model_name} and price {self._price}\"\n",
    "\n",
    "    def make_a_call(self,phone_number):\n",
    "        print(f\"Calling {phone_number} ...\")\n",
    "\n",
    "    def full_name(self):\n",
    "        return f\"{self.brand} {self.model_name}\"\n",
    "\n",
    "class Smartphone(Phone):\n",
    "    def __init__(self,brand,model_name,price,ram,internal_memory,camera):\n",
    "        Phone. __init__(self,brand,model_name,price)\n",
    "        self.ram = ram\n",
    "        self.internal_memory = internal_memory\n",
    "        self._price = max(price,0)\n",
    "\n",
    "phone = Phone('nokia','ABC',1000)\n",
    "smartphone = Smartphone('techno','8C',10000,3,64,\"21Pixel\")\n",
    " \n",
    "print(phone.full_name())\n",
    "print(smartphone.full_name())"
   ]
  },
  {
   "cell_type": "markdown",
   "metadata": {},
   "source": [
    "# New way to do this"
   ]
  },
  {
   "cell_type": "markdown",
   "metadata": {},
   "source": [
    "```\n",
    "* use the name of the parent class in child class parenthesis\n",
    "* without using __init__ with class name ,call it with super() and dont write self"
   ]
  },
  {
   "cell_type": "code",
   "execution_count": 4,
   "metadata": {},
   "outputs": [
    {
     "name": "stdout",
     "output_type": "stream",
     "text": [
      "nokia ABC\n",
      "techno 8C\n"
     ]
    }
   ],
   "source": [
    "class Phone:\n",
    "    def __init__(self,brand,model_name,price):\n",
    "        self.brand = brand\n",
    "        self.model_name = model_name \n",
    "        self._price = price \n",
    "        self.complete_specification = f\"{self.brand} {self.model_name} and price {self._price}\"\n",
    "\n",
    "    def make_a_call(self,phone_number):\n",
    "        print(f\"Calling {phone_number} ...\")\n",
    "\n",
    "    def full_name(self):\n",
    "        return f\"{self.brand} {self.model_name}\"\n",
    "\n",
    "class Smartphone(Phone):\n",
    "    def __init__(self,brand,model_name,price,ram,internal_memory,camera):\n",
    "        super(). __init__(brand,model_name,price)\n",
    "        self.ram = ram\n",
    "        self.internal_memory = internal_memory\n",
    "        self._price = max(price,0)\n",
    "\n",
    "phone = Phone('nokia','ABC',1000)\n",
    "smartphone = Smartphone('techno','8C',10000,3,64,\"21Pixel\")\n",
    " \n",
    "print(phone.full_name())\n",
    "print(smartphone.full_name())"
   ]
  },
  {
   "cell_type": "code",
   "execution_count": null,
   "metadata": {},
   "outputs": [],
   "source": []
  }
 ],
 "metadata": {
  "kernelspec": {
   "display_name": "python12",
   "language": "python",
   "name": "python3"
  },
  "language_info": {
   "codemirror_mode": {
    "name": "ipython",
    "version": 3
   },
   "file_extension": ".py",
   "mimetype": "text/x-python",
   "name": "python",
   "nbconvert_exporter": "python",
   "pygments_lexer": "ipython3",
   "version": "3.12.0"
  }
 },
 "nbformat": 4,
 "nbformat_minor": 2
}
