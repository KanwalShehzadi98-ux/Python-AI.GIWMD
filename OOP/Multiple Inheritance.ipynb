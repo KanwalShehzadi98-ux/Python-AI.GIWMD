{
 "cells": [
  {
   "cell_type": "code",
   "execution_count": 3,
   "metadata": {},
   "outputs": [
    {
     "name": "stdout",
     "output_type": "stream",
     "text": [
      "I'm just a class A method\n",
      "I'm just a class B method\n",
      "Hello from class A\n",
      "Help on class C in module __main__:\n",
      "\n",
      "class C(A, B)\n",
      " |  Method resolution order:\n",
      " |      C\n",
      " |      A\n",
      " |      B\n",
      " |      builtins.object\n",
      " |\n",
      " |  Methods inherited from A:\n",
      " |\n",
      " |  class_a_method(self)\n",
      " |\n",
      " |  hello(self)\n",
      " |\n",
      " |  ----------------------------------------------------------------------\n",
      " |  Data descriptors inherited from A:\n",
      " |\n",
      " |  __dict__\n",
      " |      dictionary for instance variables (if defined)\n",
      " |\n",
      " |  __weakref__\n",
      " |      list of weak references to the object (if defined)\n",
      " |\n",
      " |  ----------------------------------------------------------------------\n",
      " |  Methods inherited from B:\n",
      " |\n",
      " |  class_b_method(self)\n",
      "\n"
     ]
    }
   ],
   "source": [
    "class A:\n",
    "    def class_a_method(self):\n",
    "        return 'I\\'m just a class A method'\n",
    "    \n",
    "    def hello(self):\n",
    "        return \"Hello from class A\"\n",
    "    \n",
    "class B:\n",
    "    def class_b_method(self):\n",
    "        return 'I\\'m just a class B method'\n",
    "    \n",
    "    def hello(self):\n",
    "        return \"Hello from class B\"\n",
    "    \n",
    "class C(A,B):\n",
    "    pass\n",
    "\n",
    "obj = C()\n",
    "\n",
    "print(obj.class_a_method())\n",
    "print(obj.class_b_method())\n",
    "\n",
    "print(obj.hello()) # Hello of A since of MRO\n",
    "\n",
    "help(C)\n"
   ]
  },
  {
   "cell_type": "code",
   "execution_count": 4,
   "metadata": {},
   "outputs": [
    {
     "name": "stdout",
     "output_type": "stream",
     "text": [
      "I'm just a class A method\n",
      "I'm just a class B method\n",
      "Hello from class B\n",
      "Help on class C in module __main__:\n",
      "\n",
      "class C(B, A)\n",
      " |  Method resolution order:\n",
      " |      C\n",
      " |      B\n",
      " |      A\n",
      " |      builtins.object\n",
      " |\n",
      " |  Methods inherited from B:\n",
      " |\n",
      " |  class_b_method(self)\n",
      " |\n",
      " |  hello(self)\n",
      " |\n",
      " |  ----------------------------------------------------------------------\n",
      " |  Data descriptors inherited from B:\n",
      " |\n",
      " |  __dict__\n",
      " |      dictionary for instance variables (if defined)\n",
      " |\n",
      " |  __weakref__\n",
      " |      list of weak references to the object (if defined)\n",
      " |\n",
      " |  ----------------------------------------------------------------------\n",
      " |  Methods inherited from A:\n",
      " |\n",
      " |  class_a_method(self)\n",
      "\n"
     ]
    }
   ],
   "source": [
    "class A:\n",
    "    def class_a_method(self):\n",
    "        return 'I\\'m just a class A method'\n",
    "    \n",
    "    def hello(self):\n",
    "        return \"Hello from class A\"\n",
    "    \n",
    "class B:\n",
    "    def class_b_method(self):\n",
    "        return 'I\\'m just a class B method'\n",
    "    \n",
    "    def hello(self):\n",
    "        return \"Hello from class B\"\n",
    "    \n",
    "class C(B,A):\n",
    "    pass\n",
    "\n",
    "obj = C()\n",
    "\n",
    "print(obj.class_a_method())\n",
    "print(obj.class_b_method())\n",
    "\n",
    "print(obj.hello()) # Hello of B since of MRO\n",
    "\n",
    "help(C)\n"
   ]
  },
  {
   "cell_type": "code",
   "execution_count": null,
   "metadata": {},
   "outputs": [],
   "source": []
  }
 ],
 "metadata": {
  "kernelspec": {
   "display_name": "python12",
   "language": "python",
   "name": "python3"
  },
  "language_info": {
   "codemirror_mode": {
    "name": "ipython",
    "version": 3
   },
   "file_extension": ".py",
   "mimetype": "text/x-python",
   "name": "python",
   "nbconvert_exporter": "python",
   "pygments_lexer": "ipython3",
   "version": "3.12.0"
  }
 },
 "nbformat": 4,
 "nbformat_minor": 2
}
