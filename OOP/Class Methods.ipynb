{
 "cells": [
  {
   "cell_type": "code",
   "execution_count": 3,
   "metadata": {},
   "outputs": [
    {
     "name": "stdout",
     "output_type": "stream",
     "text": [
      "You have created 2 instances of the person class\n"
     ]
    }
   ],
   "source": [
    "class Person:\n",
    "    instance_count = 0\n",
    "    def __init__(self,first_name,last_name,age):\n",
    "        self.first_name = first_name\n",
    "        self.last_name = last_name\n",
    "        self.age = age\n",
    "        Person.instance_count += 1\n",
    "\n",
    "    @classmethod\n",
    "    def count_instances(cls):\n",
    "        print(f\"You have created {cls.instance_count} instances of the person class\")\n",
    "\n",
    "    def full_name(self):\n",
    "        return f\"{self.first_name} {self.last_name}\"\n",
    "    \n",
    "    def is_above_18(self):\n",
    "        return self.age > 18\n",
    "    \n",
    "p1 = Person(\"Kanwal\",\"Shehzadi\",20)\n",
    "p2 = Person(\"Aown\",\"Abbas\",12)\n",
    "\n",
    "Person.count_instances()"
   ]
  },
  {
   "cell_type": "code",
   "execution_count": 4,
   "metadata": {},
   "outputs": [
    {
     "name": "stdout",
     "output_type": "stream",
     "text": [
      "You have created 2 instances of the Person class\n"
     ]
    }
   ],
   "source": [
    "class Person:\n",
    "    instance_count = 0\n",
    "    def __init__(self,first_name,last_name,age):\n",
    "        self.first_name = first_name\n",
    "        self.last_name = last_name\n",
    "        self.age = age\n",
    "        Person.instance_count += 1\n",
    "\n",
    "    @classmethod\n",
    "    def count_instances(cls):\n",
    "        print(f\"You have created {cls.instance_count} instances of the {cls.__name__} class\")\n",
    "\n",
    "    def full_name(self):\n",
    "        return f\"{self.first_name} {self.last_name}\"\n",
    "    \n",
    "    def is_above_18(self):\n",
    "        return self.age > 18\n",
    "    \n",
    "p1 = Person(\"Kanwal\",\"Shehzadi\",20)\n",
    "p2 = Person(\"Aown\",\"Abbas\",12)\n",
    "\n",
    "Person.count_instances()"
   ]
  },
  {
   "cell_type": "code",
   "execution_count": null,
   "metadata": {},
   "outputs": [],
   "source": []
  }
 ],
 "metadata": {
  "kernelspec": {
   "display_name": "python12",
   "language": "python",
   "name": "python3"
  },
  "language_info": {
   "codemirror_mode": {
    "name": "ipython",
    "version": 3
   },
   "file_extension": ".py",
   "mimetype": "text/x-python",
   "name": "python",
   "nbconvert_exporter": "python",
   "pygments_lexer": "ipython3",
   "version": "3.12.0"
  }
 },
 "nbformat": 4,
 "nbformat_minor": 2
}
