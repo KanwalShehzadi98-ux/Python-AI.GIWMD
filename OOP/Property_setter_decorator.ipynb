{
 "cells": [
  {
   "cell_type": "code",
   "execution_count": 7,
   "metadata": {},
   "outputs": [
    {
     "name": "stdout",
     "output_type": "stream",
     "text": [
      "nokia\n",
      "ABC\n",
      "-500\n",
      "nokia ABC and price 1000\n"
     ]
    }
   ],
   "source": [
    "class Phone:\n",
    "    def __init__(self,brand,model_name,price):\n",
    "        self.brand = brand\n",
    "        self.model_name = model_name \n",
    "        self._price = price \n",
    "        self.complete_specification = f\"{self.brand} {self.model_name} and price {self._price}\"\n",
    "\n",
    "    def make_a_call(self,phone_number):\n",
    "        print(f\"Calling {phone_number} ...\")\n",
    "\n",
    "    def full_name(self):\n",
    "        return f\"{self.brand} {self.model_name}\"\n",
    "\n",
    "phone1 = Phone('nokia','ABC',1000)\n",
    "print(phone1.brand)\n",
    "print(phone1.model_name)\n",
    "phone1._price = -500\n",
    "print(phone1._price)\n",
    "print(phone1.complete_specification)"
   ]
  },
  {
   "cell_type": "code",
   "execution_count": 9,
   "metadata": {},
   "outputs": [
    {
     "name": "stdout",
     "output_type": "stream",
     "text": [
      "nokia\n",
      "ABC\n",
      "-500\n",
      "nokia ABC and price 0\n"
     ]
    }
   ],
   "source": [
    "class Phone:\n",
    "    def __init__(self,brand,model_name,price):\n",
    "        self.brand = brand\n",
    "        self.model_name = model_name \n",
    "        self._price = max(price,0)\n",
    "        self.complete_specification = f\"{self.brand} {self.model_name} and price {self._price}\"\n",
    "\n",
    "    def make_a_call(self,phone_number):\n",
    "        print(f\"Calling {phone_number} ...\")\n",
    "\n",
    "    def full_name(self):\n",
    "        return f\"{self.brand} {self.model_name}\"\n",
    "\n",
    "phone1 = Phone('nokia','ABC',-1000)\n",
    "print(phone1.brand)\n",
    "print(phone1.model_name)\n",
    "phone1._price = -500\n",
    "print(phone1._price)\n",
    "print(phone1.complete_specification)"
   ]
  },
  {
   "cell_type": "code",
   "execution_count": 11,
   "metadata": {},
   "outputs": [
    {
     "name": "stdout",
     "output_type": "stream",
     "text": [
      "nokia\n",
      "ABC\n",
      "-500\n",
      "nokia ABC and price -500\n"
     ]
    }
   ],
   "source": [
    "class Phone:\n",
    "    def __init__(self,brand,model_name,price):\n",
    "        self.brand = brand\n",
    "        self.model_name = model_name \n",
    "        self._price = max(price,0)\n",
    "\n",
    "    def complete_specification(self):\n",
    "        return f\"{self.brand} {self.model_name} and price {self._price}\"\n",
    "\n",
    "    def make_a_call(self,phone_number):\n",
    "        print(f\"Calling {phone_number} ...\")\n",
    "\n",
    "    def full_name(self):\n",
    "        return f\"{self.brand} {self.model_name}\"\n",
    "\n",
    "phone1 = Phone('nokia','ABC',-1000)\n",
    "print(phone1.brand)\n",
    "print(phone1.model_name)\n",
    "phone1._price = -500\n",
    "print(phone1._price)\n",
    "print(phone1.complete_specification())"
   ]
  },
  {
   "cell_type": "code",
   "execution_count": 13,
   "metadata": {},
   "outputs": [
    {
     "name": "stdout",
     "output_type": "stream",
     "text": [
      "nokia\n",
      "ABC\n",
      "-500\n",
      "nokia ABC and price -500\n"
     ]
    }
   ],
   "source": [
    "class Phone:\n",
    "    def __init__(self,brand,model_name,price):\n",
    "        self.brand = brand\n",
    "        self.model_name = model_name \n",
    "        self._price = max(price,0)\n",
    "\n",
    "    @property\n",
    "    def complete_specification(self):\n",
    "        return f\"{self.brand} {self.model_name} and price {self._price}\"\n",
    "\n",
    "    def make_a_call(self,phone_number):\n",
    "        print(f\"Calling {phone_number} ...\")\n",
    "\n",
    "    def full_name(self):\n",
    "        return f\"{self.brand} {self.model_name}\"\n",
    "\n",
    "phone1 = Phone('nokia','ABC',-1000)\n",
    "print(phone1.brand)\n",
    "print(phone1.model_name)\n",
    "phone1._price = -500\n",
    "print(phone1._price)\n",
    "print(phone1.complete_specification)"
   ]
  },
  {
   "cell_type": "code",
   "execution_count": 14,
   "metadata": {},
   "outputs": [
    {
     "name": "stdout",
     "output_type": "stream",
     "text": [
      "nokia\n",
      "ABC\n",
      "-500\n",
      "nokia ABC and price -500\n"
     ]
    }
   ],
   "source": [
    "class Phone:\n",
    "    def __init__(self,brand,model_name,price):\n",
    "        self.brand = brand\n",
    "        self.model_name = model_name \n",
    "        self._price = max(price,0)\n",
    "\n",
    "    def complete_specification(self):\n",
    "        return f\"{self.brand} {self.model_name} and price {self._price}\"\n",
    "\n",
    "    # getter() , setter()\n",
    "    @property\n",
    "    def price(self):\n",
    "        return self._price\n",
    "    \n",
    "    @price.setter\n",
    "    def price(self,new_price):\n",
    "        self._price = max(new_price,0)\n",
    "\n",
    "    def make_a_call(self,phone_number):\n",
    "        print(f\"Calling {phone_number} ...\")\n",
    "\n",
    "    def full_name(self):\n",
    "        return f\"{self.brand} {self.model_name}\"\n",
    "\n",
    "phone1 = Phone('nokia','ABC',-1000)\n",
    "print(phone1.brand)\n",
    "print(phone1.model_name)\n",
    "phone1._price = -500\n",
    "print(phone1.price)\n",
    "print(phone1.complete_specification())"
   ]
  },
  {
   "cell_type": "code",
   "execution_count": null,
   "metadata": {},
   "outputs": [],
   "source": []
  }
 ],
 "metadata": {
  "kernelspec": {
   "display_name": "python12",
   "language": "python",
   "name": "python3"
  },
  "language_info": {
   "codemirror_mode": {
    "name": "ipython",
    "version": 3
   },
   "file_extension": ".py",
   "mimetype": "text/x-python",
   "name": "python",
   "nbconvert_exporter": "python",
   "pygments_lexer": "ipython3",
   "version": "3.12.0"
  }
 },
 "nbformat": 4,
 "nbformat_minor": 2
}
