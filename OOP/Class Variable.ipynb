{
 "cells": [
  {
   "cell_type": "code",
   "execution_count": 2,
   "metadata": {},
   "outputs": [
    {
     "name": "stdout",
     "output_type": "stream",
     "text": [
      "25.12\n",
      "31.400000000000002\n"
     ]
    }
   ],
   "source": [
    "class Circle:\n",
    "    def __init__(self,radius,pi):\n",
    "        self.radius = radius\n",
    "        self.pi = pi\n",
    "\n",
    "    def calc_circumference(self):\n",
    "        return 2 * self.pi * self.radius\n",
    "    \n",
    "c1 = Circle(4,3.14)\n",
    "c2 = Circle(5,3.14)\n",
    "\n",
    "print(c1.calc_circumference())\n",
    "print(c2.calc_circumference())"
   ]
  },
  {
   "cell_type": "markdown",
   "metadata": {},
   "source": [
    "# Since the pi is used again and again in every object"
   ]
  },
  {
   "cell_type": "code",
   "execution_count": 6,
   "metadata": {},
   "outputs": [
    {
     "name": "stdout",
     "output_type": "stream",
     "text": [
      "25.12\n",
      "31.400000000000002\n"
     ]
    }
   ],
   "source": [
    "class Circle:\n",
    "    pi = 3.14 # class variable since it is used by each object present in a class\n",
    "    def __init__(self,radius):\n",
    "        self.radius = radius\n",
    "\n",
    "    def calc_circumference(self):\n",
    "        return 2 * Circle.pi * self.radius\n",
    "    \n",
    "c1 = Circle(4)\n",
    "c2 = Circle(5)  \n",
    "\n",
    "print(c1.calc_circumference())\n",
    "print(c2.calc_circumference())"
   ]
  },
  {
   "cell_type": "code",
   "execution_count": 7,
   "metadata": {},
   "outputs": [
    {
     "name": "stdout",
     "output_type": "stream",
     "text": [
      "49500.0\n",
      "270000.0\n"
     ]
    }
   ],
   "source": [
    "class Laptop:\n",
    "    dis = 10\n",
    "    def __init__(self,brand,model,price):\n",
    "        self.brand = brand\n",
    "        self.model = model\n",
    "        self.price = price\n",
    "        self.laptop_name = brand + \" \" + model \n",
    "\n",
    "    def apply_discount(self):\n",
    "        return self.price - (self.price * (Laptop.dis/100))\n",
    "\n",
    "l1 = Laptop(\"Dell\",\"i7\",55000)\n",
    "l2 = Laptop(\"Lenovo\",\"12gen\",300000)\n",
    "\n",
    "print(l1.apply_discount())\n",
    "print(l2.apply_discount())"
   ]
  },
  {
   "cell_type": "markdown",
   "metadata": {},
   "source": [
    "# If we have removed discount offer "
   ]
  },
  {
   "cell_type": "code",
   "execution_count": 9,
   "metadata": {},
   "outputs": [
    {
     "name": "stdout",
     "output_type": "stream",
     "text": [
      "55000.0\n",
      "300000.0\n"
     ]
    }
   ],
   "source": [
    "class Laptop:\n",
    "    dis = 10\n",
    "    def __init__(self,brand,model,price):\n",
    "        self.brand = brand\n",
    "        self.model = model\n",
    "        self.price = price\n",
    "        self.laptop_name = brand + \" \" + model \n",
    "\n",
    "    def apply_discount(self):\n",
    "        return self.price - (self.price * (Laptop.dis/100))\n",
    "\n",
    "Laptop.dis = 0\n",
    "l1 = Laptop(\"Dell\",\"i7\",55000)\n",
    "l2 = Laptop(\"Lenovo\",\"12gen\",300000)\n",
    "\n",
    "print(l1.apply_discount())\n",
    "print(l2.apply_discount())"
   ]
  },
  {
   "cell_type": "code",
   "execution_count": 10,
   "metadata": {},
   "outputs": [
    {
     "name": "stdout",
     "output_type": "stream",
     "text": [
      "{'brand': 'Dell', 'model': 'i7', 'price': 55000, 'laptop_name': 'Dell i7'}\n"
     ]
    }
   ],
   "source": [
    "print(l1.__dict__)"
   ]
  },
  {
   "cell_type": "code",
   "execution_count": 11,
   "metadata": {},
   "outputs": [
    {
     "name": "stdout",
     "output_type": "stream",
     "text": [
      "{'brand': 'Lenovo', 'model': '12gen', 'price': 300000, 'laptop_name': 'Lenovo 12gen'}\n"
     ]
    }
   ],
   "source": [
    "print(l2.__dict__)"
   ]
  },
  {
   "cell_type": "markdown",
   "metadata": {},
   "source": [
    "### if we have made an offer that if laptop is of APPLE then we will apply discount of 25% for this we add the property to that object and change it back to self "
   ]
  },
  {
   "cell_type": "code",
   "execution_count": 14,
   "metadata": {},
   "outputs": [
    {
     "name": "stdout",
     "output_type": "stream",
     "text": [
      "90000.0\n",
      "50000.0\n",
      "{'brand': 'Apple', 'model': '12gen', 'price': 100000, 'laptop_name': 'Apple 12gen', 'dis': 50}\n"
     ]
    }
   ],
   "source": [
    "class Laptop:\n",
    "    dis = 10\n",
    "    def __init__(self,brand,model,price):\n",
    "        self.brand = brand\n",
    "        self.model = model\n",
    "        self.price = price\n",
    "        self.laptop_name = brand + \" \" + model \n",
    "\n",
    "    def apply_discount(self):\n",
    "        return self.price - (self.price * (self.dis/100))\n",
    "\n",
    "l1 = Laptop(\"Dell\",\"i7\",100000)\n",
    "l2 = Laptop(\"Apple\",\"12gen\",100000)\n",
    "l2.dis = 50\n",
    "\n",
    "print(l1.apply_discount())\n",
    "print(l2.apply_discount())\n",
    "\n",
    "print(l2.__dict__)"
   ]
  },
  {
   "cell_type": "code",
   "execution_count": 18,
   "metadata": {},
   "outputs": [
    {
     "name": "stdout",
     "output_type": "stream",
     "text": [
      "3\n"
     ]
    }
   ],
   "source": [
    "class Person:\n",
    "    instance_counter = 0\n",
    "    def __init__(self,name,age):\n",
    "        self.name = name \n",
    "        self.age = age\n",
    "        Person.instance_counter += 1\n",
    "    \n",
    "p1 = Person(\"Kanwal\",20)\n",
    "p2 = Person(\"Kanwal\",20)\n",
    "p3 = Person(\"Kanwal\",20)\n",
    "print(p1.instance_counter)"
   ]
  },
  {
   "cell_type": "code",
   "execution_count": null,
   "metadata": {},
   "outputs": [],
   "source": []
  }
 ],
 "metadata": {
  "kernelspec": {
   "display_name": "python12",
   "language": "python",
   "name": "python3"
  },
  "language_info": {
   "codemirror_mode": {
    "name": "ipython",
    "version": 3
   },
   "file_extension": ".py",
   "mimetype": "text/x-python",
   "name": "python",
   "nbconvert_exporter": "python",
   "pygments_lexer": "ipython3",
   "version": "3.12.0"
  }
 },
 "nbformat": 4,
 "nbformat_minor": 2
}
