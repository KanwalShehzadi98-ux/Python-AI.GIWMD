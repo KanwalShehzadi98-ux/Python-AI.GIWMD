{
 "cells": [
  {
   "cell_type": "code",
   "execution_count": 2,
   "metadata": {},
   "outputs": [
    {
     "name": "stdout",
     "output_type": "stream",
     "text": [
      "<__main__.Phone object at 0x0000016FA9CBA3F0>\n"
     ]
    }
   ],
   "source": [
    "class Phone:\n",
    "    def __init__(self,brand,model,price):\n",
    "        self.brand = brand\n",
    "        self.model = model\n",
    "        self.price = price\n",
    "\n",
    "    def phone_name(self):\n",
    "        return f\"{self.brand} {self.model}\"\n",
    "    \n",
    "myPhone = Phone(\"B\",\"M\",30000)\n",
    "print(myPhone)\n",
    "    "
   ]
  },
  {
   "cell_type": "code",
   "execution_count": 3,
   "metadata": {},
   "outputs": [
    {
     "name": "stdout",
     "output_type": "stream",
     "text": [
      "[1, 2, 3]\n"
     ]
    }
   ],
   "source": [
    "# An address of the object is getting printed here but in python everything is object \n",
    "l = [1,2,3] \n",
    "# l is also an object\n",
    "print(l)"
   ]
  },
  {
   "cell_type": "code",
   "execution_count": null,
   "metadata": {},
   "outputs": [],
   "source": [
    "# but when i print l no address is printed even the well formatted list is displayed \n",
    "# if i want my class object to be displayed like this i would use str or repr "
   ]
  },
  {
   "cell_type": "code",
   "execution_count": 4,
   "metadata": {},
   "outputs": [
    {
     "name": "stdout",
     "output_type": "stream",
     "text": [
      "B 30000\n"
     ]
    }
   ],
   "source": [
    "class Phone:\n",
    "    def __init__(self,brand,model,price):\n",
    "        self.brand = brand\n",
    "        self.model = model\n",
    "        self.price = price\n",
    "\n",
    "    def phone_name(self):\n",
    "        return f\"{self.brand} {self.model}\"\n",
    "    \n",
    "    def __repr__(self):\n",
    "        return f\"{self.brand} {self.price}\"\n",
    "    \n",
    "myPhone = Phone(\"B\",\"M\",30000)\n",
    "print(myPhone)\n",
    "    "
   ]
  },
  {
   "cell_type": "code",
   "execution_count": 5,
   "metadata": {},
   "outputs": [],
   "source": [
    "# Because of adding repr dunder method the well formatted output isachieved even when I print object name"
   ]
  },
  {
   "cell_type": "code",
   "execution_count": 6,
   "metadata": {},
   "outputs": [
    {
     "name": "stdout",
     "output_type": "stream",
     "text": [
      "B 30000\n"
     ]
    }
   ],
   "source": [
    "class Phone:\n",
    "    def __init__(self,brand,model,price):\n",
    "        self.brand = brand\n",
    "        self.model = model\n",
    "        self.price = price\n",
    "\n",
    "    def phone_name(self):\n",
    "        return f\"{self.brand} {self.model}\"\n",
    "    \n",
    "    def __str__(self):\n",
    "        return f\"{self.brand} {self.price}\"\n",
    "    \n",
    "myPhone = Phone(\"B\",\"M\",30000)\n",
    "print(myPhone)\n",
    "    "
   ]
  },
  {
   "cell_type": "code",
   "execution_count": 7,
   "metadata": {},
   "outputs": [],
   "source": [
    "# You can use str in the same way as well"
   ]
  },
  {
   "cell_type": "markdown",
   "metadata": {},
   "source": [
    "### If we will use both str and repr str will be always called no matter of the position "
   ]
  },
  {
   "cell_type": "code",
   "execution_count": 9,
   "metadata": {},
   "outputs": [
    {
     "name": "stdout",
     "output_type": "stream",
     "text": [
      "B 30000\n"
     ]
    }
   ],
   "source": [
    "class Phone:\n",
    "    def __init__(self,brand,model,price):\n",
    "        self.brand = brand\n",
    "        self.model = model\n",
    "        self.price = price\n",
    "\n",
    "    def phone_name(self):\n",
    "        return f\"{self.brand} {self.model}\"\n",
    "    \n",
    "    def __repr__(self):\n",
    "        return f\"{self.brand} {self.price} {self.model}\"\n",
    "\n",
    "    def __str__(self):\n",
    "        return f\"{self.brand} {self.price}\"\n",
    "    \n",
    "myPhone = Phone(\"B\",\"M\",30000)\n",
    "print(myPhone)\n",
    "    "
   ]
  },
  {
   "cell_type": "code",
   "execution_count": 10,
   "metadata": {},
   "outputs": [
    {
     "name": "stdout",
     "output_type": "stream",
     "text": [
      "B 30000\n"
     ]
    }
   ],
   "source": [
    "class Phone:\n",
    "    def __init__(self,brand,model,price):\n",
    "        self.brand = brand\n",
    "        self.model = model\n",
    "        self.price = price\n",
    "\n",
    "    def phone_name(self):\n",
    "        return f\"{self.brand} {self.model}\"\n",
    "\n",
    "    def __str__(self):\n",
    "        return f\"{self.brand} {self.price}\"\n",
    "        \n",
    "    def __repr__(self):\n",
    "        return f\"{self.brand} {self.price} {self.model}\"\n",
    "    \n",
    "myPhone = Phone(\"B\",\"M\",30000)\n",
    "print(myPhone)\n",
    "    "
   ]
  },
  {
   "cell_type": "markdown",
   "metadata": {},
   "source": [
    "### But if you intenionally want to call any of these you can do this too!"
   ]
  },
  {
   "cell_type": "code",
   "execution_count": 11,
   "metadata": {},
   "outputs": [
    {
     "name": "stdout",
     "output_type": "stream",
     "text": [
      "B 30000\n",
      "B 30000 M\n"
     ]
    }
   ],
   "source": [
    "class Phone:\n",
    "    def __init__(self,brand,model,price):\n",
    "        self.brand = brand\n",
    "        self.model = model\n",
    "        self.price = price\n",
    "\n",
    "    def phone_name(self):\n",
    "        return f\"{self.brand} {self.model}\"\n",
    "\n",
    "    def __str__(self):\n",
    "        return f\"{self.brand} {self.price}\"\n",
    "        \n",
    "    def __repr__(self):\n",
    "        return f\"{self.brand} {self.price} {self.model}\"\n",
    "    \n",
    "myPhone = Phone(\"B\",\"M\",30000)\n",
    "print(str(myPhone))\n",
    "print(repr(myPhone))\n",
    "    "
   ]
  },
  {
   "cell_type": "markdown",
   "metadata": {},
   "source": [
    "# Actual way to use str and repr\n",
    "* str = Well Formatted String\n",
    "* Aise likho kay developer us ko jab copy kare tw wo aik class ka object bun jaye yeh basically debugging kay liye hota hai"
   ]
  },
  {
   "cell_type": "code",
   "execution_count": 12,
   "metadata": {},
   "outputs": [
    {
     "name": "stdout",
     "output_type": "stream",
     "text": [
      "B 30000 M\n",
      "Phone('B','30000','M')\n"
     ]
    }
   ],
   "source": [
    "class Phone:\n",
    "    def __init__(self,brand,model,price):\n",
    "        self.brand = brand\n",
    "        self.model = model\n",
    "        self.price = price\n",
    "\n",
    "    def phone_name(self):\n",
    "        return f\"{self.brand} {self.model}\"\n",
    "\n",
    "    def __str__(self):\n",
    "        return f\"{self.brand} {self.price} {self.model}\"\n",
    "        \n",
    "    def __repr__(self):\n",
    "        return f\"Phone('{self.brand}','{self.price}','{self.model}')\"\n",
    "    \n",
    "myPhone = Phone(\"B\",\"M\",30000)\n",
    "print(str(myPhone))\n",
    "print(repr(myPhone))\n",
    "    "
   ]
  },
  {
   "cell_type": "markdown",
   "metadata": {},
   "source": [
    "# __len__"
   ]
  },
  {
   "cell_type": "code",
   "execution_count": 17,
   "metadata": {},
   "outputs": [
    {
     "name": "stdout",
     "output_type": "stream",
     "text": [
      "3\n"
     ]
    }
   ],
   "source": [
    "class Phone:\n",
    "    def __init__(self,brand,model,price):\n",
    "        self.brand = brand\n",
    "        self.model = model\n",
    "        self.price = price\n",
    "\n",
    "    def phone_name(self):\n",
    "        return f\"{self.brand} {self.model}\"\n",
    "    \n",
    "    def __len__(self):\n",
    "        return len(self.phone_name())\n",
    "    \n",
    "myPhone = Phone(\"B\",\"M\",30000)\n",
    "print(len(myPhone))"
   ]
  },
  {
   "cell_type": "markdown",
   "metadata": {},
   "source": [
    "# __add__"
   ]
  },
  {
   "cell_type": "code",
   "execution_count": 18,
   "metadata": {},
   "outputs": [
    {
     "ename": "TypeError",
     "evalue": "unsupported operand type(s) for +: 'Phone' and 'Phone'",
     "output_type": "error",
     "traceback": [
      "\u001b[1;31m---------------------------------------------------------------------------\u001b[0m",
      "\u001b[1;31mTypeError\u001b[0m                                 Traceback (most recent call last)",
      "Cell \u001b[1;32mIn[18], line 13\u001b[0m\n\u001b[0;32m     10\u001b[0m myPhone1 \u001b[38;5;241m=\u001b[39m Phone(\u001b[38;5;124m\"\u001b[39m\u001b[38;5;124mB\u001b[39m\u001b[38;5;124m\"\u001b[39m,\u001b[38;5;124m\"\u001b[39m\u001b[38;5;124mM\u001b[39m\u001b[38;5;124m\"\u001b[39m,\u001b[38;5;241m30000\u001b[39m)\n\u001b[0;32m     11\u001b[0m myPhone2 \u001b[38;5;241m=\u001b[39m Phone(\u001b[38;5;124m\"\u001b[39m\u001b[38;5;124mB\u001b[39m\u001b[38;5;124m\"\u001b[39m,\u001b[38;5;124m\"\u001b[39m\u001b[38;5;124mM\u001b[39m\u001b[38;5;124m\"\u001b[39m,\u001b[38;5;241m32000\u001b[39m)\n\u001b[1;32m---> 13\u001b[0m \u001b[38;5;28mprint\u001b[39m(\u001b[43mmyPhone1\u001b[49m\u001b[43m \u001b[49m\u001b[38;5;241;43m+\u001b[39;49m\u001b[43m \u001b[49m\u001b[43mmyPhone2\u001b[49m)\n",
      "\u001b[1;31mTypeError\u001b[0m: unsupported operand type(s) for +: 'Phone' and 'Phone'"
     ]
    }
   ],
   "source": [
    "class Phone:\n",
    "    def __init__(self,brand,model,price):\n",
    "        self.brand = brand\n",
    "        self.model = model\n",
    "        self.price = price\n",
    "\n",
    "    def phone_name(self):\n",
    "        return f\"{self.brand} {self.model}\"\n",
    "    \n",
    "myPhone1 = Phone(\"B\",\"M\",30000)\n",
    "myPhone2 = Phone(\"B\",\"M\",32000)\n",
    "\n",
    "print(myPhone1 + myPhone2)"
   ]
  },
  {
   "cell_type": "code",
   "execution_count": 24,
   "metadata": {},
   "outputs": [
    {
     "name": "stdout",
     "output_type": "stream",
     "text": [
      "62000\n"
     ]
    }
   ],
   "source": [
    "class Phone:\n",
    "    def __init__(self,brand,model,price):\n",
    "        self.brand = brand\n",
    "        self.model = model\n",
    "        self.price = price\n",
    "\n",
    "    def phone_name(self):\n",
    "        return f\"{self.brand} {self.model}\"\n",
    "    \n",
    "    def __add__(self,other):\n",
    "        return self.price + other.price\n",
    "\n",
    "    \n",
    "myPhone1 = Phone(\"B\",\"M\",30000)\n",
    "myPhone2 = Phone(\"B\",\"M\",32000)\n",
    "\n",
    "print(myPhone1+myPhone2)"
   ]
  },
  {
   "cell_type": "code",
   "execution_count": 25,
   "metadata": {},
   "outputs": [
    {
     "name": "stdout",
     "output_type": "stream",
     "text": [
      "960000000\n"
     ]
    }
   ],
   "source": [
    "class Phone:\n",
    "    def __init__(self,brand,model,price):\n",
    "        self.brand = brand\n",
    "        self.model = model\n",
    "        self.price = price\n",
    "\n",
    "    def phone_name(self):\n",
    "        return f\"{self.brand} {self.model}\"\n",
    "    \n",
    "    def __mul__(self,other):\n",
    "        return self.price * other.price\n",
    "\n",
    "    \n",
    "myPhone1 = Phone(\"B\",\"M\",30000)\n",
    "myPhone2 = Phone(\"B\",\"M\",32000)\n",
    "\n",
    "print(myPhone1 * myPhone2)"
   ]
  },
  {
   "cell_type": "code",
   "execution_count": null,
   "metadata": {},
   "outputs": [],
   "source": []
  },
  {
   "cell_type": "markdown",
   "metadata": {},
   "source": [
    "# POLYMORPHISM"
   ]
  },
  {
   "cell_type": "markdown",
   "metadata": {},
   "source": [
    "* Method Overriding\n",
    "* Operator Overloading "
   ]
  },
  {
   "cell_type": "code",
   "execution_count": null,
   "metadata": {},
   "outputs": [],
   "source": []
  }
 ],
 "metadata": {
  "kernelspec": {
   "display_name": "python12",
   "language": "python",
   "name": "python3"
  },
  "language_info": {
   "codemirror_mode": {
    "name": "ipython",
    "version": 3
   },
   "file_extension": ".py",
   "mimetype": "text/x-python",
   "name": "python",
   "nbconvert_exporter": "python",
   "pygments_lexer": "ipython3",
   "version": "3.12.0"
  }
 },
 "nbformat": 4,
 "nbformat_minor": 2
}
