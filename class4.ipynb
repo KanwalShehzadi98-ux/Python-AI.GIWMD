{
  "nbformat": 4,
  "nbformat_minor": 0,
  "metadata": {
    "colab": {
      "provenance": []
    },
    "kernelspec": {
      "name": "python3",
      "display_name": "Python 3"
    },
    "language_info": {
      "name": "python"
    }
  },
  "cells": [
    {
      "cell_type": "code",
      "execution_count": null,
      "metadata": {
        "id": "_frpR_r6VcbU"
      },
      "outputs": [],
      "source": []
    },
    {
      "cell_type": "markdown",
      "source": [
        "<img src=\"https://miro.medium.com/v2/resize:fit:820/1*Bx2CVgoDxRk4ud85UzS4xA.png\">"
      ],
      "metadata": {
        "id": "k5NOzKJQWhtQ"
      }
    },
    {
      "cell_type": "markdown",
      "source": [
        "**List**\n",
        "* Dynamic Length(You can add as many variables as you want)\n",
        "* Heterogeneous data types (Multiple data types)\n",
        "* index\n",
        "     * Positive (0 to n-1)\n",
        "     * Negative (-1 to 0)\n",
        "* Slicing\n",
        "     * Start\n",
        "     * End\n",
        "     * Step"
      ],
      "metadata": {
        "id": "52Mq3d9oXM4R"
      }
    },
    {
      "cell_type": "code",
      "source": [
        "names = ['Kanwal',\"Mishal\",\"Aown\"]"
      ],
      "metadata": {
        "id": "2DYxobQmWbfP"
      },
      "execution_count": null,
      "outputs": []
    },
    {
      "cell_type": "code",
      "source": [
        "names[2]"
      ],
      "metadata": {
        "colab": {
          "base_uri": "https://localhost:8080/",
          "height": 36
        },
        "id": "JQxAu2paXLVo",
        "outputId": "39d94de1-05b1-4e18-b1ba-3a50db0b36fa"
      },
      "execution_count": null,
      "outputs": [
        {
          "output_type": "execute_result",
          "data": {
            "text/plain": [
              "'Aown'"
            ],
            "application/vnd.google.colaboratory.intrinsic+json": {
              "type": "string"
            }
          },
          "metadata": {},
          "execution_count": 3
        }
      ]
    },
    {
      "cell_type": "code",
      "source": [
        "names[-1]"
      ],
      "metadata": {
        "colab": {
          "base_uri": "https://localhost:8080/",
          "height": 36
        },
        "id": "i2HnLdGQYFVA",
        "outputId": "56586376-4b04-4f3f-b95e-0f4730651e82"
      },
      "execution_count": null,
      "outputs": [
        {
          "output_type": "execute_result",
          "data": {
            "text/plain": [
              "'Aown'"
            ],
            "application/vnd.google.colaboratory.intrinsic+json": {
              "type": "string"
            }
          },
          "metadata": {},
          "execution_count": 4
        }
      ]
    },
    {
      "cell_type": "code",
      "source": [
        "from typing import Any\n",
        "\n",
        "names : list[Any] = [\"kanwal\",12,4.5]\n",
        "print(names[0].upper())"
      ],
      "metadata": {
        "colab": {
          "base_uri": "https://localhost:8080/"
        },
        "id": "B1kA0nH5YGzO",
        "outputId": "8f8f39e7-f5c0-4ce5-b497-6ed01ec07d10"
      },
      "execution_count": null,
      "outputs": [
        {
          "output_type": "stream",
          "name": "stdout",
          "text": [
            "KANWAL\n"
          ]
        }
      ]
    },
    {
      "cell_type": "code",
      "source": [
        "characters : list[str] = [\"ABCDEFGHIJKLMNOPQRSTUVWXYZ\"]\n",
        "characters"
      ],
      "metadata": {
        "colab": {
          "base_uri": "https://localhost:8080/"
        },
        "id": "mFmjZfBcaFIj",
        "outputId": "74524a30-b0c5-4833-b4bc-e635591f425d"
      },
      "execution_count": null,
      "outputs": [
        {
          "output_type": "execute_result",
          "data": {
            "text/plain": [
              "['ABCDEFGHIJKLMNOPQRSTUVWXYZ']"
            ]
          },
          "metadata": {},
          "execution_count": 15
        }
      ]
    },
    {
      "cell_type": "code",
      "source": [
        "characters : list[str] = list(\"ABCDEFGHIJKLMNOPQRSTUVWXYZ\")\n",
        "characters"
      ],
      "metadata": {
        "colab": {
          "base_uri": "https://localhost:8080/"
        },
        "id": "iMBTS3zDcIcV",
        "outputId": "6848fb87-975e-4fe0-83a9-6b70cac72484"
      },
      "execution_count": null,
      "outputs": [
        {
          "output_type": "execute_result",
          "data": {
            "text/plain": [
              "['A',\n",
              " 'B',\n",
              " 'C',\n",
              " 'D',\n",
              " 'E',\n",
              " 'F',\n",
              " 'G',\n",
              " 'H',\n",
              " 'I',\n",
              " 'J',\n",
              " 'K',\n",
              " 'L',\n",
              " 'M',\n",
              " 'N',\n",
              " 'O',\n",
              " 'P',\n",
              " 'Q',\n",
              " 'R',\n",
              " 'S',\n",
              " 'T',\n",
              " 'U',\n",
              " 'V',\n",
              " 'W',\n",
              " 'X',\n",
              " 'Y',\n",
              " 'Z']"
            ]
          },
          "metadata": {},
          "execution_count": 17
        }
      ]
    },
    {
      "cell_type": "code",
      "source": [
        "characters[2:10:2]"
      ],
      "metadata": {
        "colab": {
          "base_uri": "https://localhost:8080/"
        },
        "id": "r4vpPbiCchnQ",
        "outputId": "8f0bf226-31d2-4e72-a399-d12b066a8b9d"
      },
      "execution_count": null,
      "outputs": [
        {
          "output_type": "execute_result",
          "data": {
            "text/plain": [
              "['C', 'E', 'G', 'I']"
            ]
          },
          "metadata": {},
          "execution_count": 18
        }
      ]
    },
    {
      "cell_type": "code",
      "source": [
        "characters[:2]"
      ],
      "metadata": {
        "colab": {
          "base_uri": "https://localhost:8080/"
        },
        "id": "MMDcg_gdc8D6",
        "outputId": "00b4e54a-86f9-4000-eebf-30de2690d5c6"
      },
      "execution_count": null,
      "outputs": [
        {
          "output_type": "execute_result",
          "data": {
            "text/plain": [
              "['A', 'B']"
            ]
          },
          "metadata": {},
          "execution_count": 20
        }
      ]
    },
    {
      "cell_type": "code",
      "source": [
        "characters[-26:-24]"
      ],
      "metadata": {
        "colab": {
          "base_uri": "https://localhost:8080/"
        },
        "id": "pWLkCgOidann",
        "outputId": "6ab1b70d-029c-4a52-b381-57bb02efcaf4"
      },
      "execution_count": null,
      "outputs": [
        {
          "output_type": "execute_result",
          "data": {
            "text/plain": [
              "['A', 'B']"
            ]
          },
          "metadata": {},
          "execution_count": 21
        }
      ]
    },
    {
      "cell_type": "code",
      "source": [
        "characters[0::1]"
      ],
      "metadata": {
        "colab": {
          "base_uri": "https://localhost:8080/"
        },
        "id": "pBowA1zJdzlx",
        "outputId": "12fea698-b1af-4ec1-ad8d-10c2cff10ce8"
      },
      "execution_count": null,
      "outputs": [
        {
          "output_type": "execute_result",
          "data": {
            "text/plain": [
              "['A',\n",
              " 'B',\n",
              " 'C',\n",
              " 'D',\n",
              " 'E',\n",
              " 'F',\n",
              " 'G',\n",
              " 'H',\n",
              " 'I',\n",
              " 'J',\n",
              " 'K',\n",
              " 'L',\n",
              " 'M',\n",
              " 'N',\n",
              " 'O',\n",
              " 'P',\n",
              " 'Q',\n",
              " 'R',\n",
              " 'S',\n",
              " 'T',\n",
              " 'U',\n",
              " 'V',\n",
              " 'W',\n",
              " 'X',\n",
              " 'Y',\n",
              " 'Z']"
            ]
          },
          "metadata": {},
          "execution_count": 22
        }
      ]
    },
    {
      "cell_type": "code",
      "source": [
        "#slicing main last wala include nhi hota"
      ],
      "metadata": {
        "id": "kKkbF97keMAy"
      },
      "execution_count": null,
      "outputs": []
    },
    {
      "cell_type": "code",
      "source": [
        "characters[::2]"
      ],
      "metadata": {
        "colab": {
          "base_uri": "https://localhost:8080/"
        },
        "id": "X9R1Hcs3ex92",
        "outputId": "96354b46-92c3-4638-a14f-e24ccec147ee"
      },
      "execution_count": null,
      "outputs": [
        {
          "output_type": "execute_result",
          "data": {
            "text/plain": [
              "['A', 'C', 'E', 'G', 'I', 'K', 'M', 'O', 'Q', 'S', 'U', 'W', 'Y']"
            ]
          },
          "metadata": {},
          "execution_count": 24
        }
      ]
    },
    {
      "cell_type": "code",
      "source": [
        "characters[::-1]"
      ],
      "metadata": {
        "colab": {
          "base_uri": "https://localhost:8080/"
        },
        "id": "cLf3dS_be2au",
        "outputId": "7e0cfc04-5bf8-4691-d514-c60079f1c345"
      },
      "execution_count": null,
      "outputs": [
        {
          "output_type": "execute_result",
          "data": {
            "text/plain": [
              "['Z',\n",
              " 'Y',\n",
              " 'X',\n",
              " 'W',\n",
              " 'V',\n",
              " 'U',\n",
              " 'T',\n",
              " 'S',\n",
              " 'R',\n",
              " 'Q',\n",
              " 'P',\n",
              " 'O',\n",
              " 'N',\n",
              " 'M',\n",
              " 'L',\n",
              " 'K',\n",
              " 'J',\n",
              " 'I',\n",
              " 'H',\n",
              " 'G',\n",
              " 'F',\n",
              " 'E',\n",
              " 'D',\n",
              " 'C',\n",
              " 'B',\n",
              " 'A']"
            ]
          },
          "metadata": {},
          "execution_count": 25
        }
      ]
    },
    {
      "cell_type": "code",
      "source": [
        "characters[::-2]"
      ],
      "metadata": {
        "colab": {
          "base_uri": "https://localhost:8080/"
        },
        "id": "Ld_0uIEGe_WZ",
        "outputId": "2987ecde-9b3a-4862-9966-30bb5dddb749"
      },
      "execution_count": null,
      "outputs": [
        {
          "output_type": "execute_result",
          "data": {
            "text/plain": [
              "['Z', 'X', 'V', 'T', 'R', 'P', 'N', 'L', 'J', 'H', 'F', 'D', 'B']"
            ]
          },
          "metadata": {},
          "execution_count": 36
        }
      ]
    },
    {
      "cell_type": "code",
      "source": [
        "characters[::]"
      ],
      "metadata": {
        "colab": {
          "base_uri": "https://localhost:8080/"
        },
        "id": "nvU2bub0fE4M",
        "outputId": "56c4d956-2760-4e3b-ec19-39c0e644a258"
      },
      "execution_count": null,
      "outputs": [
        {
          "output_type": "execute_result",
          "data": {
            "text/plain": [
              "['A',\n",
              " 'B',\n",
              " 'C',\n",
              " 'D',\n",
              " 'E',\n",
              " 'F',\n",
              " 'G',\n",
              " 'H',\n",
              " 'I',\n",
              " 'J',\n",
              " 'K',\n",
              " 'L',\n",
              " 'M',\n",
              " 'N',\n",
              " 'O',\n",
              " 'P',\n",
              " 'Q',\n",
              " 'R',\n",
              " 'S',\n",
              " 'T',\n",
              " 'U',\n",
              " 'V',\n",
              " 'W',\n",
              " 'X',\n",
              " 'Y',\n",
              " 'Z']"
            ]
          },
          "metadata": {},
          "execution_count": 28
        }
      ]
    },
    {
      "cell_type": "code",
      "source": [
        "myList : str = list('ABCDEFGH')\n",
        "print(myList)"
      ],
      "metadata": {
        "colab": {
          "base_uri": "https://localhost:8080/"
        },
        "id": "jSdml9xngJMt",
        "outputId": "44602da9-c546-453d-ce5f-afbc719b6b7a"
      },
      "execution_count": null,
      "outputs": [
        {
          "output_type": "stream",
          "name": "stdout",
          "text": [
            "['A', 'B', 'C', 'D', 'E', 'F', 'G', 'H']\n"
          ]
        }
      ]
    },
    {
      "cell_type": "code",
      "source": [
        "myList[1:-3]"
      ],
      "metadata": {
        "colab": {
          "base_uri": "https://localhost:8080/"
        },
        "id": "PM8IIp3XgbdD",
        "outputId": "f6084f1f-8278-41ce-ad33-ff667629a8ff"
      },
      "execution_count": null,
      "outputs": [
        {
          "output_type": "execute_result",
          "data": {
            "text/plain": [
              "['B', 'C', 'D', 'E']"
            ]
          },
          "metadata": {},
          "execution_count": 31
        }
      ]
    },
    {
      "cell_type": "code",
      "source": [
        "myList[-1:-5]"
      ],
      "metadata": {
        "colab": {
          "base_uri": "https://localhost:8080/"
        },
        "id": "K2wWf9iOhQUu",
        "outputId": "d83cb652-0e88-4b7b-ec1c-485bc5cca115"
      },
      "execution_count": null,
      "outputs": [
        {
          "output_type": "execute_result",
          "data": {
            "text/plain": [
              "[]"
            ]
          },
          "metadata": {},
          "execution_count": 34
        }
      ]
    },
    {
      "cell_type": "code",
      "source": [
        "myList[-1:-5:-1]"
      ],
      "metadata": {
        "colab": {
          "base_uri": "https://localhost:8080/"
        },
        "id": "SCBP8RTIh2YY",
        "outputId": "272d1aef-af99-4939-a08a-ff60d0422d05"
      },
      "execution_count": null,
      "outputs": [
        {
          "output_type": "execute_result",
          "data": {
            "text/plain": [
              "['H', 'G', 'F', 'E']"
            ]
          },
          "metadata": {},
          "execution_count": 37
        }
      ]
    },
    {
      "cell_type": "code",
      "source": [
        "myList[-1:5:-1]"
      ],
      "metadata": {
        "colab": {
          "base_uri": "https://localhost:8080/"
        },
        "id": "zntc4woqjDEi",
        "outputId": "c7f13d8d-4d82-434b-aa77-484d04347400"
      },
      "execution_count": null,
      "outputs": [
        {
          "output_type": "execute_result",
          "data": {
            "text/plain": [
              "['H', 'G']"
            ]
          },
          "metadata": {},
          "execution_count": 38
        }
      ]
    },
    {
      "cell_type": "markdown",
      "source": [
        "# **LIST METHODS**"
      ],
      "metadata": {
        "id": "NllUisRkkvev"
      }
    },
    {
      "cell_type": "code",
      "source": [
        "#List is mutable"
      ],
      "metadata": {
        "id": "F1E92503jHzx"
      },
      "execution_count": null,
      "outputs": []
    },
    {
      "cell_type": "code",
      "source": [
        "myList : str = [\"A\",\"C\",45,23.0]\n",
        "print(myList)"
      ],
      "metadata": {
        "colab": {
          "base_uri": "https://localhost:8080/"
        },
        "id": "3xqdc_DQlAKq",
        "outputId": "02917bff-6d03-4c36-d526-cceef0f880bf"
      },
      "execution_count": null,
      "outputs": [
        {
          "output_type": "stream",
          "name": "stdout",
          "text": [
            "['A', 'C', 45, 23.0]\n"
          ]
        }
      ]
    },
    {
      "cell_type": "code",
      "source": [
        "myList.append('Kanwal')"
      ],
      "metadata": {
        "id": "ZrT0dpIwlH_7"
      },
      "execution_count": null,
      "outputs": []
    },
    {
      "cell_type": "code",
      "source": [
        "[i for i in dir(list) if '__' not in i]"
      ],
      "metadata": {
        "colab": {
          "base_uri": "https://localhost:8080/"
        },
        "id": "JfnH-PDjlOFS",
        "outputId": "5d1334c8-97cc-4c60-bfa8-7e62db8db6ea"
      },
      "execution_count": null,
      "outputs": [
        {
          "output_type": "execute_result",
          "data": {
            "text/plain": [
              "['__add__',\n",
              " '__class__',\n",
              " '__class_getitem__',\n",
              " '__contains__',\n",
              " '__delattr__',\n",
              " '__delitem__',\n",
              " '__dir__',\n",
              " '__doc__',\n",
              " '__eq__',\n",
              " '__format__',\n",
              " '__ge__',\n",
              " '__getattribute__',\n",
              " '__getitem__',\n",
              " '__gt__',\n",
              " '__hash__',\n",
              " '__iadd__',\n",
              " '__imul__',\n",
              " '__init__',\n",
              " '__init_subclass__',\n",
              " '__iter__',\n",
              " '__le__',\n",
              " '__len__',\n",
              " '__lt__',\n",
              " '__mul__',\n",
              " '__ne__',\n",
              " '__new__',\n",
              " '__reduce__',\n",
              " '__reduce_ex__',\n",
              " '__repr__',\n",
              " '__reversed__',\n",
              " '__rmul__',\n",
              " '__setattr__',\n",
              " '__setitem__',\n",
              " '__sizeof__',\n",
              " '__str__',\n",
              " '__subclasshook__',\n",
              " 'append',\n",
              " 'clear',\n",
              " 'copy',\n",
              " 'count',\n",
              " 'extend',\n",
              " 'index',\n",
              " 'insert',\n",
              " 'pop',\n",
              " 'remove',\n",
              " 'reverse',\n",
              " 'sort']"
            ]
          },
          "metadata": {},
          "execution_count": 42
        }
      ]
    },
    {
      "cell_type": "code",
      "source": [
        "del_names = del[myList[3]]"
      ],
      "metadata": {
        "id": "2kvdL6o-lW7X"
      },
      "execution_count": null,
      "outputs": []
    },
    {
      "cell_type": "code",
      "source": [
        "del_names"
      ],
      "metadata": {
        "id": "ICtwUxmznBFJ"
      },
      "execution_count": null,
      "outputs": []
    },
    {
      "cell_type": "markdown",
      "source": [
        "# **Help** <br>\n",
        "help(object) <br>object? <br>object?? <br>?object <br>??object"
      ],
      "metadata": {
        "id": "ihVAUDUuoJv2"
      }
    },
    {
      "cell_type": "markdown",
      "source": [
        "**APPEND**"
      ],
      "metadata": {
        "id": "wMmoNzEiqxui"
      }
    },
    {
      "cell_type": "code",
      "source": [
        "myList : str = []\n",
        "myList.append(\"Kanwal\")\n",
        "myList"
      ],
      "metadata": {
        "id": "zKikZ9SnnCa1"
      },
      "execution_count": null,
      "outputs": []
    },
    {
      "cell_type": "markdown",
      "source": [
        "**POP**"
      ],
      "metadata": {
        "id": "7WaRHQ7wq2z-"
      }
    },
    {
      "cell_type": "code",
      "source": [
        "myList : str = [1,2,3,4,5]\n",
        "a = myList.pop()\n",
        "a"
      ],
      "metadata": {
        "id": "vT7MUf66qsCZ"
      },
      "execution_count": null,
      "outputs": []
    },
    {
      "cell_type": "code",
      "source": [
        "myList : str = [1,2,3,4,5]\n",
        "a = myList.pop(0)\n",
        "a"
      ],
      "metadata": {
        "id": "dL-Fdy-Bq_Ou"
      },
      "execution_count": null,
      "outputs": []
    },
    {
      "cell_type": "markdown",
      "source": [
        "**DEL**"
      ],
      "metadata": {
        "id": "OkkFt3HprpzN"
      }
    },
    {
      "cell_type": "code",
      "source": [
        "myList : str = [1,2,3,4,5]\n",
        "del myList[3]\n",
        "# does not return any value even if it is assigned to a variable"
      ],
      "metadata": {
        "id": "azR57b9vrrvT"
      },
      "execution_count": null,
      "outputs": []
    },
    {
      "cell_type": "markdown",
      "source": [
        "**INSERT**"
      ],
      "metadata": {
        "id": "DYnQyW63r4yB"
      }
    },
    {
      "cell_type": "code",
      "source": [
        "myList : str = [1,2,3,4,5]\n",
        "myList.insert(0,\"Kanwal\")\n",
        "myList"
      ],
      "metadata": {
        "id": "H0WshVzjrwb7"
      },
      "execution_count": null,
      "outputs": []
    },
    {
      "cell_type": "markdown",
      "source": [
        "**CLEAR**"
      ],
      "metadata": {
        "id": "VdqoDQcfsg2Y"
      }
    },
    {
      "cell_type": "code",
      "source": [
        "myList : str = [1,2,3,4,5]\n",
        "myList.clear()\n",
        "myList"
      ],
      "metadata": {
        "id": "QCJg-QA9sWE8"
      },
      "execution_count": null,
      "outputs": []
    },
    {
      "cell_type": "markdown",
      "source": [
        "**PROBLEM**"
      ],
      "metadata": {
        "id": "5I2EwlFmvYGD"
      }
    },
    {
      "cell_type": "markdown",
      "source": [
        "**COPY**"
      ],
      "metadata": {
        "id": "syyFLl-f0SM0"
      }
    },
    {
      "cell_type": "code",
      "source": [
        "a : list[str] = ['a','b','c']\n",
        "b = a  #shallow copy\n",
        "\n",
        "print(a)\n",
        "print(b)\n",
        "\n",
        "b[0] = \"Pakistan\"\n",
        "\n",
        "print(a)\n",
        "print(b)\n",
        "\n"
      ],
      "metadata": {
        "id": "HzUqF-3FslT_"
      },
      "execution_count": null,
      "outputs": []
    },
    {
      "cell_type": "markdown",
      "source": [
        "**SOLUTION**"
      ],
      "metadata": {
        "id": "UKYQbNBzvz1x"
      }
    },
    {
      "cell_type": "code",
      "source": [
        "a : list[str] = ['a','b','c']\n",
        "b = a.copy()  #deep copy\n",
        "\n",
        "print(a)\n",
        "print(b)\n",
        "\n",
        "b[0] = \"Pakistan\"\n",
        "\n",
        "print(a)\n",
        "print(b)\n",
        "\n"
      ],
      "metadata": {
        "id": "k6GnOS7rvrNH"
      },
      "execution_count": null,
      "outputs": []
    },
    {
      "cell_type": "markdown",
      "source": [
        "**COUNT**"
      ],
      "metadata": {
        "id": "e1r-JndRw76M"
      }
    },
    {
      "cell_type": "code",
      "source": [
        "a : list[str] = ['a','a','a','c','c','d']\n",
        "a.count(a)"
      ],
      "metadata": {
        "id": "HwaFP-A_v7Ow"
      },
      "execution_count": null,
      "outputs": []
    },
    {
      "cell_type": "markdown",
      "source": [
        "**PROBLEM**"
      ],
      "metadata": {
        "id": "8-m535vn0KQe"
      }
    },
    {
      "cell_type": "markdown",
      "source": [
        "**EXTEND**"
      ],
      "metadata": {
        "id": "6hYv2aTLxQvn"
      }
    },
    {
      "cell_type": "code",
      "source": [
        "mylist1 : list[str] = [\"Kanwal\",\"Shehzadi\"]\n",
        "mylist2 : list[str] = [\"Aown\",\"Abbas\"]\n",
        "mylist1.append(mylist2)\n"
      ],
      "metadata": {
        "id": "WEE1uWY-xIA8"
      },
      "execution_count": null,
      "outputs": []
    },
    {
      "cell_type": "markdown",
      "source": [
        "**SOLUTION**"
      ],
      "metadata": {
        "id": "SG4R4Mvc0N6h"
      }
    },
    {
      "cell_type": "code",
      "source": [
        "mylist1 : list[str] = [\"Kanwal\",\"Shehzadi\"]\n",
        "mylist2 : list[str] = [\"Aown\",\"Abbas\"]\n",
        "mylist1.extend(mylist2)"
      ],
      "metadata": {
        "id": "STf_rpYey8MY"
      },
      "execution_count": null,
      "outputs": []
    },
    {
      "cell_type": "markdown",
      "source": [
        "**REMOVE**"
      ],
      "metadata": {
        "id": "_CxZ01do1Xgf"
      }
    },
    {
      "cell_type": "code",
      "source": [
        "mylist1 : list[str] = [\"Kanwal\",\"Shehzadi\"]\n",
        "mylist1.remove('Kanwal')"
      ],
      "metadata": {
        "id": "WyXsSqGO1mIB"
      },
      "execution_count": null,
      "outputs": []
    },
    {
      "cell_type": "markdown",
      "source": [
        "**INDEX**"
      ],
      "metadata": {
        "id": "ex6rDcNl11Av"
      }
    },
    {
      "cell_type": "code",
      "source": [
        "mylist1 : list[str] = [\"Kanwal\",\"Shehzadi\"]\n",
        "mylist1.index(\"Kanwal\")"
      ],
      "metadata": {
        "id": "lXqMcQTb1spZ"
      },
      "execution_count": null,
      "outputs": []
    },
    {
      "cell_type": "code",
      "source": [
        "mylist1 : list[str] = [\"Kanwal\",\"Shehzadi\",\"Kanwal\"]\n",
        "mylist1.index(\"Kanwal\",2)"
      ],
      "metadata": {
        "id": "5RbJIwOR2AWj"
      },
      "execution_count": null,
      "outputs": []
    },
    {
      "cell_type": "markdown",
      "source": [
        "**REVERSE**"
      ],
      "metadata": {
        "id": "NLSpXVE83Nqo"
      }
    },
    {
      "cell_type": "code",
      "source": [
        "mylist1 : list[str] = [\"A\",\"B\",\"C\"]\n",
        "mylist1.reverse()"
      ],
      "metadata": {
        "id": "DT55-dgQ2zBY"
      },
      "execution_count": null,
      "outputs": []
    },
    {
      "cell_type": "markdown",
      "source": [
        "**SORT**"
      ],
      "metadata": {
        "id": "rtEDGf2i3ijE"
      }
    },
    {
      "cell_type": "code",
      "source": [
        "mylist1 : list[str] = [\"U\",\"Z\",\"E\"]\n",
        "mylist1.sort() #sorts in ascending order"
      ],
      "metadata": {
        "id": "Q29xJdOr3kKz"
      },
      "execution_count": null,
      "outputs": []
    },
    {
      "cell_type": "code",
      "source": [
        "mylist1 : list[str] = [\"U\",\"Z\",\"E\"]\n",
        "mylist1.sort(reverse = True) #sorts in descending order"
      ],
      "metadata": {
        "id": "08p5Iufr4dV3"
      },
      "execution_count": null,
      "outputs": []
    },
    {
      "cell_type": "markdown",
      "source": [
        "**Index out of range error**"
      ],
      "metadata": {
        "id": "8TymexUs6ETg"
      }
    },
    {
      "cell_type": "code",
      "source": [
        "mylist1 : list[str] = [\"U\",\"Z\",\"E\"]\n",
        "mylist1[5]"
      ],
      "metadata": {
        "id": "NK43_my_6HMX"
      },
      "execution_count": null,
      "outputs": []
    },
    {
      "cell_type": "code",
      "source": [],
      "metadata": {
        "id": "ghCqYUZZ6KgX"
      },
      "execution_count": null,
      "outputs": []
    }
  ]
}