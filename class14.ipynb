{
  "cells": [
    {
      "cell_type": "markdown",
      "metadata": {
        "id": "uuslq4shcZqm"
      },
      "source": [
        "**MULTIPLE INHERITANCE**"
      ]
    },
    {
      "cell_type": "code",
      "execution_count": null,
      "metadata": {
        "colab": {
          "background_save": true,
          "base_uri": "https://localhost:8080/",
          "height": 345
        },
        "id": "5axwxffMZbx7",
        "outputId": "b95b8b08-4b68-4a85-deb0-193dd560f643"
      },
      "outputs": [
        {
          "name": "stdout",
          "output_type": "stream",
          "text": [
            "Kanwal\n"
          ]
        }
      ],
      "source": [
        "class Mother:\n",
        "  def __init__(self,name : str) -> None:\n",
        "    self.name : str = name\n",
        "    self.eye_color : str = \"Blue\"\n",
        "\n",
        "  def speaking(self,words : str) -> str:\n",
        "    return \"Mother speaking Function\"\n",
        "\n",
        "class Father():\n",
        "  def __init__(self,name : str) -> None:\n",
        "    self.name : str = name\n",
        "    self.height : str = \"5 Feet\"\n",
        "\n",
        "class Child(Mother,Father):\n",
        "  def __init__(self,mother_name : str,father_name : name,child_name : str):\n",
        "    Mother.__init__(self,mother_name)\n",
        "    Father.__init__(self,father_name)\n",
        "    self.child_name = child_name\n",
        "\n",
        "obj = Child(\"M\",\"F\",\"Kanwal\")\n",
        "print(obj.child_name)"
      ]
    },
    {
      "cell_type": "code",
      "execution_count": null,
      "metadata": {
        "id": "-4cY7HEXcux1"
      },
      "outputs": [],
      "source": []
    }
  ],
  "metadata": {
    "colab": {
      "provenance": []
    },
    "kernelspec": {
      "display_name": "Python 3",
      "name": "python3"
    },
    "language_info": {
      "name": "python"
    }
  },
  "nbformat": 4,
  "nbformat_minor": 0
}