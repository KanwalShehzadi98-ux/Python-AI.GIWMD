{
  "nbformat": 4,
  "nbformat_minor": 0,
  "metadata": {
    "colab": {
      "provenance": []
    },
    "kernelspec": {
      "name": "python3",
      "display_name": "Python 3"
    },
    "language_info": {
      "name": "python"
    }
  },
  "cells": [
    {
      "cell_type": "markdown",
      "source": [
        "### **DICTIONARY**\n",
        "ORDERED - INDEXED(KEYED) - MUTABLE - ALLOW DUPLICATES"
      ],
      "metadata": {
        "id": "noIpCN6ejEMm"
      }
    },
    {
      "cell_type": "code",
      "source": [
        "from typing import Dict\n",
        "data : Dict[str,str] = {\"fname\":\"Muhammad Fayyaz\",\n",
        "                        \"name\":\"Kanwal\",\n",
        "                        \"education\":\"BSE\"}\n"
      ],
      "metadata": {
        "id": "xkkpEgwQjKNs"
      },
      "execution_count": null,
      "outputs": []
    },
    {
      "cell_type": "code",
      "source": [
        "data[\"fname\"]"
      ],
      "metadata": {
        "colab": {
          "base_uri": "https://localhost:8080/",
          "height": 36
        },
        "id": "9MKmnazmjrIn",
        "outputId": "24f17c5d-b1c1-43b7-c6b5-c294b380b3da"
      },
      "execution_count": null,
      "outputs": [
        {
          "output_type": "execute_result",
          "data": {
            "text/plain": [
              "'Muhammad Fayyaz'"
            ],
            "application/vnd.google.colaboratory.intrinsic+json": {
              "type": "string"
            }
          },
          "metadata": {},
          "execution_count": 2
        }
      ]
    },
    {
      "cell_type": "code",
      "source": [
        "data[\"gpa\"] = \"3.98\""
      ],
      "metadata": {
        "id": "UkpPLg8XjzDw"
      },
      "execution_count": null,
      "outputs": []
    },
    {
      "cell_type": "code",
      "source": [
        "data"
      ],
      "metadata": {
        "colab": {
          "base_uri": "https://localhost:8080/"
        },
        "id": "Cyo7j14Nj3dG",
        "outputId": "af11cf66-5109-4c71-c028-679aaea33a89"
      },
      "execution_count": null,
      "outputs": [
        {
          "output_type": "execute_result",
          "data": {
            "text/plain": [
              "{'fname': 'Muhammad Fayyaz',\n",
              " 'name': 'Kanwal',\n",
              " 'education': 'BSE',\n",
              " 'gpa': '3.98'}"
            ]
          },
          "metadata": {},
          "execution_count": 4
        }
      ]
    },
    {
      "cell_type": "code",
      "source": [
        "import pprint # for pretty print\n",
        "pprint.pprint(data)"
      ],
      "metadata": {
        "colab": {
          "base_uri": "https://localhost:8080/"
        },
        "id": "7WDdL3nKj5ef",
        "outputId": "a9e407f9-bd87-4784-b6d0-0dc40e686952"
      },
      "execution_count": null,
      "outputs": [
        {
          "output_type": "stream",
          "name": "stdout",
          "text": [
            "{'education': 'BSE',\n",
            " 'fname': 'Muhammad Fayyaz',\n",
            " 'gpa': '3.98',\n",
            " 'name': 'Kanwal'}\n"
          ]
        }
      ]
    },
    {
      "cell_type": "code",
      "source": [
        "from typing import Dict,Union\n",
        "from pprint import pprint\n",
        "key = Union[int,str]\n",
        "values = Union[int,str,list,dict,tuple,set]\n",
        "data : Dict[key,values] = {\"fname\":\"Muhammad Fayyaz\",\n",
        "                        \"name\":\"Kanwal\",\n",
        "                        \"education\":\"BSE\"}\n",
        "pprint(data)\n",
        "\n"
      ],
      "metadata": {
        "colab": {
          "base_uri": "https://localhost:8080/"
        },
        "id": "AYBTtP8skPzn",
        "outputId": "d7bb985c-ff08-471e-bf3b-40e07d168d96"
      },
      "execution_count": null,
      "outputs": [
        {
          "output_type": "stream",
          "name": "stdout",
          "text": [
            "{'education': 'BSE', 'fname': 'Muhammad Fayyaz', 'name': 'Kanwal'}\n"
          ]
        }
      ]
    },
    {
      "cell_type": "code",
      "source": [
        "pprint(data['education'])"
      ],
      "metadata": {
        "colab": {
          "base_uri": "https://localhost:8080/"
        },
        "id": "iR1bi3k5lVrA",
        "outputId": "70e52d3f-0e6c-41d9-fde8-6276567442bd"
      },
      "execution_count": null,
      "outputs": [
        {
          "output_type": "stream",
          "name": "stdout",
          "text": [
            "'BSE'\n"
          ]
        }
      ]
    },
    {
      "cell_type": "code",
      "source": [
        "from typing import Dict,Union\n",
        "from pprint import pprint\n",
        "key = Union[int,str,list]\n",
        "values = Union[int,str,list,dict,tuple,set]\n",
        "data : Dict[key,values] = {\"fname\":\"Muhammad Fayyaz\",\n",
        "                        \"name\":\"Kanwal\",\n",
        "                        \"education\":\"BSE\",\n",
        "                        100 : \"Hundred\"}\n",
        "pprint(data)\n",
        "\n"
      ],
      "metadata": {
        "colab": {
          "base_uri": "https://localhost:8080/"
        },
        "id": "Fw_oNAp6l9i3",
        "outputId": "fdabb7d1-3cb0-4430-a15d-c6d02f8a395a"
      },
      "execution_count": null,
      "outputs": [
        {
          "output_type": "stream",
          "name": "stdout",
          "text": [
            "{100: 'Hundred',\n",
            " 'education': 'BSE',\n",
            " 'fname': 'Muhammad Fayyaz',\n",
            " 'name': 'Kanwal'}\n"
          ]
        }
      ]
    },
    {
      "cell_type": "code",
      "source": [
        "pprint(data[100])"
      ],
      "metadata": {
        "colab": {
          "base_uri": "https://localhost:8080/"
        },
        "id": "ys0iHducmHHQ",
        "outputId": "2ba3acd2-c476-449c-f384-72ea3da43205"
      },
      "execution_count": null,
      "outputs": [
        {
          "output_type": "stream",
          "name": "stdout",
          "text": [
            "'Hundred'\n"
          ]
        }
      ]
    },
    {
      "cell_type": "markdown",
      "source": [
        "**Immutable types:**\n",
        "\n",
        "* int\n",
        "* float\n",
        "* string\n",
        "* tuple\n",
        "\n",
        "**Immutable collection types:**\n",
        "\n",
        "* set\n",
        "\n",
        "These data types are immutable, meaning they cannot be changed after creation. Immutable types are suitable for dictionary keys because they provide a stable hash value, which is necessary for efficient lookups in the dictionary. Lists, dictionaries, and sets are mutable and therefore cannot be used as dictionary keys.\n",
        "\n",
        "\n",
        "\n"
      ],
      "metadata": {
        "id": "4zcGADrSnWMU"
      }
    },
    {
      "cell_type": "code",
      "source": [
        "from typing import Dict\n",
        "data : Dict[str,str] = {\"fname\":\"Muhammad Fayyaz\",\n",
        "                        \"name\":\"Kanwal\",\n",
        "                        \"education\":\"BSE\",\n",
        "                        \"xyz\":{'a':1,'b':2}}\n"
      ],
      "metadata": {
        "id": "D6YbgPWVq-f3"
      },
      "execution_count": null,
      "outputs": []
    },
    {
      "cell_type": "code",
      "source": [
        "data['xyz']['b']"
      ],
      "metadata": {
        "colab": {
          "base_uri": "https://localhost:8080/"
        },
        "id": "pQmsHVflrH9a",
        "outputId": "88b2ac71-957a-4c69-db29-a20110f45016"
      },
      "execution_count": null,
      "outputs": [
        {
          "output_type": "execute_result",
          "data": {
            "text/plain": [
              "2"
            ]
          },
          "metadata": {},
          "execution_count": 23
        }
      ]
    },
    {
      "cell_type": "code",
      "source": [
        "from typing import Dict,Union\n",
        "from pprint import pprint\n",
        "key = Union[int,str,list]\n",
        "values = Union[int,str,list,dict,tuple,set]\n",
        "data : Dict[key,values] = {}\n",
        "data['name'] = \"Kanwal\"\n",
        "data['fname'] = \"Fayyaz\"\n",
        "data['education'] = 'BSE'\n",
        "data\n"
      ],
      "metadata": {
        "colab": {
          "base_uri": "https://localhost:8080/"
        },
        "id": "qnqiA__2sIWV",
        "outputId": "e7db67ce-d827-453e-b038-15ed232e2961"
      },
      "execution_count": null,
      "outputs": [
        {
          "output_type": "execute_result",
          "data": {
            "text/plain": [
              "{'name': 'Kanwal', 'fname': 'Fayyaz', 'education': 'BSE'}"
            ]
          },
          "metadata": {},
          "execution_count": 24
        }
      ]
    },
    {
      "cell_type": "markdown",
      "source": [
        "**DICTIONARY METHODS**"
      ],
      "metadata": {
        "id": "g47NQOWDtDid"
      }
    },
    {
      "cell_type": "code",
      "source": [
        "[i for i in dir(dict) if '__' not in i]"
      ],
      "metadata": {
        "colab": {
          "base_uri": "https://localhost:8080/"
        },
        "id": "uRcxKMxrtG1A",
        "outputId": "39229108-94c0-41d2-8f36-75683bddc1dc"
      },
      "execution_count": null,
      "outputs": [
        {
          "output_type": "execute_result",
          "data": {
            "text/plain": [
              "['clear',\n",
              " 'copy',\n",
              " 'fromkeys',\n",
              " 'get',\n",
              " 'items',\n",
              " 'keys',\n",
              " 'pop',\n",
              " 'popitem',\n",
              " 'setdefault',\n",
              " 'update',\n",
              " 'values']"
            ]
          },
          "metadata": {},
          "execution_count": 27
        }
      ]
    },
    {
      "cell_type": "code",
      "source": [
        "# clear\n",
        "data.clear()\n",
        "data"
      ],
      "metadata": {
        "colab": {
          "base_uri": "https://localhost:8080/"
        },
        "id": "wTosmxWLtWej",
        "outputId": "dad5a26a-592e-4a60-dd25-b3e7d6979a21"
      },
      "execution_count": null,
      "outputs": [
        {
          "output_type": "execute_result",
          "data": {
            "text/plain": [
              "{}"
            ]
          },
          "metadata": {},
          "execution_count": 28
        }
      ]
    },
    {
      "cell_type": "code",
      "source": [
        "#copy\n",
        "from typing import Dict\n",
        "data1 : Dict[str,str] = {\"fname\":\"Muhammad Fayyaz\",\n",
        "                        \"name\":\"Kanwal\",\n",
        "                        \"education\":\"BSE\",\n",
        "                        \"xyz\":{'a':1,'b':2}}\n",
        "data2 = data1 #shallow copy\n",
        "print(data1)\n",
        "print(data2)\n",
        "\n",
        "data2[\"name\"] = \"Aown\"\n",
        "print(data1)\n",
        "print(data2)\n",
        "\n",
        "\n"
      ],
      "metadata": {
        "colab": {
          "base_uri": "https://localhost:8080/"
        },
        "id": "C5-lzPkdtagJ",
        "outputId": "15eda2c3-3c97-4fe9-b4c1-cad7cc5c39ef"
      },
      "execution_count": null,
      "outputs": [
        {
          "output_type": "stream",
          "name": "stdout",
          "text": [
            "{'fname': 'Muhammad Fayyaz', 'name': 'Kanwal', 'education': 'BSE', 'xyz': {'a': 1, 'b': 2}}\n",
            "{'fname': 'Muhammad Fayyaz', 'name': 'Kanwal', 'education': 'BSE', 'xyz': {'a': 1, 'b': 2}}\n",
            "{'fname': 'Muhammad Fayyaz', 'name': 'Aown', 'education': 'BSE', 'xyz': {'a': 1, 'b': 2}}\n",
            "{'fname': 'Muhammad Fayyaz', 'name': 'Aown', 'education': 'BSE', 'xyz': {'a': 1, 'b': 2}}\n"
          ]
        }
      ]
    },
    {
      "cell_type": "code",
      "source": [
        "from typing import Dict\n",
        "data1 : Dict[str,str] = {\"fname\":\"Muhammad Fayyaz\",\n",
        "                        \"name\":\"Kanwal\",\n",
        "                        \"education\":\"BSE\",\n",
        "                        \"xyz\":{'a':1,'b':2}}\n",
        "data2 = data1.copy() #deep copy\n",
        "print(data1)\n",
        "print(data2)\n",
        "\n",
        "data2[\"name\"] = \"Aown\"\n",
        "print(data1)\n",
        "print(data2)"
      ],
      "metadata": {
        "colab": {
          "base_uri": "https://localhost:8080/"
        },
        "id": "Zh6MXOz1t6eW",
        "outputId": "a4d2f369-e60a-402b-bc9f-79d6028e96b6"
      },
      "execution_count": null,
      "outputs": [
        {
          "output_type": "stream",
          "name": "stdout",
          "text": [
            "{'fname': 'Muhammad Fayyaz', 'name': 'Kanwal', 'education': 'BSE', 'xyz': {'a': 1, 'b': 2}}\n",
            "{'fname': 'Muhammad Fayyaz', 'name': 'Kanwal', 'education': 'BSE', 'xyz': {'a': 1, 'b': 2}}\n",
            "{'fname': 'Muhammad Fayyaz', 'name': 'Kanwal', 'education': 'BSE', 'xyz': {'a': 1, 'b': 2}}\n",
            "{'fname': 'Muhammad Fayyaz', 'name': 'Aown', 'education': 'BSE', 'xyz': {'a': 1, 'b': 2}}\n"
          ]
        }
      ]
    },
    {
      "cell_type": "code",
      "source": [
        "#get\n",
        "print(data['pakistan'])\n",
        "#since our data dictionary does not have the key pakistan soitwill  crash the program for graceful termination we\n",
        "# tend to usethe get method which doesnot cause error"
      ],
      "metadata": {
        "colab": {
          "base_uri": "https://localhost:8080/",
          "height": 234
        },
        "id": "M4bKTe9XuAFc",
        "outputId": "ab97595d-3627-4427-a8b9-6ed2d4ed74c1"
      },
      "execution_count": null,
      "outputs": [
        {
          "output_type": "error",
          "ename": "KeyError",
          "evalue": "'pakistan'",
          "traceback": [
            "\u001b[0;31m---------------------------------------------------------------------------\u001b[0m",
            "\u001b[0;31mKeyError\u001b[0m                                  Traceback (most recent call last)",
            "\u001b[0;32m<ipython-input-32-cbad3297921e>\u001b[0m in \u001b[0;36m<cell line: 2>\u001b[0;34m()\u001b[0m\n\u001b[1;32m      1\u001b[0m \u001b[0;31m#get\u001b[0m\u001b[0;34m\u001b[0m\u001b[0;34m\u001b[0m\u001b[0m\n\u001b[0;32m----> 2\u001b[0;31m \u001b[0mprint\u001b[0m\u001b[0;34m(\u001b[0m\u001b[0mdata\u001b[0m\u001b[0;34m[\u001b[0m\u001b[0;34m'pakistan'\u001b[0m\u001b[0;34m]\u001b[0m\u001b[0;34m)\u001b[0m\u001b[0;34m\u001b[0m\u001b[0;34m\u001b[0m\u001b[0m\n\u001b[0m\u001b[1;32m      3\u001b[0m \u001b[0;31m#since our data dictionary does not have the key pakistan soitwill  crash the program for graceful termination we tend to usethe get method which doesnot cause error\u001b[0m\u001b[0;34m\u001b[0m\u001b[0;34m\u001b[0m\u001b[0m\n",
            "\u001b[0;31mKeyError\u001b[0m: 'pakistan'"
          ]
        }
      ]
    },
    {
      "cell_type": "code",
      "source": [
        "print(data.get('pakistan','Not Available'))"
      ],
      "metadata": {
        "colab": {
          "base_uri": "https://localhost:8080/"
        },
        "id": "jDzQfnhWufRR",
        "outputId": "29c47e0b-f96f-4043-ebc9-2048cbf0955a"
      },
      "execution_count": null,
      "outputs": [
        {
          "output_type": "stream",
          "name": "stdout",
          "text": [
            "Not Available\n"
          ]
        }
      ]
    },
    {
      "cell_type": "code",
      "source": [
        "#items()"
      ],
      "metadata": {
        "id": "AeKJzodev1vD"
      },
      "execution_count": null,
      "outputs": []
    },
    {
      "cell_type": "code",
      "source": [
        "for d in data1: #gives keys\n",
        "  print(d)"
      ],
      "metadata": {
        "colab": {
          "base_uri": "https://localhost:8080/"
        },
        "id": "yyPOxJVmu-T3",
        "outputId": "f30bb720-a489-4a80-aca9-cbbc446b27a2"
      },
      "execution_count": null,
      "outputs": [
        {
          "output_type": "stream",
          "name": "stdout",
          "text": [
            "fname\n",
            "name\n",
            "education\n",
            "xyz\n"
          ]
        }
      ]
    },
    {
      "cell_type": "code",
      "source": [
        "for d in data1: #gives values\n",
        "  print(data1[d])"
      ],
      "metadata": {
        "colab": {
          "base_uri": "https://localhost:8080/"
        },
        "id": "3kEd7mEWwxSv",
        "outputId": "2516b972-3dd3-43ee-bcae-254f74bfe959"
      },
      "execution_count": null,
      "outputs": [
        {
          "output_type": "stream",
          "name": "stdout",
          "text": [
            "Muhammad Fayyaz\n",
            "Aown\n",
            "BSE\n",
            "{'a': 1, 'b': 2}\n"
          ]
        }
      ]
    },
    {
      "cell_type": "code",
      "source": [
        "print(data1.keys()) # gives keys"
      ],
      "metadata": {
        "colab": {
          "base_uri": "https://localhost:8080/"
        },
        "id": "QwTOqP3jvQ6J",
        "outputId": "76a369c0-4f57-4074-8a88-5fb2938cc456"
      },
      "execution_count": null,
      "outputs": [
        {
          "output_type": "stream",
          "name": "stdout",
          "text": [
            "dict_keys(['fname', 'name', 'education', 'xyz'])\n"
          ]
        }
      ]
    },
    {
      "cell_type": "code",
      "source": [
        "print(data1.values()) #gives values"
      ],
      "metadata": {
        "colab": {
          "base_uri": "https://localhost:8080/"
        },
        "id": "i75Fxik2vlL7",
        "outputId": "9958cd1d-f3dd-44f2-d42a-412c66ba502c"
      },
      "execution_count": null,
      "outputs": [
        {
          "output_type": "stream",
          "name": "stdout",
          "text": [
            "dict_values(['Muhammad Fayyaz', 'Kanwal', 'BSE', {'a': 1, 'b': 2}])\n"
          ]
        }
      ]
    },
    {
      "cell_type": "code",
      "source": [
        "# combination of both keys and values is items()\n",
        "\n",
        "print(data1.items())"
      ],
      "metadata": {
        "colab": {
          "base_uri": "https://localhost:8080/"
        },
        "id": "KXmjdsrYvoTG",
        "outputId": "a90fb07e-1ef7-4ce1-96e0-469b90ff01ef"
      },
      "execution_count": null,
      "outputs": [
        {
          "output_type": "stream",
          "name": "stdout",
          "text": [
            "dict_items([('fname', 'Muhammad Fayyaz'), ('name', 'Kanwal'), ('education', 'BSE'), ('xyz', {'a': 1, 'b': 2})])\n"
          ]
        }
      ]
    },
    {
      "cell_type": "code",
      "source": [
        "for k in data1.keys():\n",
        "  print(k,data1[k])"
      ],
      "metadata": {
        "colab": {
          "base_uri": "https://localhost:8080/"
        },
        "id": "WKGPzV83wKuS",
        "outputId": "1ea9d1d2-2fbb-4859-c51a-f25a3dc9e101"
      },
      "execution_count": null,
      "outputs": [
        {
          "output_type": "stream",
          "name": "stdout",
          "text": [
            "fname Muhammad Fayyaz\n",
            "name Aown\n",
            "education BSE\n",
            "xyz {'a': 1, 'b': 2}\n"
          ]
        }
      ]
    },
    {
      "cell_type": "code",
      "source": [
        "for k in data1.values():\n",
        "  print(k)"
      ],
      "metadata": {
        "colab": {
          "base_uri": "https://localhost:8080/"
        },
        "id": "sgDaACvowj11",
        "outputId": "2d32774d-0689-4808-e18a-e08e191313f0"
      },
      "execution_count": null,
      "outputs": [
        {
          "output_type": "stream",
          "name": "stdout",
          "text": [
            "Muhammad Fayyaz\n",
            "Aown\n",
            "BSE\n",
            "{'a': 1, 'b': 2}\n"
          ]
        }
      ]
    },
    {
      "cell_type": "code",
      "source": [
        "for key,value in data1.items():\n",
        "  print(key,value)"
      ],
      "metadata": {
        "colab": {
          "base_uri": "https://localhost:8080/"
        },
        "id": "ysbZj3l0xeXA",
        "outputId": "732a4a42-e8a8-49af-8134-b0db0021d015"
      },
      "execution_count": null,
      "outputs": [
        {
          "output_type": "stream",
          "name": "stdout",
          "text": [
            "fname Muhammad Fayyaz\n",
            "name Aown\n",
            "education BSE\n",
            "xyz {'a': 1, 'b': 2}\n"
          ]
        }
      ]
    },
    {
      "cell_type": "markdown",
      "source": [
        "# **Update**"
      ],
      "metadata": {
        "id": "Aj7cmCZ1soOE"
      }
    },
    {
      "cell_type": "code",
      "source": [
        "data['name'] = \"Kanwal Shehzadi\"\n",
        "data"
      ],
      "metadata": {
        "colab": {
          "base_uri": "https://localhost:8080/"
        },
        "id": "z8mw9tEUsnR3",
        "outputId": "fd2ef9a1-7e1e-484b-eb50-a024870ddca5"
      },
      "execution_count": null,
      "outputs": [
        {
          "output_type": "execute_result",
          "data": {
            "text/plain": [
              "{'name': 'Kanwal Shehzadi', 'fname': 'Fayyaz', 'education': 'BSE'}"
            ]
          },
          "metadata": {},
          "execution_count": 26
        }
      ]
    },
    {
      "cell_type": "markdown",
      "source": [
        "# **Dictionary Comprehension**"
      ],
      "metadata": {
        "id": "OYuHv11bs_Sz"
      }
    },
    {
      "cell_type": "code",
      "source": [
        "{key:value for key,value in data1.items()} #: should be placed between key and value"
      ],
      "metadata": {
        "colab": {
          "base_uri": "https://localhost:8080/"
        },
        "id": "r4A1E1FsyF20",
        "outputId": "610fbf36-3345-4419-e0c4-223212d5a0c4"
      },
      "execution_count": null,
      "outputs": [
        {
          "output_type": "execute_result",
          "data": {
            "text/plain": [
              "{'fname': 'Muhammad Fayyaz',\n",
              " 'name': 'Aown',\n",
              " 'education': 'BSE',\n",
              " 'xyz': {'a': 1, 'b': 2}}"
            ]
          },
          "metadata": {},
          "execution_count": 63
        }
      ]
    },
    {
      "cell_type": "code",
      "source": [
        "{value:key for key,value in data.items()} #: should be placed between key and value"
      ],
      "metadata": {
        "colab": {
          "base_uri": "https://localhost:8080/"
        },
        "id": "DycfgBfjz0uP",
        "outputId": "967ab336-0e01-4be0-b9a2-7a68c2ecb9e5"
      },
      "execution_count": null,
      "outputs": [
        {
          "output_type": "execute_result",
          "data": {
            "text/plain": [
              "{'Muhammad Fayyaz': 'fname', 'Kanwal': 'name', 'BSE': 'education'}"
            ]
          },
          "metadata": {},
          "execution_count": 62
        }
      ]
    },
    {
      "cell_type": "code",
      "source": [
        "#swap\n",
        "\n",
        "a : int = 7\n",
        "b : int = 9\n",
        "\n",
        "a,b = b,a\n",
        "print(a,b)"
      ],
      "metadata": {
        "colab": {
          "base_uri": "https://localhost:8080/"
        },
        "id": "__KOOUyW0Tfb",
        "outputId": "48781a71-de4b-475b-cb61-f74daa8faa91"
      },
      "execution_count": null,
      "outputs": [
        {
          "output_type": "stream",
          "name": "stdout",
          "text": [
            "9 7\n"
          ]
        }
      ]
    },
    {
      "cell_type": "code",
      "source": [
        "#fromkeys\n",
        "keys : list[str] = ['id','name','fname','course']\n",
        "data : dict[key,value] = {}\n",
        "data = data.fromkeys(keys)\n",
        "data"
      ],
      "metadata": {
        "colab": {
          "base_uri": "https://localhost:8080/"
        },
        "id": "eWtVFZgG0ptB",
        "outputId": "4f466bb0-4489-43ff-8e17-4f4a6ba3652a"
      },
      "execution_count": null,
      "outputs": [
        {
          "output_type": "execute_result",
          "data": {
            "text/plain": [
              "{'id': None, 'name': None, 'fname': None, 'course': None}"
            ]
          },
          "metadata": {},
          "execution_count": 67
        }
      ]
    },
    {
      "cell_type": "markdown",
      "source": [
        "**SET**"
      ],
      "metadata": {
        "id": "aQdFl2Rqncud"
      }
    },
    {
      "cell_type": "code",
      "source": [
        "data : set = {7,1,2,1,1,1,1,1,3,2}\n",
        "data"
      ],
      "metadata": {
        "colab": {
          "base_uri": "https://localhost:8080/"
        },
        "id": "M7PFX0XkmNA7",
        "outputId": "cc9100b2-de79-488b-f34e-7b410e6f821d"
      },
      "execution_count": null,
      "outputs": [
        {
          "output_type": "execute_result",
          "data": {
            "text/plain": [
              "{1, 2, 3, 7}"
            ]
          },
          "metadata": {},
          "execution_count": 15
        }
      ]
    },
    {
      "cell_type": "markdown",
      "source": [
        "**SET METHODS**"
      ],
      "metadata": {
        "id": "n7vZXY88oe3k"
      }
    },
    {
      "cell_type": "code",
      "source": [
        "[i for i in dir(set) if '__' not in i]"
      ],
      "metadata": {
        "colab": {
          "base_uri": "https://localhost:8080/"
        },
        "id": "8uXRIbTjn83t",
        "outputId": "9abd638d-4ab6-4d36-80ee-ab5f5da4e9a1"
      },
      "execution_count": null,
      "outputs": [
        {
          "output_type": "execute_result",
          "data": {
            "text/plain": [
              "['add',\n",
              " 'clear',\n",
              " 'copy',\n",
              " 'difference',\n",
              " 'difference_update',\n",
              " 'discard',\n",
              " 'intersection',\n",
              " 'intersection_update',\n",
              " 'isdisjoint',\n",
              " 'issubset',\n",
              " 'issuperset',\n",
              " 'pop',\n",
              " 'remove',\n",
              " 'symmetric_difference',\n",
              " 'symmetric_difference_update',\n",
              " 'union',\n",
              " 'update']"
            ]
          },
          "metadata": {},
          "execution_count": 16
        }
      ]
    },
    {
      "cell_type": "markdown",
      "source": [
        "**Convert Set to List & vice versa**"
      ],
      "metadata": {
        "id": "UI-x-KiKqUaK"
      }
    },
    {
      "cell_type": "code",
      "source": [
        "data : set = {7,1,2,1,1,1,1,1,3,2}\n",
        "data"
      ],
      "metadata": {
        "colab": {
          "base_uri": "https://localhost:8080/"
        },
        "id": "ZPDX3693oce_",
        "outputId": "09550e88-5f49-475b-b005-c2e864952c52"
      },
      "execution_count": null,
      "outputs": [
        {
          "output_type": "execute_result",
          "data": {
            "text/plain": [
              "{1, 2, 3, 7}"
            ]
          },
          "metadata": {},
          "execution_count": 17
        }
      ]
    },
    {
      "cell_type": "code",
      "source": [
        "myList : list[int] = list(data)\n",
        "myList"
      ],
      "metadata": {
        "colab": {
          "base_uri": "https://localhost:8080/"
        },
        "id": "evhEuzUlqbZH",
        "outputId": "8d8b03d3-3587-4d4c-fc07-3a6ee918a6fc"
      },
      "execution_count": null,
      "outputs": [
        {
          "output_type": "execute_result",
          "data": {
            "text/plain": [
              "[1, 2, 3, 7]"
            ]
          },
          "metadata": {},
          "execution_count": 19
        }
      ]
    },
    {
      "cell_type": "code",
      "source": [
        "mySet : set[int] = set(myList)\n",
        "mySet"
      ],
      "metadata": {
        "colab": {
          "base_uri": "https://localhost:8080/"
        },
        "id": "5Uch9cCeqfhc",
        "outputId": "43f08273-e7cb-4db0-d15f-66842ca13e88"
      },
      "execution_count": null,
      "outputs": [
        {
          "output_type": "execute_result",
          "data": {
            "text/plain": [
              "{1, 2, 3, 7}"
            ]
          },
          "metadata": {},
          "execution_count": 21
        }
      ]
    },
    {
      "cell_type": "code",
      "source": [],
      "metadata": {
        "id": "trplWE14qmVU"
      },
      "execution_count": null,
      "outputs": []
    }
  ]
}